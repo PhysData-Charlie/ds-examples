{
  "cells": [
    {
      "cell_type": "markdown",
      "metadata": {
        "id": "KMgnOckCibTF"
      },
      "source": [
        "## Hotel Cancellations: Analysis & Prediction"
      ]
    },
    {
      "cell_type": "markdown",
      "metadata": {
        "id": "6e5hna4OpyCd"
      },
      "source": [
        "The goal of this notebook is to perform exploratory analysis in order to answer the business questions related to the data for the city and resort hotels, as well as compare the performance of three models to predict if a reservation will be cancelled."
      ]
    },
    {
      "cell_type": "markdown",
      "metadata": {
        "id": "RXnFOh3hjYRu"
      },
      "source": [
        "## Preamble\n",
        "\n",
        "We import the needed libraries and configurations."
      ]
    },
    {
      "cell_type": "code",
      "execution_count": null,
      "metadata": {
        "id": "VgcJcQOHib9U"
      },
      "outputs": [],
      "source": [
        "# data wrangling and visualization\n",
        "import numpy as np\n",
        "import pandas as pd\n",
        "import matplotlib.pyplot as plt\n",
        "import seaborn as sns\n",
        "import plotly.express as px\n",
        "\n",
        "# Machine Learning\n",
        "from sklearn.preprocessing import LabelEncoder\n",
        "from sklearn.preprocessing import OneHotEncoder\n",
        "from sklearn.model_selection import train_test_split\n",
        "from sklearn.linear_model import LogisticRegression\n",
        "from sklearn.metrics import accuracy_score, f1_score, confusion_matrix\n",
        "from sklearn.model_selection import cross_val_score\n",
        "from xgboost import XGBClassifier\n",
        "import keras\n",
        "from keras.layers import Dense\n",
        "from keras.models import Sequential\n",
        "from tensorflow.keras.utils import to_categorical\n",
        "from keras import backend as K\n",
        "\n",
        "# miscellaneous\n",
        "import pycountry\n",
        "import os\n",
        "import missingno as msno\n",
        "import warnings\n",
        "warnings.simplefilter(\"ignore\")"
      ]
    },
    {
      "cell_type": "code",
      "execution_count": null,
      "metadata": {
        "id": "HZIHZd23kcE1"
      },
      "outputs": [],
      "source": [
        "base_dir = '/data/'\n",
        "file_name = 'Hotel.csv'\n",
        "\n",
        "file_dir = os.path.join(base_dir,file_name)\n",
        "\n",
        "if os.path.exists(file_dir):\n",
        "  df = pd.read_csv(file_dir)\n",
        "  print('File loaded succesfully!')\n",
        "  if df.empty:\n",
        "    print('Dataframe empty. Please verify file integrity.')\n",
        "else:\n",
        "  print('Failed to load file. Please verify file location.')"
      ]
    },
    {
      "cell_type": "markdown",
      "metadata": {
        "id": "lzvt4RzumHGW"
      },
      "source": [
        "## I. Data Cleaning\n",
        "\n",
        "We start by performing an exploratory analysis of the data, verifying data integrity. We check for statistics and clean data of any outliers or missing values."
      ]
    },
    {
      "cell_type": "code",
      "execution_count": null,
      "metadata": {
        "colab": {
          "base_uri": "https://localhost:8080/",
          "height": 307
        },
        "id": "Y4cOaQGzlvs0",
        "outputId": "f07b1a8a-815c-4a82-f5ce-85caa000dc71"
      },
      "outputs": [
        {
          "data": {
            "text/html": [
              "<div>\n",
              "<style scoped>\n",
              "    .dataframe tbody tr th:only-of-type {\n",
              "        vertical-align: middle;\n",
              "    }\n",
              "\n",
              "    .dataframe tbody tr th {\n",
              "        vertical-align: top;\n",
              "    }\n",
              "\n",
              "    .dataframe thead th {\n",
              "        text-align: right;\n",
              "    }\n",
              "</style>\n",
              "<table border=\"1\" class=\"dataframe\">\n",
              "  <thead>\n",
              "    <tr style=\"text-align: right;\">\n",
              "      <th></th>\n",
              "      <th>id</th>\n",
              "      <th>hotel</th>\n",
              "      <th>is_canceled</th>\n",
              "      <th>lead_time</th>\n",
              "      <th>arrival_date_year</th>\n",
              "      <th>arrival_date_month</th>\n",
              "      <th>arrival_date_week_number</th>\n",
              "      <th>arrival_date_day_of_month</th>\n",
              "      <th>stays_in_weekend_nights</th>\n",
              "      <th>stays_in_week_nights</th>\n",
              "      <th>adults</th>\n",
              "      <th>children</th>\n",
              "      <th>babies</th>\n",
              "      <th>meal</th>\n",
              "      <th>country</th>\n",
              "      <th>market_segment</th>\n",
              "      <th>distribution_channel</th>\n",
              "      <th>is_repeated_guest</th>\n",
              "      <th>previous_cancellations</th>\n",
              "      <th>previous_bookings_not_canceled</th>\n",
              "      <th>reserved_room_type</th>\n",
              "      <th>assigned_room_type</th>\n",
              "      <th>booking_changes</th>\n",
              "      <th>deposit_type</th>\n",
              "      <th>agent</th>\n",
              "      <th>company</th>\n",
              "      <th>days_in_waiting_list</th>\n",
              "      <th>customer_type</th>\n",
              "      <th>adr</th>\n",
              "      <th>required_car_parking_spaces</th>\n",
              "      <th>total_of_special_requests</th>\n",
              "      <th>reservation_status</th>\n",
              "      <th>reservation_status_date</th>\n",
              "    </tr>\n",
              "  </thead>\n",
              "  <tbody>\n",
              "    <tr>\n",
              "      <th>0</th>\n",
              "      <td>1</td>\n",
              "      <td>Resort Hotel</td>\n",
              "      <td>0</td>\n",
              "      <td>342</td>\n",
              "      <td>2015</td>\n",
              "      <td>July</td>\n",
              "      <td>27</td>\n",
              "      <td>1</td>\n",
              "      <td>0</td>\n",
              "      <td>0</td>\n",
              "      <td>2</td>\n",
              "      <td>0.0</td>\n",
              "      <td>0</td>\n",
              "      <td>BB</td>\n",
              "      <td>PRT</td>\n",
              "      <td>Direct</td>\n",
              "      <td>Direct</td>\n",
              "      <td>0</td>\n",
              "      <td>0</td>\n",
              "      <td>0</td>\n",
              "      <td>C</td>\n",
              "      <td>C</td>\n",
              "      <td>3</td>\n",
              "      <td>No Deposit</td>\n",
              "      <td>NaN</td>\n",
              "      <td>NaN</td>\n",
              "      <td>0</td>\n",
              "      <td>Transient</td>\n",
              "      <td>0.0</td>\n",
              "      <td>0</td>\n",
              "      <td>0</td>\n",
              "      <td>Check-Out</td>\n",
              "      <td>1/7/2015</td>\n",
              "    </tr>\n",
              "    <tr>\n",
              "      <th>1</th>\n",
              "      <td>2</td>\n",
              "      <td>Resort Hotel</td>\n",
              "      <td>0</td>\n",
              "      <td>737</td>\n",
              "      <td>2015</td>\n",
              "      <td>July</td>\n",
              "      <td>27</td>\n",
              "      <td>1</td>\n",
              "      <td>0</td>\n",
              "      <td>0</td>\n",
              "      <td>2</td>\n",
              "      <td>0.0</td>\n",
              "      <td>0</td>\n",
              "      <td>BB</td>\n",
              "      <td>PRT</td>\n",
              "      <td>Direct</td>\n",
              "      <td>Direct</td>\n",
              "      <td>0</td>\n",
              "      <td>0</td>\n",
              "      <td>0</td>\n",
              "      <td>C</td>\n",
              "      <td>C</td>\n",
              "      <td>4</td>\n",
              "      <td>No Deposit</td>\n",
              "      <td>NaN</td>\n",
              "      <td>NaN</td>\n",
              "      <td>0</td>\n",
              "      <td>Transient</td>\n",
              "      <td>0.0</td>\n",
              "      <td>0</td>\n",
              "      <td>0</td>\n",
              "      <td>Check-Out</td>\n",
              "      <td>1/7/2015</td>\n",
              "    </tr>\n",
              "    <tr>\n",
              "      <th>2</th>\n",
              "      <td>3</td>\n",
              "      <td>Resort Hotel</td>\n",
              "      <td>0</td>\n",
              "      <td>7</td>\n",
              "      <td>2015</td>\n",
              "      <td>July</td>\n",
              "      <td>27</td>\n",
              "      <td>1</td>\n",
              "      <td>0</td>\n",
              "      <td>1</td>\n",
              "      <td>1</td>\n",
              "      <td>0.0</td>\n",
              "      <td>0</td>\n",
              "      <td>BB</td>\n",
              "      <td>GBR</td>\n",
              "      <td>Direct</td>\n",
              "      <td>Direct</td>\n",
              "      <td>0</td>\n",
              "      <td>0</td>\n",
              "      <td>0</td>\n",
              "      <td>A</td>\n",
              "      <td>C</td>\n",
              "      <td>0</td>\n",
              "      <td>No Deposit</td>\n",
              "      <td>NaN</td>\n",
              "      <td>NaN</td>\n",
              "      <td>0</td>\n",
              "      <td>Transient</td>\n",
              "      <td>75.0</td>\n",
              "      <td>0</td>\n",
              "      <td>0</td>\n",
              "      <td>Check-Out</td>\n",
              "      <td>2/7/2015</td>\n",
              "    </tr>\n",
              "    <tr>\n",
              "      <th>3</th>\n",
              "      <td>4</td>\n",
              "      <td>Resort Hotel</td>\n",
              "      <td>0</td>\n",
              "      <td>13</td>\n",
              "      <td>2015</td>\n",
              "      <td>July</td>\n",
              "      <td>27</td>\n",
              "      <td>1</td>\n",
              "      <td>0</td>\n",
              "      <td>1</td>\n",
              "      <td>1</td>\n",
              "      <td>0.0</td>\n",
              "      <td>0</td>\n",
              "      <td>BB</td>\n",
              "      <td>GBR</td>\n",
              "      <td>Corporate</td>\n",
              "      <td>Corporate</td>\n",
              "      <td>0</td>\n",
              "      <td>0</td>\n",
              "      <td>0</td>\n",
              "      <td>A</td>\n",
              "      <td>A</td>\n",
              "      <td>0</td>\n",
              "      <td>No Deposit</td>\n",
              "      <td>304.0</td>\n",
              "      <td>NaN</td>\n",
              "      <td>0</td>\n",
              "      <td>Transient</td>\n",
              "      <td>75.0</td>\n",
              "      <td>0</td>\n",
              "      <td>0</td>\n",
              "      <td>Check-Out</td>\n",
              "      <td>2/7/2015</td>\n",
              "    </tr>\n",
              "    <tr>\n",
              "      <th>4</th>\n",
              "      <td>5</td>\n",
              "      <td>Resort Hotel</td>\n",
              "      <td>0</td>\n",
              "      <td>14</td>\n",
              "      <td>2015</td>\n",
              "      <td>July</td>\n",
              "      <td>27</td>\n",
              "      <td>1</td>\n",
              "      <td>0</td>\n",
              "      <td>2</td>\n",
              "      <td>2</td>\n",
              "      <td>0.0</td>\n",
              "      <td>0</td>\n",
              "      <td>BB</td>\n",
              "      <td>GBR</td>\n",
              "      <td>Online TA</td>\n",
              "      <td>TA/TO</td>\n",
              "      <td>0</td>\n",
              "      <td>0</td>\n",
              "      <td>0</td>\n",
              "      <td>A</td>\n",
              "      <td>A</td>\n",
              "      <td>0</td>\n",
              "      <td>No Deposit</td>\n",
              "      <td>240.0</td>\n",
              "      <td>NaN</td>\n",
              "      <td>0</td>\n",
              "      <td>Transient</td>\n",
              "      <td>98.0</td>\n",
              "      <td>0</td>\n",
              "      <td>1</td>\n",
              "      <td>Check-Out</td>\n",
              "      <td>3/7/2015</td>\n",
              "    </tr>\n",
              "  </tbody>\n",
              "</table>\n",
              "</div>"
            ],
            "text/plain": [
              "   id         hotel  ...  reservation_status  reservation_status_date\n",
              "0   1  Resort Hotel  ...           Check-Out                 1/7/2015\n",
              "1   2  Resort Hotel  ...           Check-Out                 1/7/2015\n",
              "2   3  Resort Hotel  ...           Check-Out                 2/7/2015\n",
              "3   4  Resort Hotel  ...           Check-Out                 2/7/2015\n",
              "4   5  Resort Hotel  ...           Check-Out                 3/7/2015\n",
              "\n",
              "[5 rows x 33 columns]"
            ]
          },
          "execution_count": 5,
          "metadata": {
            "tags": []
          },
          "output_type": "execute_result"
        }
      ],
      "source": [
        "# show head of data\n",
        "df.head(5)"
      ]
    },
    {
      "cell_type": "code",
      "execution_count": null,
      "metadata": {
        "colab": {
          "base_uri": "https://localhost:8080/",
          "height": 307
        },
        "id": "ImBCkf4KmGQs",
        "outputId": "76da4e4a-f212-4cec-93e4-f72ca48c79ce"
      },
      "outputs": [
        {
          "data": {
            "text/html": [
              "<div>\n",
              "<style scoped>\n",
              "    .dataframe tbody tr th:only-of-type {\n",
              "        vertical-align: middle;\n",
              "    }\n",
              "\n",
              "    .dataframe tbody tr th {\n",
              "        vertical-align: top;\n",
              "    }\n",
              "\n",
              "    .dataframe thead th {\n",
              "        text-align: right;\n",
              "    }\n",
              "</style>\n",
              "<table border=\"1\" class=\"dataframe\">\n",
              "  <thead>\n",
              "    <tr style=\"text-align: right;\">\n",
              "      <th></th>\n",
              "      <th>id</th>\n",
              "      <th>hotel</th>\n",
              "      <th>is_canceled</th>\n",
              "      <th>lead_time</th>\n",
              "      <th>arrival_date_year</th>\n",
              "      <th>arrival_date_month</th>\n",
              "      <th>arrival_date_week_number</th>\n",
              "      <th>arrival_date_day_of_month</th>\n",
              "      <th>stays_in_weekend_nights</th>\n",
              "      <th>stays_in_week_nights</th>\n",
              "      <th>adults</th>\n",
              "      <th>children</th>\n",
              "      <th>babies</th>\n",
              "      <th>meal</th>\n",
              "      <th>country</th>\n",
              "      <th>market_segment</th>\n",
              "      <th>distribution_channel</th>\n",
              "      <th>is_repeated_guest</th>\n",
              "      <th>previous_cancellations</th>\n",
              "      <th>previous_bookings_not_canceled</th>\n",
              "      <th>reserved_room_type</th>\n",
              "      <th>assigned_room_type</th>\n",
              "      <th>booking_changes</th>\n",
              "      <th>deposit_type</th>\n",
              "      <th>agent</th>\n",
              "      <th>company</th>\n",
              "      <th>days_in_waiting_list</th>\n",
              "      <th>customer_type</th>\n",
              "      <th>adr</th>\n",
              "      <th>required_car_parking_spaces</th>\n",
              "      <th>total_of_special_requests</th>\n",
              "      <th>reservation_status</th>\n",
              "      <th>reservation_status_date</th>\n",
              "    </tr>\n",
              "  </thead>\n",
              "  <tbody>\n",
              "    <tr>\n",
              "      <th>119385</th>\n",
              "      <td>119386</td>\n",
              "      <td>City Hotel</td>\n",
              "      <td>0</td>\n",
              "      <td>23</td>\n",
              "      <td>2017</td>\n",
              "      <td>August</td>\n",
              "      <td>35</td>\n",
              "      <td>30</td>\n",
              "      <td>2</td>\n",
              "      <td>5</td>\n",
              "      <td>2</td>\n",
              "      <td>0.0</td>\n",
              "      <td>0</td>\n",
              "      <td>BB</td>\n",
              "      <td>BEL</td>\n",
              "      <td>Offline TA/TO</td>\n",
              "      <td>TA/TO</td>\n",
              "      <td>0</td>\n",
              "      <td>0</td>\n",
              "      <td>0</td>\n",
              "      <td>A</td>\n",
              "      <td>A</td>\n",
              "      <td>0</td>\n",
              "      <td>No Deposit</td>\n",
              "      <td>394.0</td>\n",
              "      <td>NaN</td>\n",
              "      <td>0</td>\n",
              "      <td>Transient</td>\n",
              "      <td>96.14</td>\n",
              "      <td>0</td>\n",
              "      <td>0</td>\n",
              "      <td>Check-Out</td>\n",
              "      <td>6/9/2017</td>\n",
              "    </tr>\n",
              "    <tr>\n",
              "      <th>119386</th>\n",
              "      <td>119387</td>\n",
              "      <td>City Hotel</td>\n",
              "      <td>0</td>\n",
              "      <td>102</td>\n",
              "      <td>2017</td>\n",
              "      <td>August</td>\n",
              "      <td>35</td>\n",
              "      <td>31</td>\n",
              "      <td>2</td>\n",
              "      <td>5</td>\n",
              "      <td>3</td>\n",
              "      <td>0.0</td>\n",
              "      <td>0</td>\n",
              "      <td>BB</td>\n",
              "      <td>FRA</td>\n",
              "      <td>Online TA</td>\n",
              "      <td>TA/TO</td>\n",
              "      <td>0</td>\n",
              "      <td>0</td>\n",
              "      <td>0</td>\n",
              "      <td>E</td>\n",
              "      <td>E</td>\n",
              "      <td>0</td>\n",
              "      <td>No Deposit</td>\n",
              "      <td>9.0</td>\n",
              "      <td>NaN</td>\n",
              "      <td>0</td>\n",
              "      <td>Transient</td>\n",
              "      <td>225.43</td>\n",
              "      <td>0</td>\n",
              "      <td>2</td>\n",
              "      <td>Check-Out</td>\n",
              "      <td>7/9/2017</td>\n",
              "    </tr>\n",
              "    <tr>\n",
              "      <th>119387</th>\n",
              "      <td>119388</td>\n",
              "      <td>City Hotel</td>\n",
              "      <td>0</td>\n",
              "      <td>34</td>\n",
              "      <td>2017</td>\n",
              "      <td>August</td>\n",
              "      <td>35</td>\n",
              "      <td>31</td>\n",
              "      <td>2</td>\n",
              "      <td>5</td>\n",
              "      <td>2</td>\n",
              "      <td>0.0</td>\n",
              "      <td>0</td>\n",
              "      <td>BB</td>\n",
              "      <td>DEU</td>\n",
              "      <td>Online TA</td>\n",
              "      <td>TA/TO</td>\n",
              "      <td>0</td>\n",
              "      <td>0</td>\n",
              "      <td>0</td>\n",
              "      <td>D</td>\n",
              "      <td>D</td>\n",
              "      <td>0</td>\n",
              "      <td>No Deposit</td>\n",
              "      <td>9.0</td>\n",
              "      <td>NaN</td>\n",
              "      <td>0</td>\n",
              "      <td>Transient</td>\n",
              "      <td>157.71</td>\n",
              "      <td>0</td>\n",
              "      <td>4</td>\n",
              "      <td>Check-Out</td>\n",
              "      <td>7/9/2017</td>\n",
              "    </tr>\n",
              "    <tr>\n",
              "      <th>119388</th>\n",
              "      <td>119389</td>\n",
              "      <td>City Hotel</td>\n",
              "      <td>0</td>\n",
              "      <td>109</td>\n",
              "      <td>2017</td>\n",
              "      <td>August</td>\n",
              "      <td>35</td>\n",
              "      <td>31</td>\n",
              "      <td>2</td>\n",
              "      <td>5</td>\n",
              "      <td>2</td>\n",
              "      <td>0.0</td>\n",
              "      <td>0</td>\n",
              "      <td>BB</td>\n",
              "      <td>GBR</td>\n",
              "      <td>Online TA</td>\n",
              "      <td>TA/TO</td>\n",
              "      <td>0</td>\n",
              "      <td>0</td>\n",
              "      <td>0</td>\n",
              "      <td>A</td>\n",
              "      <td>A</td>\n",
              "      <td>0</td>\n",
              "      <td>No Deposit</td>\n",
              "      <td>89.0</td>\n",
              "      <td>NaN</td>\n",
              "      <td>0</td>\n",
              "      <td>Transient</td>\n",
              "      <td>104.40</td>\n",
              "      <td>0</td>\n",
              "      <td>0</td>\n",
              "      <td>Check-Out</td>\n",
              "      <td>7/9/2017</td>\n",
              "    </tr>\n",
              "    <tr>\n",
              "      <th>119389</th>\n",
              "      <td>119390</td>\n",
              "      <td>City Hotel</td>\n",
              "      <td>0</td>\n",
              "      <td>205</td>\n",
              "      <td>2017</td>\n",
              "      <td>August</td>\n",
              "      <td>35</td>\n",
              "      <td>29</td>\n",
              "      <td>2</td>\n",
              "      <td>7</td>\n",
              "      <td>2</td>\n",
              "      <td>0.0</td>\n",
              "      <td>0</td>\n",
              "      <td>HB</td>\n",
              "      <td>DEU</td>\n",
              "      <td>Online TA</td>\n",
              "      <td>TA/TO</td>\n",
              "      <td>0</td>\n",
              "      <td>0</td>\n",
              "      <td>0</td>\n",
              "      <td>A</td>\n",
              "      <td>A</td>\n",
              "      <td>0</td>\n",
              "      <td>No Deposit</td>\n",
              "      <td>9.0</td>\n",
              "      <td>NaN</td>\n",
              "      <td>0</td>\n",
              "      <td>Transient</td>\n",
              "      <td>151.20</td>\n",
              "      <td>0</td>\n",
              "      <td>2</td>\n",
              "      <td>Check-Out</td>\n",
              "      <td>7/9/2017</td>\n",
              "    </tr>\n",
              "  </tbody>\n",
              "</table>\n",
              "</div>"
            ],
            "text/plain": [
              "            id       hotel  ...  reservation_status  reservation_status_date\n",
              "119385  119386  City Hotel  ...           Check-Out                 6/9/2017\n",
              "119386  119387  City Hotel  ...           Check-Out                 7/9/2017\n",
              "119387  119388  City Hotel  ...           Check-Out                 7/9/2017\n",
              "119388  119389  City Hotel  ...           Check-Out                 7/9/2017\n",
              "119389  119390  City Hotel  ...           Check-Out                 7/9/2017\n",
              "\n",
              "[5 rows x 33 columns]"
            ]
          },
          "execution_count": 6,
          "metadata": {
            "tags": []
          },
          "output_type": "execute_result"
        }
      ],
      "source": [
        "# show tail of data\n",
        "df.tail(5)"
      ]
    },
    {
      "cell_type": "code",
      "execution_count": null,
      "metadata": {
        "colab": {
          "base_uri": "https://localhost:8080/"
        },
        "id": "Y2dr3Dr_tTIo",
        "outputId": "94f84465-6407-4ab5-e9a5-c6e9a2556176"
      },
      "outputs": [
        {
          "data": {
            "text/plain": [
              "(119390, 33)"
            ]
          },
          "execution_count": 7,
          "metadata": {
            "tags": []
          },
          "output_type": "execute_result"
        }
      ],
      "source": [
        "# dataframe dimensions\n",
        "df.shape"
      ]
    },
    {
      "cell_type": "markdown",
      "metadata": {
        "id": "TvgPTZMVtXOe"
      },
      "source": [
        "We have a total of 33 columsn and 119,390 registries."
      ]
    },
    {
      "cell_type": "code",
      "execution_count": null,
      "metadata": {
        "colab": {
          "base_uri": "https://localhost:8080/"
        },
        "id": "qIByBsIMcKpU",
        "outputId": "cedaa446-4edc-46b3-a592-b2809f79a657"
      },
      "outputs": [
        {
          "data": {
            "text/plain": [
              "arrival_date_year  arrival_date_month\n",
              "2015               August                3889\n",
              "                   December              2920\n",
              "                   July                  2776\n",
              "                   November              2340\n",
              "                   October               4957\n",
              "                   September             5114\n",
              "2016               April                 5428\n",
              "                   August                5063\n",
              "                   December              3860\n",
              "                   February              3891\n",
              "                   January               2248\n",
              "                   July                  4572\n",
              "                   June                  5292\n",
              "                   March                 4824\n",
              "                   May                   5478\n",
              "                   November              4454\n",
              "                   October               6203\n",
              "                   September             5394\n",
              "2017               April                 5661\n",
              "                   August                4925\n",
              "                   February              4177\n",
              "                   January               3681\n",
              "                   July                  5313\n",
              "                   June                  5647\n",
              "                   March                 4970\n",
              "                   May                   6313\n",
              "Name: id, dtype: int64"
            ]
          },
          "execution_count": 8,
          "metadata": {
            "tags": []
          },
          "output_type": "execute_result"
        }
      ],
      "source": [
        "# dates for the table\n",
        "df.groupby(['arrival_date_year','arrival_date_month'])['id'].count()"
      ]
    },
    {
      "cell_type": "markdown",
      "metadata": {
        "id": "YfV-rgYNcin3"
      },
      "source": [
        "Data ranges from July 2015 to August 2017."
      ]
    },
    {
      "cell_type": "markdown",
      "metadata": {
        "id": "R8eFZoR2spBd"
      },
      "source": [
        "**Missing values**"
      ]
    },
    {
      "cell_type": "code",
      "execution_count": null,
      "metadata": {
        "colab": {
          "base_uri": "https://localhost:8080/"
        },
        "id": "XkvELSewmfHV",
        "outputId": "3dfc7ae1-a9d1-4e9d-a6f1-ddf550904c4d"
      },
      "outputs": [
        {
          "data": {
            "text/plain": [
              "id                                  int64\n",
              "hotel                              object\n",
              "is_canceled                         int64\n",
              "lead_time                           int64\n",
              "arrival_date_year                   int64\n",
              "arrival_date_month                 object\n",
              "arrival_date_week_number            int64\n",
              "arrival_date_day_of_month           int64\n",
              "stays_in_weekend_nights             int64\n",
              "stays_in_week_nights                int64\n",
              "adults                              int64\n",
              "children                          float64\n",
              "babies                              int64\n",
              "meal                               object\n",
              "country                            object\n",
              "market_segment                     object\n",
              "distribution_channel               object\n",
              "is_repeated_guest                   int64\n",
              "previous_cancellations              int64\n",
              "previous_bookings_not_canceled      int64\n",
              "reserved_room_type                 object\n",
              "assigned_room_type                 object\n",
              "booking_changes                     int64\n",
              "deposit_type                       object\n",
              "agent                             float64\n",
              "company                           float64\n",
              "days_in_waiting_list                int64\n",
              "customer_type                      object\n",
              "adr                               float64\n",
              "required_car_parking_spaces         int64\n",
              "total_of_special_requests           int64\n",
              "reservation_status                 object\n",
              "reservation_status_date            object\n",
              "dtype: object"
            ]
          },
          "execution_count": 9,
          "metadata": {
            "tags": []
          },
          "output_type": "execute_result"
        }
      ],
      "source": [
        "# check for data types per column\n",
        "df.dtypes"
      ]
    },
    {
      "cell_type": "markdown",
      "metadata": {
        "id": "NsTNhIY7nH_l"
      },
      "source": [
        "We have both numerical and categorical values."
      ]
    },
    {
      "cell_type": "code",
      "execution_count": null,
      "metadata": {
        "colab": {
          "base_uri": "https://localhost:8080/"
        },
        "id": "xDA0nQ6wmqcL",
        "outputId": "2297604c-60f3-45ac-d48d-739f2fdbee1b"
      },
      "outputs": [
        {
          "name": "stdout",
          "output_type": "stream",
          "text": [
            "{'Columnas con nulos': 'children', 'Porcentaje de nulos': 0.0}\n",
            "{'Columnas con nulos': 'country', 'Porcentaje de nulos': 0.4}\n",
            "{'Columnas con nulos': 'agent', 'Porcentaje de nulos': 13.7}\n",
            "{'Columnas con nulos': 'company', 'Porcentaje de nulos': 94.3}\n"
          ]
        }
      ],
      "source": [
        "# check columns with missing values.\n",
        "for col in df.columns:\n",
        "  if df[col].isnull().values.any():\n",
        "    print({'Columnas con nulos' : col, 'Porcentaje de nulos' : round(df[col].isnull().sum()/df.shape[0]*100,1)})"
      ]
    },
    {
      "cell_type": "markdown",
      "metadata": {
        "id": "7b5YmzCnv202"
      },
      "source": [
        "We can get a better visualization of missing values with the MissingNo library."
      ]
    },
    {
      "cell_type": "code",
      "execution_count": null,
      "metadata": {
        "colab": {
          "base_uri": "https://localhost:8080/",
          "height": 789
        },
        "id": "bggPpGMewOjo",
        "outputId": "aace0791-ac62-473c-8f9f-47ae00b4d143"
      },
      "outputs": [
        {
          "data": {
            "text/plain": [
              "<matplotlib.axes._subplots.AxesSubplot at 0x7fb98ef93d50>"
            ]
          },
          "execution_count": 11,
          "metadata": {
            "tags": []
          },
          "output_type": "execute_result"
        },
        {
          "data": {
            "image/png": "[encoded data removed]",
            "text/plain": [
              "<Figure size 1728x720 with 3 Axes>"
            ]
          },
          "metadata": {
            "needs_background": "light",
            "tags": []
          },
          "output_type": "display_data"
        }
      ],
      "source": [
        "# percentage of missing values in bar plot\n",
        "msno.bar(df)"
      ]
    },
    {
      "cell_type": "markdown",
      "metadata": {
        "id": "4eLXaw3vnrgt"
      },
      "source": [
        "The columns 'children', 'country', 'agent' and 'company' are the only ones that have missing data. Moreover, for the case of 'company' almost all values are missing, so it is best to drop it.\n",
        "\n",
        "We can check some examples to have a better idea of the cause of missing data."
      ]
    },
    {
      "cell_type": "code",
      "execution_count": null,
      "metadata": {
        "colab": {
          "base_uri": "https://localhost:8080/",
          "height": 164
        },
        "id": "NbAGQT5GnUtk",
        "outputId": "3430c1a1-dd00-4e28-e661-80bdc3f90f46"
      },
      "outputs": [
        {
          "data": {
            "text/html": [
              "<div>\n",
              "<style scoped>\n",
              "    .dataframe tbody tr th:only-of-type {\n",
              "        vertical-align: middle;\n",
              "    }\n",
              "\n",
              "    .dataframe tbody tr th {\n",
              "        vertical-align: top;\n",
              "    }\n",
              "\n",
              "    .dataframe thead th {\n",
              "        text-align: right;\n",
              "    }\n",
              "</style>\n",
              "<table border=\"1\" class=\"dataframe\">\n",
              "  <thead>\n",
              "    <tr style=\"text-align: right;\">\n",
              "      <th></th>\n",
              "      <th>id</th>\n",
              "      <th>hotel</th>\n",
              "      <th>is_canceled</th>\n",
              "      <th>lead_time</th>\n",
              "      <th>arrival_date_year</th>\n",
              "      <th>arrival_date_month</th>\n",
              "      <th>arrival_date_week_number</th>\n",
              "      <th>arrival_date_day_of_month</th>\n",
              "      <th>stays_in_weekend_nights</th>\n",
              "      <th>stays_in_week_nights</th>\n",
              "      <th>adults</th>\n",
              "      <th>children</th>\n",
              "      <th>babies</th>\n",
              "      <th>meal</th>\n",
              "      <th>country</th>\n",
              "      <th>market_segment</th>\n",
              "      <th>distribution_channel</th>\n",
              "      <th>is_repeated_guest</th>\n",
              "      <th>previous_cancellations</th>\n",
              "      <th>previous_bookings_not_canceled</th>\n",
              "      <th>reserved_room_type</th>\n",
              "      <th>assigned_room_type</th>\n",
              "      <th>booking_changes</th>\n",
              "      <th>deposit_type</th>\n",
              "      <th>agent</th>\n",
              "      <th>company</th>\n",
              "      <th>days_in_waiting_list</th>\n",
              "      <th>customer_type</th>\n",
              "      <th>adr</th>\n",
              "      <th>required_car_parking_spaces</th>\n",
              "      <th>total_of_special_requests</th>\n",
              "      <th>reservation_status</th>\n",
              "      <th>reservation_status_date</th>\n",
              "    </tr>\n",
              "  </thead>\n",
              "  <tbody>\n",
              "    <tr>\n",
              "      <th>40600</th>\n",
              "      <td>40601</td>\n",
              "      <td>City Hotel</td>\n",
              "      <td>1</td>\n",
              "      <td>2</td>\n",
              "      <td>2015</td>\n",
              "      <td>August</td>\n",
              "      <td>32</td>\n",
              "      <td>3</td>\n",
              "      <td>1</td>\n",
              "      <td>0</td>\n",
              "      <td>2</td>\n",
              "      <td>NaN</td>\n",
              "      <td>0</td>\n",
              "      <td>BB</td>\n",
              "      <td>PRT</td>\n",
              "      <td>Undefined</td>\n",
              "      <td>Undefined</td>\n",
              "      <td>0</td>\n",
              "      <td>0</td>\n",
              "      <td>0</td>\n",
              "      <td>B</td>\n",
              "      <td>B</td>\n",
              "      <td>0</td>\n",
              "      <td>No Deposit</td>\n",
              "      <td>NaN</td>\n",
              "      <td>NaN</td>\n",
              "      <td>0</td>\n",
              "      <td>Transient-Party</td>\n",
              "      <td>12.0</td>\n",
              "      <td>0</td>\n",
              "      <td>1</td>\n",
              "      <td>Canceled</td>\n",
              "      <td>1/8/2015</td>\n",
              "    </tr>\n",
              "    <tr>\n",
              "      <th>40667</th>\n",
              "      <td>40668</td>\n",
              "      <td>City Hotel</td>\n",
              "      <td>1</td>\n",
              "      <td>1</td>\n",
              "      <td>2015</td>\n",
              "      <td>August</td>\n",
              "      <td>32</td>\n",
              "      <td>5</td>\n",
              "      <td>0</td>\n",
              "      <td>2</td>\n",
              "      <td>2</td>\n",
              "      <td>NaN</td>\n",
              "      <td>0</td>\n",
              "      <td>BB</td>\n",
              "      <td>PRT</td>\n",
              "      <td>Direct</td>\n",
              "      <td>Undefined</td>\n",
              "      <td>0</td>\n",
              "      <td>0</td>\n",
              "      <td>0</td>\n",
              "      <td>B</td>\n",
              "      <td>B</td>\n",
              "      <td>0</td>\n",
              "      <td>No Deposit</td>\n",
              "      <td>14.0</td>\n",
              "      <td>NaN</td>\n",
              "      <td>0</td>\n",
              "      <td>Transient-Party</td>\n",
              "      <td>12.0</td>\n",
              "      <td>0</td>\n",
              "      <td>1</td>\n",
              "      <td>Canceled</td>\n",
              "      <td>4/8/2015</td>\n",
              "    </tr>\n",
              "  </tbody>\n",
              "</table>\n",
              "</div>"
            ],
            "text/plain": [
              "          id       hotel  ...  reservation_status  reservation_status_date\n",
              "40600  40601  City Hotel  ...            Canceled                 1/8/2015\n",
              "40667  40668  City Hotel  ...            Canceled                 4/8/2015\n",
              "\n",
              "[2 rows x 33 columns]"
            ]
          },
          "execution_count": 12,
          "metadata": {
            "tags": []
          },
          "output_type": "execute_result"
        }
      ],
      "source": [
        "df[pd.isnull(df['children'])].head(2)"
      ]
    },
    {
      "cell_type": "code",
      "execution_count": null,
      "metadata": {
        "colab": {
          "base_uri": "https://localhost:8080/",
          "height": 164
        },
        "id": "kkUCGCkjn0B0",
        "outputId": "2660b471-1b21-4330-8e0a-7679eb8e4182"
      },
      "outputs": [
        {
          "data": {
            "text/html": [
              "<div>\n",
              "<style scoped>\n",
              "    .dataframe tbody tr th:only-of-type {\n",
              "        vertical-align: middle;\n",
              "    }\n",
              "\n",
              "    .dataframe tbody tr th {\n",
              "        vertical-align: top;\n",
              "    }\n",
              "\n",
              "    .dataframe thead th {\n",
              "        text-align: right;\n",
              "    }\n",
              "</style>\n",
              "<table border=\"1\" class=\"dataframe\">\n",
              "  <thead>\n",
              "    <tr style=\"text-align: right;\">\n",
              "      <th></th>\n",
              "      <th>id</th>\n",
              "      <th>hotel</th>\n",
              "      <th>is_canceled</th>\n",
              "      <th>lead_time</th>\n",
              "      <th>arrival_date_year</th>\n",
              "      <th>arrival_date_month</th>\n",
              "      <th>arrival_date_week_number</th>\n",
              "      <th>arrival_date_day_of_month</th>\n",
              "      <th>stays_in_weekend_nights</th>\n",
              "      <th>stays_in_week_nights</th>\n",
              "      <th>adults</th>\n",
              "      <th>children</th>\n",
              "      <th>babies</th>\n",
              "      <th>meal</th>\n",
              "      <th>country</th>\n",
              "      <th>market_segment</th>\n",
              "      <th>distribution_channel</th>\n",
              "      <th>is_repeated_guest</th>\n",
              "      <th>previous_cancellations</th>\n",
              "      <th>previous_bookings_not_canceled</th>\n",
              "      <th>reserved_room_type</th>\n",
              "      <th>assigned_room_type</th>\n",
              "      <th>booking_changes</th>\n",
              "      <th>deposit_type</th>\n",
              "      <th>agent</th>\n",
              "      <th>company</th>\n",
              "      <th>days_in_waiting_list</th>\n",
              "      <th>customer_type</th>\n",
              "      <th>adr</th>\n",
              "      <th>required_car_parking_spaces</th>\n",
              "      <th>total_of_special_requests</th>\n",
              "      <th>reservation_status</th>\n",
              "      <th>reservation_status_date</th>\n",
              "    </tr>\n",
              "  </thead>\n",
              "  <tbody>\n",
              "    <tr>\n",
              "      <th>0</th>\n",
              "      <td>1</td>\n",
              "      <td>Resort Hotel</td>\n",
              "      <td>0</td>\n",
              "      <td>342</td>\n",
              "      <td>2015</td>\n",
              "      <td>July</td>\n",
              "      <td>27</td>\n",
              "      <td>1</td>\n",
              "      <td>0</td>\n",
              "      <td>0</td>\n",
              "      <td>2</td>\n",
              "      <td>0.0</td>\n",
              "      <td>0</td>\n",
              "      <td>BB</td>\n",
              "      <td>PRT</td>\n",
              "      <td>Direct</td>\n",
              "      <td>Direct</td>\n",
              "      <td>0</td>\n",
              "      <td>0</td>\n",
              "      <td>0</td>\n",
              "      <td>C</td>\n",
              "      <td>C</td>\n",
              "      <td>3</td>\n",
              "      <td>No Deposit</td>\n",
              "      <td>NaN</td>\n",
              "      <td>NaN</td>\n",
              "      <td>0</td>\n",
              "      <td>Transient</td>\n",
              "      <td>0.0</td>\n",
              "      <td>0</td>\n",
              "      <td>0</td>\n",
              "      <td>Check-Out</td>\n",
              "      <td>1/7/2015</td>\n",
              "    </tr>\n",
              "    <tr>\n",
              "      <th>1</th>\n",
              "      <td>2</td>\n",
              "      <td>Resort Hotel</td>\n",
              "      <td>0</td>\n",
              "      <td>737</td>\n",
              "      <td>2015</td>\n",
              "      <td>July</td>\n",
              "      <td>27</td>\n",
              "      <td>1</td>\n",
              "      <td>0</td>\n",
              "      <td>0</td>\n",
              "      <td>2</td>\n",
              "      <td>0.0</td>\n",
              "      <td>0</td>\n",
              "      <td>BB</td>\n",
              "      <td>PRT</td>\n",
              "      <td>Direct</td>\n",
              "      <td>Direct</td>\n",
              "      <td>0</td>\n",
              "      <td>0</td>\n",
              "      <td>0</td>\n",
              "      <td>C</td>\n",
              "      <td>C</td>\n",
              "      <td>4</td>\n",
              "      <td>No Deposit</td>\n",
              "      <td>NaN</td>\n",
              "      <td>NaN</td>\n",
              "      <td>0</td>\n",
              "      <td>Transient</td>\n",
              "      <td>0.0</td>\n",
              "      <td>0</td>\n",
              "      <td>0</td>\n",
              "      <td>Check-Out</td>\n",
              "      <td>1/7/2015</td>\n",
              "    </tr>\n",
              "  </tbody>\n",
              "</table>\n",
              "</div>"
            ],
            "text/plain": [
              "   id         hotel  ...  reservation_status  reservation_status_date\n",
              "0   1  Resort Hotel  ...           Check-Out                 1/7/2015\n",
              "1   2  Resort Hotel  ...           Check-Out                 1/7/2015\n",
              "\n",
              "[2 rows x 33 columns]"
            ]
          },
          "execution_count": 13,
          "metadata": {
            "tags": []
          },
          "output_type": "execute_result"
        }
      ],
      "source": [
        "df[pd.isnull(df['agent'])].head(2)"
      ]
    },
    {
      "cell_type": "markdown",
      "metadata": {
        "id": "1ykRFIl9o32-"
      },
      "source": [
        "Since we are dealing with hotel reservations, the explanation of why we have missing data in these columns is as follows:\n",
        "\n",
        "* 'children': not all people who book have children, so it is very likely that at the time of booking they simply left this field empty. Therefore, we can replace null values with 0.\n",
        "* country': in this case we are dealing with people who did not specify their country of origin. Since countries are categorical data, we can replace null values by UNKNOWN.\n",
        "* agent': in this case these are people who did not book through an agency, i.e. they booked their hotel directly. Since agents are identified numerically, we can replace null values by 0 (equivalent to 'no agent').\n",
        "* company': in this case we are dealing with people who do not belong to any company. Since most of the data is missing, we drop this column all together."
      ]
    },
    {
      "cell_type": "code",
      "execution_count": null,
      "metadata": {
        "colab": {
          "base_uri": "https://localhost:8080/",
          "height": 307
        },
        "id": "QCHEARyroRQt",
        "outputId": "ebb43541-72bd-4e19-8b02-5ee49e03ebc3"
      },
      "outputs": [
        {
          "data": {
            "text/html": [
              "<div>\n",
              "<style scoped>\n",
              "    .dataframe tbody tr th:only-of-type {\n",
              "        vertical-align: middle;\n",
              "    }\n",
              "\n",
              "    .dataframe tbody tr th {\n",
              "        vertical-align: top;\n",
              "    }\n",
              "\n",
              "    .dataframe thead th {\n",
              "        text-align: right;\n",
              "    }\n",
              "</style>\n",
              "<table border=\"1\" class=\"dataframe\">\n",
              "  <thead>\n",
              "    <tr style=\"text-align: right;\">\n",
              "      <th></th>\n",
              "      <th>index</th>\n",
              "      <th>id</th>\n",
              "      <th>hotel</th>\n",
              "      <th>is_canceled</th>\n",
              "      <th>lead_time</th>\n",
              "      <th>arrival_date_year</th>\n",
              "      <th>arrival_date_month</th>\n",
              "      <th>arrival_date_week_number</th>\n",
              "      <th>arrival_date_day_of_month</th>\n",
              "      <th>stays_in_weekend_nights</th>\n",
              "      <th>stays_in_week_nights</th>\n",
              "      <th>adults</th>\n",
              "      <th>children</th>\n",
              "      <th>babies</th>\n",
              "      <th>meal</th>\n",
              "      <th>country</th>\n",
              "      <th>market_segment</th>\n",
              "      <th>distribution_channel</th>\n",
              "      <th>is_repeated_guest</th>\n",
              "      <th>previous_cancellations</th>\n",
              "      <th>previous_bookings_not_canceled</th>\n",
              "      <th>reserved_room_type</th>\n",
              "      <th>assigned_room_type</th>\n",
              "      <th>booking_changes</th>\n",
              "      <th>deposit_type</th>\n",
              "      <th>agent</th>\n",
              "      <th>days_in_waiting_list</th>\n",
              "      <th>customer_type</th>\n",
              "      <th>adr</th>\n",
              "      <th>required_car_parking_spaces</th>\n",
              "      <th>total_of_special_requests</th>\n",
              "      <th>reservation_status</th>\n",
              "      <th>reservation_status_date</th>\n",
              "    </tr>\n",
              "  </thead>\n",
              "  <tbody>\n",
              "    <tr>\n",
              "      <th>0</th>\n",
              "      <td>0</td>\n",
              "      <td>1</td>\n",
              "      <td>Resort Hotel</td>\n",
              "      <td>0</td>\n",
              "      <td>342</td>\n",
              "      <td>2015</td>\n",
              "      <td>July</td>\n",
              "      <td>27</td>\n",
              "      <td>1</td>\n",
              "      <td>0</td>\n",
              "      <td>0</td>\n",
              "      <td>2</td>\n",
              "      <td>0.0</td>\n",
              "      <td>0</td>\n",
              "      <td>BB</td>\n",
              "      <td>PRT</td>\n",
              "      <td>Direct</td>\n",
              "      <td>Direct</td>\n",
              "      <td>0</td>\n",
              "      <td>0</td>\n",
              "      <td>0</td>\n",
              "      <td>C</td>\n",
              "      <td>C</td>\n",
              "      <td>3</td>\n",
              "      <td>No Deposit</td>\n",
              "      <td>0.0</td>\n",
              "      <td>0</td>\n",
              "      <td>Transient</td>\n",
              "      <td>0.0</td>\n",
              "      <td>0</td>\n",
              "      <td>0</td>\n",
              "      <td>Check-Out</td>\n",
              "      <td>1/7/2015</td>\n",
              "    </tr>\n",
              "    <tr>\n",
              "      <th>1</th>\n",
              "      <td>1</td>\n",
              "      <td>2</td>\n",
              "      <td>Resort Hotel</td>\n",
              "      <td>0</td>\n",
              "      <td>737</td>\n",
              "      <td>2015</td>\n",
              "      <td>July</td>\n",
              "      <td>27</td>\n",
              "      <td>1</td>\n",
              "      <td>0</td>\n",
              "      <td>0</td>\n",
              "      <td>2</td>\n",
              "      <td>0.0</td>\n",
              "      <td>0</td>\n",
              "      <td>BB</td>\n",
              "      <td>PRT</td>\n",
              "      <td>Direct</td>\n",
              "      <td>Direct</td>\n",
              "      <td>0</td>\n",
              "      <td>0</td>\n",
              "      <td>0</td>\n",
              "      <td>C</td>\n",
              "      <td>C</td>\n",
              "      <td>4</td>\n",
              "      <td>No Deposit</td>\n",
              "      <td>0.0</td>\n",
              "      <td>0</td>\n",
              "      <td>Transient</td>\n",
              "      <td>0.0</td>\n",
              "      <td>0</td>\n",
              "      <td>0</td>\n",
              "      <td>Check-Out</td>\n",
              "      <td>1/7/2015</td>\n",
              "    </tr>\n",
              "    <tr>\n",
              "      <th>2</th>\n",
              "      <td>2</td>\n",
              "      <td>3</td>\n",
              "      <td>Resort Hotel</td>\n",
              "      <td>0</td>\n",
              "      <td>7</td>\n",
              "      <td>2015</td>\n",
              "      <td>July</td>\n",
              "      <td>27</td>\n",
              "      <td>1</td>\n",
              "      <td>0</td>\n",
              "      <td>1</td>\n",
              "      <td>1</td>\n",
              "      <td>0.0</td>\n",
              "      <td>0</td>\n",
              "      <td>BB</td>\n",
              "      <td>GBR</td>\n",
              "      <td>Direct</td>\n",
              "      <td>Direct</td>\n",
              "      <td>0</td>\n",
              "      <td>0</td>\n",
              "      <td>0</td>\n",
              "      <td>A</td>\n",
              "      <td>C</td>\n",
              "      <td>0</td>\n",
              "      <td>No Deposit</td>\n",
              "      <td>0.0</td>\n",
              "      <td>0</td>\n",
              "      <td>Transient</td>\n",
              "      <td>75.0</td>\n",
              "      <td>0</td>\n",
              "      <td>0</td>\n",
              "      <td>Check-Out</td>\n",
              "      <td>2/7/2015</td>\n",
              "    </tr>\n",
              "    <tr>\n",
              "      <th>3</th>\n",
              "      <td>3</td>\n",
              "      <td>4</td>\n",
              "      <td>Resort Hotel</td>\n",
              "      <td>0</td>\n",
              "      <td>13</td>\n",
              "      <td>2015</td>\n",
              "      <td>July</td>\n",
              "      <td>27</td>\n",
              "      <td>1</td>\n",
              "      <td>0</td>\n",
              "      <td>1</td>\n",
              "      <td>1</td>\n",
              "      <td>0.0</td>\n",
              "      <td>0</td>\n",
              "      <td>BB</td>\n",
              "      <td>GBR</td>\n",
              "      <td>Corporate</td>\n",
              "      <td>Corporate</td>\n",
              "      <td>0</td>\n",
              "      <td>0</td>\n",
              "      <td>0</td>\n",
              "      <td>A</td>\n",
              "      <td>A</td>\n",
              "      <td>0</td>\n",
              "      <td>No Deposit</td>\n",
              "      <td>304.0</td>\n",
              "      <td>0</td>\n",
              "      <td>Transient</td>\n",
              "      <td>75.0</td>\n",
              "      <td>0</td>\n",
              "      <td>0</td>\n",
              "      <td>Check-Out</td>\n",
              "      <td>2/7/2015</td>\n",
              "    </tr>\n",
              "    <tr>\n",
              "      <th>4</th>\n",
              "      <td>4</td>\n",
              "      <td>5</td>\n",
              "      <td>Resort Hotel</td>\n",
              "      <td>0</td>\n",
              "      <td>14</td>\n",
              "      <td>2015</td>\n",
              "      <td>July</td>\n",
              "      <td>27</td>\n",
              "      <td>1</td>\n",
              "      <td>0</td>\n",
              "      <td>2</td>\n",
              "      <td>2</td>\n",
              "      <td>0.0</td>\n",
              "      <td>0</td>\n",
              "      <td>BB</td>\n",
              "      <td>GBR</td>\n",
              "      <td>Online TA</td>\n",
              "      <td>TA/TO</td>\n",
              "      <td>0</td>\n",
              "      <td>0</td>\n",
              "      <td>0</td>\n",
              "      <td>A</td>\n",
              "      <td>A</td>\n",
              "      <td>0</td>\n",
              "      <td>No Deposit</td>\n",
              "      <td>240.0</td>\n",
              "      <td>0</td>\n",
              "      <td>Transient</td>\n",
              "      <td>98.0</td>\n",
              "      <td>0</td>\n",
              "      <td>1</td>\n",
              "      <td>Check-Out</td>\n",
              "      <td>3/7/2015</td>\n",
              "    </tr>\n",
              "  </tbody>\n",
              "</table>\n",
              "</div>"
            ],
            "text/plain": [
              "   index  id  ... reservation_status  reservation_status_date\n",
              "0      0   1  ...          Check-Out                 1/7/2015\n",
              "1      1   2  ...          Check-Out                 1/7/2015\n",
              "2      2   3  ...          Check-Out                 2/7/2015\n",
              "3      3   4  ...          Check-Out                 2/7/2015\n",
              "4      4   5  ...          Check-Out                 3/7/2015\n",
              "\n",
              "[5 rows x 33 columns]"
            ]
          },
          "execution_count": 14,
          "metadata": {
            "tags": []
          },
          "output_type": "execute_result"
        }
      ],
      "source": [
        "# replace NaN in column 'children'\n",
        "df['children'] = df['children'].fillna(0)\n",
        "\n",
        "# replace NaN in column 'country'\n",
        "df['country'] = df['country'].replace(np.nan,'UNKNOWN')\n",
        "\n",
        "# replace NaN in column 'agent'\n",
        "df['agent'] = df['agent'].fillna(0)\n",
        "\n",
        "# drop column 'company'\n",
        "df.drop('company', axis=1, inplace=True)\n",
        "\n",
        "# reset indices\n",
        "df.reset_index(inplace=True)\n",
        "\n",
        "df.head(5)"
      ]
    },
    {
      "cell_type": "code",
      "execution_count": null,
      "metadata": {
        "colab": {
          "base_uri": "https://localhost:8080/"
        },
        "id": "_jZLaICgw0nQ",
        "outputId": "09f43f5d-b63c-4f73-fe5d-ddfa2d929342"
      },
      "outputs": [
        {
          "data": {
            "text/plain": [
              "False"
            ]
          },
          "execution_count": 15,
          "metadata": {
            "tags": []
          },
          "output_type": "execute_result"
        }
      ],
      "source": [
        "# check again for missing values\n",
        "df.isnull().values.any()"
      ]
    },
    {
      "cell_type": "markdown",
      "metadata": {
        "id": "nYrjRLd9staV"
      },
      "source": [
        "**Dealing with outliers**"
      ]
    },
    {
      "cell_type": "markdown",
      "metadata": {
        "id": "LXGqqVnZygz_"
      },
      "source": [
        "Let's check the statistics for the numerical columns of the dataset."
      ]
    },
    {
      "cell_type": "code",
      "execution_count": null,
      "metadata": {
        "colab": {
          "base_uri": "https://localhost:8080/",
          "height": 315
        },
        "id": "yButFLyoszk1",
        "outputId": "8f6c2460-7951-43a9-ffde-727a3b9386ba"
      },
      "outputs": [
        {
          "data": {
            "text/html": [
              "<div>\n",
              "<style scoped>\n",
              "    .dataframe tbody tr th:only-of-type {\n",
              "        vertical-align: middle;\n",
              "    }\n",
              "\n",
              "    .dataframe tbody tr th {\n",
              "        vertical-align: top;\n",
              "    }\n",
              "\n",
              "    .dataframe thead th {\n",
              "        text-align: right;\n",
              "    }\n",
              "</style>\n",
              "<table border=\"1\" class=\"dataframe\">\n",
              "  <thead>\n",
              "    <tr style=\"text-align: right;\">\n",
              "      <th></th>\n",
              "      <th>index</th>\n",
              "      <th>id</th>\n",
              "      <th>is_canceled</th>\n",
              "      <th>lead_time</th>\n",
              "      <th>arrival_date_year</th>\n",
              "      <th>arrival_date_week_number</th>\n",
              "      <th>arrival_date_day_of_month</th>\n",
              "      <th>stays_in_weekend_nights</th>\n",
              "      <th>stays_in_week_nights</th>\n",
              "      <th>adults</th>\n",
              "      <th>children</th>\n",
              "      <th>babies</th>\n",
              "      <th>is_repeated_guest</th>\n",
              "      <th>previous_cancellations</th>\n",
              "      <th>previous_bookings_not_canceled</th>\n",
              "      <th>booking_changes</th>\n",
              "      <th>agent</th>\n",
              "      <th>days_in_waiting_list</th>\n",
              "      <th>adr</th>\n",
              "      <th>required_car_parking_spaces</th>\n",
              "      <th>total_of_special_requests</th>\n",
              "    </tr>\n",
              "  </thead>\n",
              "  <tbody>\n",
              "    <tr>\n",
              "      <th>count</th>\n",
              "      <td>119390.000000</td>\n",
              "      <td>119390.000000</td>\n",
              "      <td>119390.000000</td>\n",
              "      <td>119390.000000</td>\n",
              "      <td>119390.000000</td>\n",
              "      <td>119390.000000</td>\n",
              "      <td>119390.000000</td>\n",
              "      <td>119390.000000</td>\n",
              "      <td>119390.000000</td>\n",
              "      <td>119390.000000</td>\n",
              "      <td>119390.000000</td>\n",
              "      <td>119390.000000</td>\n",
              "      <td>119390.000000</td>\n",
              "      <td>119390.000000</td>\n",
              "      <td>119390.000000</td>\n",
              "      <td>119390.000000</td>\n",
              "      <td>119390.000000</td>\n",
              "      <td>119390.000000</td>\n",
              "      <td>119390.000000</td>\n",
              "      <td>119390.000000</td>\n",
              "      <td>119390.000000</td>\n",
              "    </tr>\n",
              "    <tr>\n",
              "      <th>mean</th>\n",
              "      <td>59694.500000</td>\n",
              "      <td>59695.500000</td>\n",
              "      <td>0.370416</td>\n",
              "      <td>104.011416</td>\n",
              "      <td>2016.156554</td>\n",
              "      <td>27.165173</td>\n",
              "      <td>15.798241</td>\n",
              "      <td>0.927599</td>\n",
              "      <td>2.500302</td>\n",
              "      <td>1.856403</td>\n",
              "      <td>0.103886</td>\n",
              "      <td>0.007949</td>\n",
              "      <td>0.031912</td>\n",
              "      <td>0.087118</td>\n",
              "      <td>0.137097</td>\n",
              "      <td>0.221124</td>\n",
              "      <td>74.828319</td>\n",
              "      <td>2.321149</td>\n",
              "      <td>101.831122</td>\n",
              "      <td>0.062518</td>\n",
              "      <td>0.571363</td>\n",
              "    </tr>\n",
              "    <tr>\n",
              "      <th>std</th>\n",
              "      <td>34465.068657</td>\n",
              "      <td>34465.068657</td>\n",
              "      <td>0.482918</td>\n",
              "      <td>106.863097</td>\n",
              "      <td>0.707476</td>\n",
              "      <td>13.605138</td>\n",
              "      <td>8.780829</td>\n",
              "      <td>0.998613</td>\n",
              "      <td>1.908286</td>\n",
              "      <td>0.579261</td>\n",
              "      <td>0.398555</td>\n",
              "      <td>0.097436</td>\n",
              "      <td>0.175767</td>\n",
              "      <td>0.844336</td>\n",
              "      <td>1.497437</td>\n",
              "      <td>0.652306</td>\n",
              "      <td>107.141953</td>\n",
              "      <td>17.594721</td>\n",
              "      <td>50.535790</td>\n",
              "      <td>0.245291</td>\n",
              "      <td>0.792798</td>\n",
              "    </tr>\n",
              "    <tr>\n",
              "      <th>min</th>\n",
              "      <td>0.000000</td>\n",
              "      <td>1.000000</td>\n",
              "      <td>0.000000</td>\n",
              "      <td>0.000000</td>\n",
              "      <td>2015.000000</td>\n",
              "      <td>1.000000</td>\n",
              "      <td>1.000000</td>\n",
              "      <td>0.000000</td>\n",
              "      <td>0.000000</td>\n",
              "      <td>0.000000</td>\n",
              "      <td>0.000000</td>\n",
              "      <td>0.000000</td>\n",
              "      <td>0.000000</td>\n",
              "      <td>0.000000</td>\n",
              "      <td>0.000000</td>\n",
              "      <td>0.000000</td>\n",
              "      <td>0.000000</td>\n",
              "      <td>0.000000</td>\n",
              "      <td>-6.380000</td>\n",
              "      <td>0.000000</td>\n",
              "      <td>0.000000</td>\n",
              "    </tr>\n",
              "    <tr>\n",
              "      <th>25%</th>\n",
              "      <td>29847.250000</td>\n",
              "      <td>29848.250000</td>\n",
              "      <td>0.000000</td>\n",
              "      <td>18.000000</td>\n",
              "      <td>2016.000000</td>\n",
              "      <td>16.000000</td>\n",
              "      <td>8.000000</td>\n",
              "      <td>0.000000</td>\n",
              "      <td>1.000000</td>\n",
              "      <td>2.000000</td>\n",
              "      <td>0.000000</td>\n",
              "      <td>0.000000</td>\n",
              "      <td>0.000000</td>\n",
              "      <td>0.000000</td>\n",
              "      <td>0.000000</td>\n",
              "      <td>0.000000</td>\n",
              "      <td>7.000000</td>\n",
              "      <td>0.000000</td>\n",
              "      <td>69.290000</td>\n",
              "      <td>0.000000</td>\n",
              "      <td>0.000000</td>\n",
              "    </tr>\n",
              "    <tr>\n",
              "      <th>50%</th>\n",
              "      <td>59694.500000</td>\n",
              "      <td>59695.500000</td>\n",
              "      <td>0.000000</td>\n",
              "      <td>69.000000</td>\n",
              "      <td>2016.000000</td>\n",
              "      <td>28.000000</td>\n",
              "      <td>16.000000</td>\n",
              "      <td>1.000000</td>\n",
              "      <td>2.000000</td>\n",
              "      <td>2.000000</td>\n",
              "      <td>0.000000</td>\n",
              "      <td>0.000000</td>\n",
              "      <td>0.000000</td>\n",
              "      <td>0.000000</td>\n",
              "      <td>0.000000</td>\n",
              "      <td>0.000000</td>\n",
              "      <td>9.000000</td>\n",
              "      <td>0.000000</td>\n",
              "      <td>94.575000</td>\n",
              "      <td>0.000000</td>\n",
              "      <td>0.000000</td>\n",
              "    </tr>\n",
              "    <tr>\n",
              "      <th>75%</th>\n",
              "      <td>89541.750000</td>\n",
              "      <td>89542.750000</td>\n",
              "      <td>1.000000</td>\n",
              "      <td>160.000000</td>\n",
              "      <td>2017.000000</td>\n",
              "      <td>38.000000</td>\n",
              "      <td>23.000000</td>\n",
              "      <td>2.000000</td>\n",
              "      <td>3.000000</td>\n",
              "      <td>2.000000</td>\n",
              "      <td>0.000000</td>\n",
              "      <td>0.000000</td>\n",
              "      <td>0.000000</td>\n",
              "      <td>0.000000</td>\n",
              "      <td>0.000000</td>\n",
              "      <td>0.000000</td>\n",
              "      <td>152.000000</td>\n",
              "      <td>0.000000</td>\n",
              "      <td>126.000000</td>\n",
              "      <td>0.000000</td>\n",
              "      <td>1.000000</td>\n",
              "    </tr>\n",
              "    <tr>\n",
              "      <th>max</th>\n",
              "      <td>119389.000000</td>\n",
              "      <td>119390.000000</td>\n",
              "      <td>1.000000</td>\n",
              "      <td>737.000000</td>\n",
              "      <td>2017.000000</td>\n",
              "      <td>53.000000</td>\n",
              "      <td>31.000000</td>\n",
              "      <td>19.000000</td>\n",
              "      <td>50.000000</td>\n",
              "      <td>55.000000</td>\n",
              "      <td>10.000000</td>\n",
              "      <td>10.000000</td>\n",
              "      <td>1.000000</td>\n",
              "      <td>26.000000</td>\n",
              "      <td>72.000000</td>\n",
              "      <td>21.000000</td>\n",
              "      <td>535.000000</td>\n",
              "      <td>391.000000</td>\n",
              "      <td>5400.000000</td>\n",
              "      <td>8.000000</td>\n",
              "      <td>5.000000</td>\n",
              "    </tr>\n",
              "  </tbody>\n",
              "</table>\n",
              "</div>"
            ],
            "text/plain": [
              "               index  ...  total_of_special_requests\n",
              "count  119390.000000  ...              119390.000000\n",
              "mean    59694.500000  ...                   0.571363\n",
              "std     34465.068657  ...                   0.792798\n",
              "min         0.000000  ...                   0.000000\n",
              "25%     29847.250000  ...                   0.000000\n",
              "50%     59694.500000  ...                   0.000000\n",
              "75%     89541.750000  ...                   1.000000\n",
              "max    119389.000000  ...                   5.000000\n",
              "\n",
              "[8 rows x 21 columns]"
            ]
          },
          "execution_count": 16,
          "metadata": {
            "tags": []
          },
          "output_type": "execute_result"
        }
      ],
      "source": [
        "# general statistics of dataframe\n",
        "df.describe()"
      ]
    },
    {
      "cell_type": "markdown",
      "metadata": {
        "id": "pH5MgVJ00U3Z"
      },
      "source": [
        "We can see that we have ouliers, such as '737' in lead_time. These are usually generated by errors when entering or copying data, or they can be completely natural and random events. We usually want to eliminate these types of values, as they can introduce a lot of variance into our predictive model. However, it is also important to mention that they can be a source of relevant information to understand unusual behaviors given a situation.\n",
        "\n",
        "Therefore, before making a decision, it is convenient that we analyze a little better the distribution of such outliers."
      ]
    },
    {
      "cell_type": "markdown",
      "metadata": {
        "id": "F2mnqe6d3Bjo"
      },
      "source": [
        "We identify the presence of outliers in the following columns:\n",
        "\n",
        "* lead_time\n",
        "* stays_in_weekend_nights\n",
        "* stays_in_week_nights\n",
        "* adults\n",
        "* children\n",
        "* babies\n",
        "* previous_cancellations\n",
        "* previous_bookings_not_canceled\n",
        "* booking_changes\n",
        "* days_in_waiting_list\n",
        "* adr"
      ]
    },
    {
      "cell_type": "code",
      "execution_count": null,
      "metadata": {
        "colab": {
          "base_uri": "https://localhost:8080/",
          "height": 547
        },
        "id": "j3ks9P_OydwV",
        "outputId": "772f8fe4-3e5f-45ec-f813-c6386f820432"
      },
      "outputs": [
        {
          "data": {
            "image/png": "[encoded data removed]",
            "text/plain": [
              "<Figure size 1152x648 with 11 Axes>"
            ]
          },
          "metadata": {
            "needs_background": "light",
            "tags": []
          },
          "output_type": "display_data"
        }
      ],
      "source": [
        "# define list of columns with ouliers\n",
        "out_cols = ['lead_time', 'stays_in_weekend_nights', 'stays_in_week_nights', 'adults',\n",
        "            'children', 'babies', 'previous_cancellations', 'previous_bookings_not_canceled',\n",
        "            'booking_changes', 'days_in_waiting_list', 'adr']\n",
        "\n",
        "plt.figure(figsize=(16,9))\n",
        "\n",
        "# plot boxplots in groups\n",
        "for i, col in enumerate(out_cols):\n",
        "  plt.subplot(4,3,i+1)\n",
        "  sns.boxplot(df[col])\n",
        "  plt.xlabel('')\n",
        "  plt.ylabel(col)"
      ]
    },
    {
      "cell_type": "markdown",
      "metadata": {
        "id": "CaVLqr4q-VRT"
      },
      "source": [
        "We are interested in knowing the percentage of extreme values that exceed the mean, i.e., that are above the quantile plus 1.5 times the interquantile range, since these are the cases that can most affect a potential client's reservation and stay."
      ]
    },
    {
      "cell_type": "code",
      "execution_count": null,
      "metadata": {
        "colab": {
          "base_uri": "https://localhost:8080/"
        },
        "id": "FQmIyssn7xoR",
        "outputId": "a5c24924-67a8-479f-b51e-664498aaf11f"
      },
      "outputs": [
        {
          "name": "stdout",
          "output_type": "stream",
          "text": [
            "lead_time 2.5\n",
            "stays_in_weekend_nights 0.2\n",
            "stays_in_week_nights 2.8\n",
            "adults 5.3\n",
            "children 7.2\n",
            "babies 0.8\n",
            "previous_cancellations 5.4\n",
            "previous_bookings_not_canceled 3.0\n",
            "booking_changes 15.1\n",
            "days_in_waiting_list 3.1\n",
            "adr 3.2\n"
          ]
        }
      ],
      "source": [
        "# percentage of outliers (only above IQR)\n",
        "for col in out_cols:\n",
        "  q1 = df[col].quantile(0.25)\n",
        "  q3 = df[col].quantile(0.75)\n",
        "  iqr = q3 - q1\n",
        "  print(col, round(((df[col] > (q3+1.5*iqr))).sum() / df.shape[0]*100,1))"
      ]
    },
    {
      "cell_type": "markdown",
      "metadata": {
        "id": "bhNcCnI6CHxp"
      },
      "source": [
        "We can observe the following:\n",
        "\n",
        "* In most cases, the percentage of extreme (top) values is relatively small compared to the size of the dataset (less than 5%), although they can still provide relevant information about customers with reservations that have parameters outside the average. This could be useful for a hotel so it can consider *edge cases* in its operation.\n",
        "\n",
        "* On the other hand, the *booking_changes* column has the highest number of extreme values, reaching even more than 20. This can be explained by the presence of people who make many changes in preparation for their trip, or people who are just exploring accommodation options and want to have a reservation ready for any situation.\n",
        "\n",
        "* For the moment we will not remove the outliers, as they may be part of the insights derived in the exploratory analysis, but we will come back to them when we move to the predictive model section."
      ]
    },
    {
      "cell_type": "markdown",
      "metadata": {
        "id": "00OTgTLKBJiy"
      },
      "source": [
        "**Reservations without guests**"
      ]
    },
    {
      "cell_type": "markdown",
      "metadata": {
        "id": "uT8YwE583Wfo"
      },
      "source": [
        "Before moving forward, it is convenient to check some details on the consistency of the data.\n",
        "\n",
        "All rows must have a non-zero number of guests, i.e., the sum of adults + children + infants must be non-zero. Otherwise, it would not make sense to have a reservation for zero people."
      ]
    },
    {
      "cell_type": "code",
      "execution_count": null,
      "metadata": {
        "id": "gejl1_xFFWnJ",
        "scrolled": true
      },
      "outputs": [],
      "source": [
        "# check for reservations with zero guests\n",
        "zero_check = (df['adults'] == 0) & (df['children' ] == 0) & (df['babies'] == 0)\n",
        "df['id'][zero_check].count()"
      ]
    },
    {
      "cell_type": "code",
      "execution_count": null,
      "metadata": {
        "colab": {
          "base_uri": "https://localhost:8080/",
          "height": 212
        },
        "id": "ahP9KEr7Fb1B",
        "outputId": "9177d699-543f-47ba-e819-f5f8660e7053"
      },
      "outputs": [
        {
          "data": {
            "text/html": [
              "<div>\n",
              "<style scoped>\n",
              "    .dataframe tbody tr th:only-of-type {\n",
              "        vertical-align: middle;\n",
              "    }\n",
              "\n",
              "    .dataframe tbody tr th {\n",
              "        vertical-align: top;\n",
              "    }\n",
              "\n",
              "    .dataframe thead th {\n",
              "        text-align: right;\n",
              "    }\n",
              "</style>\n",
              "<table border=\"1\" class=\"dataframe\">\n",
              "  <thead>\n",
              "    <tr style=\"text-align: right;\">\n",
              "      <th></th>\n",
              "      <th>index</th>\n",
              "      <th>id</th>\n",
              "      <th>hotel</th>\n",
              "      <th>is_canceled</th>\n",
              "      <th>lead_time</th>\n",
              "      <th>arrival_date_year</th>\n",
              "      <th>arrival_date_month</th>\n",
              "      <th>arrival_date_week_number</th>\n",
              "      <th>arrival_date_day_of_month</th>\n",
              "      <th>stays_in_weekend_nights</th>\n",
              "      <th>stays_in_week_nights</th>\n",
              "      <th>adults</th>\n",
              "      <th>children</th>\n",
              "      <th>babies</th>\n",
              "      <th>meal</th>\n",
              "      <th>country</th>\n",
              "      <th>market_segment</th>\n",
              "      <th>distribution_channel</th>\n",
              "      <th>is_repeated_guest</th>\n",
              "      <th>previous_cancellations</th>\n",
              "      <th>previous_bookings_not_canceled</th>\n",
              "      <th>reserved_room_type</th>\n",
              "      <th>assigned_room_type</th>\n",
              "      <th>booking_changes</th>\n",
              "      <th>deposit_type</th>\n",
              "      <th>agent</th>\n",
              "      <th>days_in_waiting_list</th>\n",
              "      <th>customer_type</th>\n",
              "      <th>adr</th>\n",
              "      <th>required_car_parking_spaces</th>\n",
              "      <th>total_of_special_requests</th>\n",
              "      <th>reservation_status</th>\n",
              "      <th>reservation_status_date</th>\n",
              "    </tr>\n",
              "  </thead>\n",
              "  <tbody>\n",
              "    <tr>\n",
              "      <th>2224</th>\n",
              "      <td>2224</td>\n",
              "      <td>2225</td>\n",
              "      <td>Resort Hotel</td>\n",
              "      <td>0</td>\n",
              "      <td>1</td>\n",
              "      <td>2015</td>\n",
              "      <td>October</td>\n",
              "      <td>41</td>\n",
              "      <td>6</td>\n",
              "      <td>0</td>\n",
              "      <td>3</td>\n",
              "      <td>0</td>\n",
              "      <td>0.0</td>\n",
              "      <td>0</td>\n",
              "      <td>SC</td>\n",
              "      <td>PRT</td>\n",
              "      <td>Corporate</td>\n",
              "      <td>Corporate</td>\n",
              "      <td>0</td>\n",
              "      <td>0</td>\n",
              "      <td>0</td>\n",
              "      <td>A</td>\n",
              "      <td>I</td>\n",
              "      <td>1</td>\n",
              "      <td>No Deposit</td>\n",
              "      <td>0.0</td>\n",
              "      <td>0</td>\n",
              "      <td>Transient-Party</td>\n",
              "      <td>0.0</td>\n",
              "      <td>0</td>\n",
              "      <td>0</td>\n",
              "      <td>Check-Out</td>\n",
              "      <td>6/10/2015</td>\n",
              "    </tr>\n",
              "    <tr>\n",
              "      <th>2409</th>\n",
              "      <td>2409</td>\n",
              "      <td>2410</td>\n",
              "      <td>Resort Hotel</td>\n",
              "      <td>0</td>\n",
              "      <td>0</td>\n",
              "      <td>2015</td>\n",
              "      <td>October</td>\n",
              "      <td>42</td>\n",
              "      <td>12</td>\n",
              "      <td>0</td>\n",
              "      <td>0</td>\n",
              "      <td>0</td>\n",
              "      <td>0.0</td>\n",
              "      <td>0</td>\n",
              "      <td>SC</td>\n",
              "      <td>PRT</td>\n",
              "      <td>Corporate</td>\n",
              "      <td>Corporate</td>\n",
              "      <td>0</td>\n",
              "      <td>0</td>\n",
              "      <td>0</td>\n",
              "      <td>A</td>\n",
              "      <td>I</td>\n",
              "      <td>0</td>\n",
              "      <td>No Deposit</td>\n",
              "      <td>0.0</td>\n",
              "      <td>0</td>\n",
              "      <td>Transient</td>\n",
              "      <td>0.0</td>\n",
              "      <td>0</td>\n",
              "      <td>0</td>\n",
              "      <td>Check-Out</td>\n",
              "      <td>12/10/2015</td>\n",
              "    </tr>\n",
              "    <tr>\n",
              "      <th>3181</th>\n",
              "      <td>3181</td>\n",
              "      <td>3182</td>\n",
              "      <td>Resort Hotel</td>\n",
              "      <td>0</td>\n",
              "      <td>36</td>\n",
              "      <td>2015</td>\n",
              "      <td>November</td>\n",
              "      <td>47</td>\n",
              "      <td>20</td>\n",
              "      <td>1</td>\n",
              "      <td>2</td>\n",
              "      <td>0</td>\n",
              "      <td>0.0</td>\n",
              "      <td>0</td>\n",
              "      <td>SC</td>\n",
              "      <td>ESP</td>\n",
              "      <td>Groups</td>\n",
              "      <td>TA/TO</td>\n",
              "      <td>0</td>\n",
              "      <td>0</td>\n",
              "      <td>0</td>\n",
              "      <td>A</td>\n",
              "      <td>C</td>\n",
              "      <td>0</td>\n",
              "      <td>No Deposit</td>\n",
              "      <td>38.0</td>\n",
              "      <td>0</td>\n",
              "      <td>Transient-Party</td>\n",
              "      <td>0.0</td>\n",
              "      <td>0</td>\n",
              "      <td>0</td>\n",
              "      <td>Check-Out</td>\n",
              "      <td>23/11/2015</td>\n",
              "    </tr>\n",
              "  </tbody>\n",
              "</table>\n",
              "</div>"
            ],
            "text/plain": [
              "      index    id  ... reservation_status  reservation_status_date\n",
              "2224   2224  2225  ...          Check-Out                6/10/2015\n",
              "2409   2409  2410  ...          Check-Out               12/10/2015\n",
              "3181   3181  3182  ...          Check-Out               23/11/2015\n",
              "\n",
              "[3 rows x 33 columns]"
            ]
          },
          "execution_count": 20,
          "metadata": {
            "tags": []
          },
          "output_type": "execute_result"
        }
      ],
      "source": [
        "# display rows with zero guests in reservations\n",
        "df[zero_check].head(3)"
      ]
    },
    {
      "cell_type": "markdown",
      "metadata": {
        "id": "VJCqffnJFghh"
      },
      "source": [
        "We see that about 180 reservations have no people assigned to them. Since this represents only 0.15% of the total, we can delete them without major alterations on our analysis and modeling."
      ]
    },
    {
      "cell_type": "code",
      "execution_count": null,
      "metadata": {
        "colab": {
          "base_uri": "https://localhost:8080/",
          "height": 307
        },
        "id": "x9hdul7IFpQ7",
        "outputId": "c704257d-b868-4644-e0e3-8ebdbad2c299"
      },
      "outputs": [
        {
          "data": {
            "text/html": [
              "<div>\n",
              "<style scoped>\n",
              "    .dataframe tbody tr th:only-of-type {\n",
              "        vertical-align: middle;\n",
              "    }\n",
              "\n",
              "    .dataframe tbody tr th {\n",
              "        vertical-align: top;\n",
              "    }\n",
              "\n",
              "    .dataframe thead th {\n",
              "        text-align: right;\n",
              "    }\n",
              "</style>\n",
              "<table border=\"1\" class=\"dataframe\">\n",
              "  <thead>\n",
              "    <tr style=\"text-align: right;\">\n",
              "      <th></th>\n",
              "      <th>level_0</th>\n",
              "      <th>index</th>\n",
              "      <th>id</th>\n",
              "      <th>hotel</th>\n",
              "      <th>is_canceled</th>\n",
              "      <th>lead_time</th>\n",
              "      <th>arrival_date_year</th>\n",
              "      <th>arrival_date_month</th>\n",
              "      <th>arrival_date_week_number</th>\n",
              "      <th>arrival_date_day_of_month</th>\n",
              "      <th>stays_in_weekend_nights</th>\n",
              "      <th>stays_in_week_nights</th>\n",
              "      <th>adults</th>\n",
              "      <th>children</th>\n",
              "      <th>babies</th>\n",
              "      <th>meal</th>\n",
              "      <th>country</th>\n",
              "      <th>market_segment</th>\n",
              "      <th>distribution_channel</th>\n",
              "      <th>is_repeated_guest</th>\n",
              "      <th>previous_cancellations</th>\n",
              "      <th>previous_bookings_not_canceled</th>\n",
              "      <th>reserved_room_type</th>\n",
              "      <th>assigned_room_type</th>\n",
              "      <th>booking_changes</th>\n",
              "      <th>deposit_type</th>\n",
              "      <th>agent</th>\n",
              "      <th>days_in_waiting_list</th>\n",
              "      <th>customer_type</th>\n",
              "      <th>adr</th>\n",
              "      <th>required_car_parking_spaces</th>\n",
              "      <th>total_of_special_requests</th>\n",
              "      <th>reservation_status</th>\n",
              "      <th>reservation_status_date</th>\n",
              "    </tr>\n",
              "  </thead>\n",
              "  <tbody>\n",
              "    <tr>\n",
              "      <th>0</th>\n",
              "      <td>0</td>\n",
              "      <td>0</td>\n",
              "      <td>1</td>\n",
              "      <td>Resort Hotel</td>\n",
              "      <td>0</td>\n",
              "      <td>342</td>\n",
              "      <td>2015</td>\n",
              "      <td>July</td>\n",
              "      <td>27</td>\n",
              "      <td>1</td>\n",
              "      <td>0</td>\n",
              "      <td>0</td>\n",
              "      <td>2</td>\n",
              "      <td>0.0</td>\n",
              "      <td>0</td>\n",
              "      <td>BB</td>\n",
              "      <td>PRT</td>\n",
              "      <td>Direct</td>\n",
              "      <td>Direct</td>\n",
              "      <td>0</td>\n",
              "      <td>0</td>\n",
              "      <td>0</td>\n",
              "      <td>C</td>\n",
              "      <td>C</td>\n",
              "      <td>3</td>\n",
              "      <td>No Deposit</td>\n",
              "      <td>0.0</td>\n",
              "      <td>0</td>\n",
              "      <td>Transient</td>\n",
              "      <td>0.0</td>\n",
              "      <td>0</td>\n",
              "      <td>0</td>\n",
              "      <td>Check-Out</td>\n",
              "      <td>1/7/2015</td>\n",
              "    </tr>\n",
              "    <tr>\n",
              "      <th>1</th>\n",
              "      <td>1</td>\n",
              "      <td>1</td>\n",
              "      <td>2</td>\n",
              "      <td>Resort Hotel</td>\n",
              "      <td>0</td>\n",
              "      <td>737</td>\n",
              "      <td>2015</td>\n",
              "      <td>July</td>\n",
              "      <td>27</td>\n",
              "      <td>1</td>\n",
              "      <td>0</td>\n",
              "      <td>0</td>\n",
              "      <td>2</td>\n",
              "      <td>0.0</td>\n",
              "      <td>0</td>\n",
              "      <td>BB</td>\n",
              "      <td>PRT</td>\n",
              "      <td>Direct</td>\n",
              "      <td>Direct</td>\n",
              "      <td>0</td>\n",
              "      <td>0</td>\n",
              "      <td>0</td>\n",
              "      <td>C</td>\n",
              "      <td>C</td>\n",
              "      <td>4</td>\n",
              "      <td>No Deposit</td>\n",
              "      <td>0.0</td>\n",
              "      <td>0</td>\n",
              "      <td>Transient</td>\n",
              "      <td>0.0</td>\n",
              "      <td>0</td>\n",
              "      <td>0</td>\n",
              "      <td>Check-Out</td>\n",
              "      <td>1/7/2015</td>\n",
              "    </tr>\n",
              "    <tr>\n",
              "      <th>2</th>\n",
              "      <td>2</td>\n",
              "      <td>2</td>\n",
              "      <td>3</td>\n",
              "      <td>Resort Hotel</td>\n",
              "      <td>0</td>\n",
              "      <td>7</td>\n",
              "      <td>2015</td>\n",
              "      <td>July</td>\n",
              "      <td>27</td>\n",
              "      <td>1</td>\n",
              "      <td>0</td>\n",
              "      <td>1</td>\n",
              "      <td>1</td>\n",
              "      <td>0.0</td>\n",
              "      <td>0</td>\n",
              "      <td>BB</td>\n",
              "      <td>GBR</td>\n",
              "      <td>Direct</td>\n",
              "      <td>Direct</td>\n",
              "      <td>0</td>\n",
              "      <td>0</td>\n",
              "      <td>0</td>\n",
              "      <td>A</td>\n",
              "      <td>C</td>\n",
              "      <td>0</td>\n",
              "      <td>No Deposit</td>\n",
              "      <td>0.0</td>\n",
              "      <td>0</td>\n",
              "      <td>Transient</td>\n",
              "      <td>75.0</td>\n",
              "      <td>0</td>\n",
              "      <td>0</td>\n",
              "      <td>Check-Out</td>\n",
              "      <td>2/7/2015</td>\n",
              "    </tr>\n",
              "    <tr>\n",
              "      <th>3</th>\n",
              "      <td>3</td>\n",
              "      <td>3</td>\n",
              "      <td>4</td>\n",
              "      <td>Resort Hotel</td>\n",
              "      <td>0</td>\n",
              "      <td>13</td>\n",
              "      <td>2015</td>\n",
              "      <td>July</td>\n",
              "      <td>27</td>\n",
              "      <td>1</td>\n",
              "      <td>0</td>\n",
              "      <td>1</td>\n",
              "      <td>1</td>\n",
              "      <td>0.0</td>\n",
              "      <td>0</td>\n",
              "      <td>BB</td>\n",
              "      <td>GBR</td>\n",
              "      <td>Corporate</td>\n",
              "      <td>Corporate</td>\n",
              "      <td>0</td>\n",
              "      <td>0</td>\n",
              "      <td>0</td>\n",
              "      <td>A</td>\n",
              "      <td>A</td>\n",
              "      <td>0</td>\n",
              "      <td>No Deposit</td>\n",
              "      <td>304.0</td>\n",
              "      <td>0</td>\n",
              "      <td>Transient</td>\n",
              "      <td>75.0</td>\n",
              "      <td>0</td>\n",
              "      <td>0</td>\n",
              "      <td>Check-Out</td>\n",
              "      <td>2/7/2015</td>\n",
              "    </tr>\n",
              "    <tr>\n",
              "      <th>4</th>\n",
              "      <td>4</td>\n",
              "      <td>4</td>\n",
              "      <td>5</td>\n",
              "      <td>Resort Hotel</td>\n",
              "      <td>0</td>\n",
              "      <td>14</td>\n",
              "      <td>2015</td>\n",
              "      <td>July</td>\n",
              "      <td>27</td>\n",
              "      <td>1</td>\n",
              "      <td>0</td>\n",
              "      <td>2</td>\n",
              "      <td>2</td>\n",
              "      <td>0.0</td>\n",
              "      <td>0</td>\n",
              "      <td>BB</td>\n",
              "      <td>GBR</td>\n",
              "      <td>Online TA</td>\n",
              "      <td>TA/TO</td>\n",
              "      <td>0</td>\n",
              "      <td>0</td>\n",
              "      <td>0</td>\n",
              "      <td>A</td>\n",
              "      <td>A</td>\n",
              "      <td>0</td>\n",
              "      <td>No Deposit</td>\n",
              "      <td>240.0</td>\n",
              "      <td>0</td>\n",
              "      <td>Transient</td>\n",
              "      <td>98.0</td>\n",
              "      <td>0</td>\n",
              "      <td>1</td>\n",
              "      <td>Check-Out</td>\n",
              "      <td>3/7/2015</td>\n",
              "    </tr>\n",
              "  </tbody>\n",
              "</table>\n",
              "</div>"
            ],
            "text/plain": [
              "   level_0  index  ...  reservation_status reservation_status_date\n",
              "0        0      0  ...           Check-Out                1/7/2015\n",
              "1        1      1  ...           Check-Out                1/7/2015\n",
              "2        2      2  ...           Check-Out                2/7/2015\n",
              "3        3      3  ...           Check-Out                2/7/2015\n",
              "4        4      4  ...           Check-Out                3/7/2015\n",
              "\n",
              "[5 rows x 34 columns]"
            ]
          },
          "execution_count": 21,
          "metadata": {
            "tags": []
          },
          "output_type": "execute_result"
        }
      ],
      "source": [
        "# drop rows with zero guests\n",
        "df = df[~zero_check]\n",
        "df.reset_index(inplace=True)\n",
        "\n",
        "df.head(5)"
      ]
    },
    {
      "cell_type": "markdown",
      "metadata": {
        "id": "NihKh3hoGdDK"
      },
      "source": [
        "## II. Exploratory Analysis\n",
        "\n",
        "Once the data cleaning and preparation is complete, we can proceed with the exploratory analysis. In particular, we will focus on answering the questions posed at the start."
      ]
    },
    {
      "cell_type": "code",
      "execution_count": null,
      "metadata": {
        "colab": {
          "base_uri": "https://localhost:8080/",
          "height": 212
        },
        "id": "gtws4Wwv8L2F",
        "outputId": "4037fd11-9ff1-4438-8624-74b0eaa4a57e"
      },
      "outputs": [
        {
          "data": {
            "text/html": [
              "<div>\n",
              "<style scoped>\n",
              "    .dataframe tbody tr th:only-of-type {\n",
              "        vertical-align: middle;\n",
              "    }\n",
              "\n",
              "    .dataframe tbody tr th {\n",
              "        vertical-align: top;\n",
              "    }\n",
              "\n",
              "    .dataframe thead th {\n",
              "        text-align: right;\n",
              "    }\n",
              "</style>\n",
              "<table border=\"1\" class=\"dataframe\">\n",
              "  <thead>\n",
              "    <tr style=\"text-align: right;\">\n",
              "      <th></th>\n",
              "      <th>level_0</th>\n",
              "      <th>index</th>\n",
              "      <th>id</th>\n",
              "      <th>hotel</th>\n",
              "      <th>is_canceled</th>\n",
              "      <th>lead_time</th>\n",
              "      <th>arrival_date_year</th>\n",
              "      <th>arrival_date_month</th>\n",
              "      <th>arrival_date_week_number</th>\n",
              "      <th>arrival_date_day_of_month</th>\n",
              "      <th>stays_in_weekend_nights</th>\n",
              "      <th>stays_in_week_nights</th>\n",
              "      <th>adults</th>\n",
              "      <th>children</th>\n",
              "      <th>babies</th>\n",
              "      <th>meal</th>\n",
              "      <th>country</th>\n",
              "      <th>market_segment</th>\n",
              "      <th>distribution_channel</th>\n",
              "      <th>is_repeated_guest</th>\n",
              "      <th>previous_cancellations</th>\n",
              "      <th>previous_bookings_not_canceled</th>\n",
              "      <th>reserved_room_type</th>\n",
              "      <th>assigned_room_type</th>\n",
              "      <th>booking_changes</th>\n",
              "      <th>deposit_type</th>\n",
              "      <th>agent</th>\n",
              "      <th>days_in_waiting_list</th>\n",
              "      <th>customer_type</th>\n",
              "      <th>adr</th>\n",
              "      <th>required_car_parking_spaces</th>\n",
              "      <th>total_of_special_requests</th>\n",
              "      <th>reservation_status</th>\n",
              "      <th>reservation_status_date</th>\n",
              "    </tr>\n",
              "  </thead>\n",
              "  <tbody>\n",
              "    <tr>\n",
              "      <th>0</th>\n",
              "      <td>0</td>\n",
              "      <td>0</td>\n",
              "      <td>1</td>\n",
              "      <td>Resort Hotel</td>\n",
              "      <td>0</td>\n",
              "      <td>342</td>\n",
              "      <td>2015</td>\n",
              "      <td>July</td>\n",
              "      <td>27</td>\n",
              "      <td>1</td>\n",
              "      <td>0</td>\n",
              "      <td>0</td>\n",
              "      <td>2</td>\n",
              "      <td>0.0</td>\n",
              "      <td>0</td>\n",
              "      <td>BB</td>\n",
              "      <td>PRT</td>\n",
              "      <td>Direct</td>\n",
              "      <td>Direct</td>\n",
              "      <td>0</td>\n",
              "      <td>0</td>\n",
              "      <td>0</td>\n",
              "      <td>C</td>\n",
              "      <td>C</td>\n",
              "      <td>3</td>\n",
              "      <td>No Deposit</td>\n",
              "      <td>0.0</td>\n",
              "      <td>0</td>\n",
              "      <td>Transient</td>\n",
              "      <td>0.0</td>\n",
              "      <td>0</td>\n",
              "      <td>0</td>\n",
              "      <td>Check-Out</td>\n",
              "      <td>1/7/2015</td>\n",
              "    </tr>\n",
              "    <tr>\n",
              "      <th>1</th>\n",
              "      <td>1</td>\n",
              "      <td>1</td>\n",
              "      <td>2</td>\n",
              "      <td>Resort Hotel</td>\n",
              "      <td>0</td>\n",
              "      <td>737</td>\n",
              "      <td>2015</td>\n",
              "      <td>July</td>\n",
              "      <td>27</td>\n",
              "      <td>1</td>\n",
              "      <td>0</td>\n",
              "      <td>0</td>\n",
              "      <td>2</td>\n",
              "      <td>0.0</td>\n",
              "      <td>0</td>\n",
              "      <td>BB</td>\n",
              "      <td>PRT</td>\n",
              "      <td>Direct</td>\n",
              "      <td>Direct</td>\n",
              "      <td>0</td>\n",
              "      <td>0</td>\n",
              "      <td>0</td>\n",
              "      <td>C</td>\n",
              "      <td>C</td>\n",
              "      <td>4</td>\n",
              "      <td>No Deposit</td>\n",
              "      <td>0.0</td>\n",
              "      <td>0</td>\n",
              "      <td>Transient</td>\n",
              "      <td>0.0</td>\n",
              "      <td>0</td>\n",
              "      <td>0</td>\n",
              "      <td>Check-Out</td>\n",
              "      <td>1/7/2015</td>\n",
              "    </tr>\n",
              "    <tr>\n",
              "      <th>2</th>\n",
              "      <td>2</td>\n",
              "      <td>2</td>\n",
              "      <td>3</td>\n",
              "      <td>Resort Hotel</td>\n",
              "      <td>0</td>\n",
              "      <td>7</td>\n",
              "      <td>2015</td>\n",
              "      <td>July</td>\n",
              "      <td>27</td>\n",
              "      <td>1</td>\n",
              "      <td>0</td>\n",
              "      <td>1</td>\n",
              "      <td>1</td>\n",
              "      <td>0.0</td>\n",
              "      <td>0</td>\n",
              "      <td>BB</td>\n",
              "      <td>GBR</td>\n",
              "      <td>Direct</td>\n",
              "      <td>Direct</td>\n",
              "      <td>0</td>\n",
              "      <td>0</td>\n",
              "      <td>0</td>\n",
              "      <td>A</td>\n",
              "      <td>C</td>\n",
              "      <td>0</td>\n",
              "      <td>No Deposit</td>\n",
              "      <td>0.0</td>\n",
              "      <td>0</td>\n",
              "      <td>Transient</td>\n",
              "      <td>75.0</td>\n",
              "      <td>0</td>\n",
              "      <td>0</td>\n",
              "      <td>Check-Out</td>\n",
              "      <td>2/7/2015</td>\n",
              "    </tr>\n",
              "  </tbody>\n",
              "</table>\n",
              "</div>"
            ],
            "text/plain": [
              "   level_0  index  ...  reservation_status reservation_status_date\n",
              "0        0      0  ...           Check-Out                1/7/2015\n",
              "1        1      1  ...           Check-Out                1/7/2015\n",
              "2        2      2  ...           Check-Out                2/7/2015\n",
              "\n",
              "[3 rows x 34 columns]"
            ]
          },
          "execution_count": 22,
          "metadata": {
            "tags": []
          },
          "output_type": "execute_result"
        }
      ],
      "source": [
        "df.head(3)"
      ]
    },
    {
      "cell_type": "markdown",
      "metadata": {
        "id": "w8xHJ46vGuep"
      },
      "source": [
        "**Where do guests come from?**"
      ]
    },
    {
      "cell_type": "markdown",
      "metadata": {
        "id": "s1ylu0ruDEFk"
      },
      "source": [
        "We are interested in knowing from which countries the guests come from, so we consider only those who did not cancel their reservation."
      ]
    },
    {
      "cell_type": "code",
      "execution_count": null,
      "metadata": {
        "colab": {
          "base_uri": "https://localhost:8080/",
          "height": 203
        },
        "id": "Wp8qdPRP9j7s",
        "outputId": "92e038f8-8398-4258-9a08-045c4cdd5842"
      },
      "outputs": [
        {
          "data": {
            "text/html": [
              "<div>\n",
              "<style scoped>\n",
              "    .dataframe tbody tr th:only-of-type {\n",
              "        vertical-align: middle;\n",
              "    }\n",
              "\n",
              "    .dataframe tbody tr th {\n",
              "        vertical-align: top;\n",
              "    }\n",
              "\n",
              "    .dataframe thead th {\n",
              "        text-align: right;\n",
              "    }\n",
              "</style>\n",
              "<table border=\"1\" class=\"dataframe\">\n",
              "  <thead>\n",
              "    <tr style=\"text-align: right;\">\n",
              "      <th></th>\n",
              "      <th>Pais (ISO)</th>\n",
              "      <th>No. huespedes</th>\n",
              "    </tr>\n",
              "  </thead>\n",
              "  <tbody>\n",
              "    <tr>\n",
              "      <th>0</th>\n",
              "      <td>PRT</td>\n",
              "      <td>20977</td>\n",
              "    </tr>\n",
              "    <tr>\n",
              "      <th>1</th>\n",
              "      <td>GBR</td>\n",
              "      <td>9668</td>\n",
              "    </tr>\n",
              "    <tr>\n",
              "      <th>2</th>\n",
              "      <td>FRA</td>\n",
              "      <td>8468</td>\n",
              "    </tr>\n",
              "    <tr>\n",
              "      <th>3</th>\n",
              "      <td>ESP</td>\n",
              "      <td>6383</td>\n",
              "    </tr>\n",
              "    <tr>\n",
              "      <th>4</th>\n",
              "      <td>DEU</td>\n",
              "      <td>6067</td>\n",
              "    </tr>\n",
              "  </tbody>\n",
              "</table>\n",
              "</div>"
            ],
            "text/plain": [
              "  Pais (ISO)  No. huespedes\n",
              "0        PRT          20977\n",
              "1        GBR           9668\n",
              "2        FRA           8468\n",
              "3        ESP           6383\n",
              "4        DEU           6067"
            ]
          },
          "execution_count": 23,
          "metadata": {
            "tags": []
          },
          "output_type": "execute_result"
        }
      ],
      "source": [
        "# list of unique countries\n",
        "countries = (df['country'][df['is_canceled'] == 0].value_counts()).to_frame()\n",
        "countries.reset_index(inplace=True)\n",
        "countries.columns = ['Country (ISO)', 'No. guests']\n",
        "countries.head(5)"
      ]
    },
    {
      "cell_type": "markdown",
      "metadata": {
        "id": "qjaPhRmn9oq_"
      },
      "source": [
        "The countries are coded in their ISO acronyms. To simplify the reading, we converted them to their common names and ordered them according to the number of guests per country."
      ]
    },
    {
      "cell_type": "code",
      "execution_count": null,
      "metadata": {
        "id": "6-zWnVMsUqXl"
      },
      "outputs": [],
      "source": [
        "# delete values for 'UNKNOWN'\n",
        "countries.drop(countries[countries['Country (ISO)'] == 'UNKNOWN'].index[0],axis=0,inplace=True)\n",
        "\n",
        "# correct code for China\n",
        "countries.replace('CN', 'CHN',inplace=True)"
      ]
    },
    {
      "cell_type": "code",
      "execution_count": null,
      "metadata": {
        "colab": {
          "base_uri": "https://localhost:8080/",
          "height": 357
        },
        "id": "Z5ZT0_nu--su",
        "outputId": "45a52bab-d5d4-4f88-bdf3-94a3c8ac5ce6"
      },
      "outputs": [
        {
          "data": {
            "text/html": [
              "<div>\n",
              "<style scoped>\n",
              "    .dataframe tbody tr th:only-of-type {\n",
              "        vertical-align: middle;\n",
              "    }\n",
              "\n",
              "    .dataframe tbody tr th {\n",
              "        vertical-align: top;\n",
              "    }\n",
              "\n",
              "    .dataframe thead th {\n",
              "        text-align: right;\n",
              "    }\n",
              "</style>\n",
              "<table border=\"1\" class=\"dataframe\">\n",
              "  <thead>\n",
              "    <tr style=\"text-align: right;\">\n",
              "      <th></th>\n",
              "      <th>Pais (ISO)</th>\n",
              "      <th>No. huespedes</th>\n",
              "      <th>Pais</th>\n",
              "    </tr>\n",
              "  </thead>\n",
              "  <tbody>\n",
              "    <tr>\n",
              "      <th>0</th>\n",
              "      <td>PRT</td>\n",
              "      <td>20977</td>\n",
              "      <td>Portugal</td>\n",
              "    </tr>\n",
              "    <tr>\n",
              "      <th>1</th>\n",
              "      <td>GBR</td>\n",
              "      <td>9668</td>\n",
              "      <td>United Kingdom</td>\n",
              "    </tr>\n",
              "    <tr>\n",
              "      <th>2</th>\n",
              "      <td>FRA</td>\n",
              "      <td>8468</td>\n",
              "      <td>France</td>\n",
              "    </tr>\n",
              "    <tr>\n",
              "      <th>3</th>\n",
              "      <td>ESP</td>\n",
              "      <td>6383</td>\n",
              "      <td>Spain</td>\n",
              "    </tr>\n",
              "    <tr>\n",
              "      <th>4</th>\n",
              "      <td>DEU</td>\n",
              "      <td>6067</td>\n",
              "      <td>Germany</td>\n",
              "    </tr>\n",
              "    <tr>\n",
              "      <th>5</th>\n",
              "      <td>IRL</td>\n",
              "      <td>2542</td>\n",
              "      <td>Ireland</td>\n",
              "    </tr>\n",
              "    <tr>\n",
              "      <th>6</th>\n",
              "      <td>ITA</td>\n",
              "      <td>2428</td>\n",
              "      <td>Italy</td>\n",
              "    </tr>\n",
              "    <tr>\n",
              "      <th>7</th>\n",
              "      <td>BEL</td>\n",
              "      <td>1868</td>\n",
              "      <td>Belgium</td>\n",
              "    </tr>\n",
              "    <tr>\n",
              "      <th>8</th>\n",
              "      <td>NLD</td>\n",
              "      <td>1716</td>\n",
              "      <td>Netherlands</td>\n",
              "    </tr>\n",
              "    <tr>\n",
              "      <th>9</th>\n",
              "      <td>USA</td>\n",
              "      <td>1592</td>\n",
              "      <td>United States</td>\n",
              "    </tr>\n",
              "  </tbody>\n",
              "</table>\n",
              "</div>"
            ],
            "text/plain": [
              "  Pais (ISO)  No. huespedes            Pais\n",
              "0        PRT          20977        Portugal\n",
              "1        GBR           9668  United Kingdom\n",
              "2        FRA           8468          France\n",
              "3        ESP           6383           Spain\n",
              "4        DEU           6067         Germany\n",
              "5        IRL           2542         Ireland\n",
              "6        ITA           2428           Italy\n",
              "7        BEL           1868         Belgium\n",
              "8        NLD           1716     Netherlands\n",
              "9        USA           1592   United States"
            ]
          },
          "execution_count": 25,
          "metadata": {
            "tags": []
          },
          "output_type": "execute_result"
        }
      ],
      "source": [
        "# create column for country name\n",
        "countries['Country'] = ''\n",
        "\n",
        "# convert ISO codes to country names\n",
        "for i, c in enumerate(list(countries['Pais (ISO)'])):\n",
        "  if c != 'TMP': # the library does not recognize TMP as East Timor\n",
        "    countries['Country'].iloc[i] = pycountry.countries.get(alpha_3=c).name\n",
        "  else:\n",
        "   countries['Country'].iloc[i] = 'East Timor' # manually added\n",
        "\n",
        "countries.head(10)"
      ]
    },
    {
      "cell_type": "markdown",
      "metadata": {
        "id": "RknwqFcLIxo5"
      },
      "source": [
        "We note that we have visitors from various countries around the world. The ten countries from which most of the guests originate are: Portugal, United Kingdom, France, Spain, Germany, Ireland, Italy, Belgium, Netherlands and the United States. Since both hotels are in Portugal, it is no surprise that the majority of guests do indeed originate from Portugal.\n",
        "\n",
        "Another way to visualize the origin of hotel guests is by using of a global map with Cloropleth."
      ]
    },
    {
      "cell_type": "code",
      "execution_count": null,
      "metadata": {
        "colab": {
          "base_uri": "https://localhost:8080/",
          "height": 542
        },
        "id": "2S3OTJzAJ0Kf",
        "outputId": "5ae4cbc1-223a-43a4-fc7e-6d88c86a62a1"
      },
      "outputs": [
        {
          "data": {
            "text/html": [
              "<html>\n",
              "<head><meta charset=\"utf-8\" /></head>\n",
              "<body>\n",
              "    <div>\n",
              "            <script src=\"https://cdnjs.cloudflare.com/ajax/libs/mathjax/2.7.5/MathJax.js?config=TeX-AMS-MML_SVG\"></script><script type=\"text/javascript\">if (window.MathJax) {MathJax.Hub.Config({SVG: {font: \"STIX-Web\"}});}</script>\n",
              "                <script type=\"text/javascript\">window.PlotlyConfig = {MathJaxConfig: 'local'};</script>\n",
              "        <script src=\"https://cdn.plot.ly/plotly-latest.min.js\"></script>    \n",
              "            <div id=\"02584db4-411b-490f-a5df-a2f6e73c7580\" class=\"plotly-graph-div\" style=\"height:525px; width:100%;\"></div>\n",
              "            <script type=\"text/javascript\">\n",
              "                \n",
              "                    window.PLOTLYENV=window.PLOTLYENV || {};\n",
              "                    \n",
              "                if (document.getElementById(\"02584db4-411b-490f-a5df-a2f6e73c7580\")) {\n",
              "                    Plotly.newPlot(\n",
              "                        '02584db4-411b-490f-a5df-a2f6e73c7580',\n",
              "                        [{\"coloraxis\": \"coloraxis\", \"geo\": \"geo\", \"hoverlabel\": {\"namelength\": 0}, \"hovertemplate\": \"<b>%{hovertext}</b><br><br>Pais (ISO)=%{location}<br>No. huespedes=%{z}\", \"hovertext\": [\"Portugal\", \"United Kingdom\", \"France\", \"Spain\", \"Germany\", \"Ireland\", \"Italy\", \"Belgium\", \"Netherlands\", \"United States\", \"Brazil\", \"Switzerland\", \"Austria\", \"China\", \"Sweden\", \"Poland\", \"China\", \"Israel\", \"Norway\", \"Russian Federation\", \"Finland\", \"Romania\", \"Denmark\", \"Australia\", \"Luxembourg\", \"Japan\", \"Argentina\", \"Angola\", \"Hungary\", \"Morocco\", \"Turkey\", \"Czechia\", \"India\", \"Serbia\", \"Greece\", \"Algeria\", \"Korea, Republic of\", \"Mexico\", \"Croatia\", \"Lithuania\", \"New Zealand\", \"Estonia\", \"Bulgaria\", \"Iran, Islamic Republic of\", \"Iceland\", \"South Africa\", \"Chile\", \"Colombia\", \"Mozambique\", \"Ukraine\", \"Latvia\", \"Slovakia\", \"Slovenia\", \"Thailand\", \"Cyprus\", \"Taiwan, Province of China\", \"Malaysia\", \"Peru\", \"Uruguay\", \"Lebanon\", \"Singapore\", \"Egypt\", \"Tunisia\", \"Ecuador\", \"Costa Rica\", \"Jordan\", \"Belarus\", \"Philippines\", \"Saudi Arabia\", \"Oman\", \"Venezuela, Bolivarian Republic of\", \"Iraq\", \"Kazakhstan\", \"Nigeria\", \"Malta\", \"Cabo Verde\", \"Indonesia\", \"Cameroon\", \"Puerto Rico\", \"Bosnia and Herzegovina\", \"Kuwait\", \"Albania\", \"Bolivia, Plurinational State of\", \"Panama\", \"United Arab Emirates\", \"Cuba\", \"Azerbaijan\", \"Libya\", \"Guinea-Bissau\", \"North Macedonia\", \"Gibraltar\", \"Georgia\", \"Sri Lanka\", \"Mauritius\", \"Armenia\", \"Jamaica\", \"Viet Nam\", \"Dominican Republic\", \"Central African Republic\", \"Pakistan\", \"Suriname\", \"Paraguay\", \"Barbados\", \"Guatemala\", \"Qatar\", \"C\\u00f4te d'Ivoire\", \"Kenya\", \"Maldives\", \"Bangladesh\", \"Hong Kong\", \"Syrian Arab Republic\", \"Senegal\", \"Montenegro\", \"Monaco\", \"Tanzania, United Republic of\", \"Gabon\", \"Ghana\", \"Lao People's Democratic Republic\", \"Rwanda\", \"Liechtenstein\", \"Togo\", \"Saint Kitts and Nevis\", \"Uganda\", \"Zimbabwe\", \"Sao Tome and Principe\", \"Antarctica\", \"El Salvador\", \"Uzbekistan\", \"East Timor\", \"Malawi\", \"Andorra\", \"Comoros\", \"Aruba\", \"Ethiopia\", \"Bahamas\", \"Macao\", \"Zambia\", \"Sudan\", \"Saint Lucia\", \"American Samoa\", \"Botswana\", \"Madagascar\", \"Kiribati\", \"Guyana\", \"Dominica\", \"French Polynesia\", \"Faroe Islands\", \"Burkina Faso\", \"Tajikistan\", \"Cayman Islands\", \"Myanmar\", \"San Marino\", \"Mali\", \"Burundi\", \"Nepal\", \"Mauritania\", \"Djibouti\", \"French Southern Territories\", \"Sierra Leone\", \"Bahrain\", \"Namibia\", \"Anguilla\", \"Seychelles\", \"Palau\", \"New Caledonia\"], \"locations\": [\"PRT\", \"GBR\", \"FRA\", \"ESP\", \"DEU\", \"IRL\", \"ITA\", \"BEL\", \"NLD\", \"USA\", \"BRA\", \"CHE\", \"AUT\", \"CHN\", \"SWE\", \"POL\", \"CHN\", \"ISR\", \"NOR\", \"RUS\", \"FIN\", \"ROU\", \"DNK\", \"AUS\", \"LUX\", \"JPN\", \"ARG\", \"AGO\", \"HUN\", \"MAR\", \"TUR\", \"CZE\", \"IND\", \"SRB\", \"GRC\", \"DZA\", \"KOR\", \"MEX\", \"HRV\", \"LTU\", \"NZL\", \"EST\", \"BGR\", \"IRN\", \"ISL\", \"ZAF\", \"CHL\", \"COL\", \"MOZ\", \"UKR\", \"LVA\", \"SVK\", \"SVN\", \"THA\", \"CYP\", \"TWN\", \"MYS\", \"PER\", \"URY\", \"LBN\", \"SGP\", \"EGY\", \"TUN\", \"ECU\", \"CRI\", \"JOR\", \"BLR\", \"PHL\", \"SAU\", \"OMN\", \"VEN\", \"IRQ\", \"KAZ\", \"NGA\", \"MLT\", \"CPV\", \"IDN\", \"CMR\", \"PRI\", \"BIH\", \"KWT\", \"ALB\", \"BOL\", \"PAN\", \"ARE\", \"CUB\", \"AZE\", \"LBY\", \"GNB\", \"MKD\", \"GIB\", \"GEO\", \"LKA\", \"MUS\", \"ARM\", \"JAM\", \"VNM\", \"DOM\", \"CAF\", \"PAK\", \"SUR\", \"PRY\", \"BRB\", \"GTM\", \"QAT\", \"CIV\", \"KEN\", \"MDV\", \"BGD\", \"HKG\", \"SYR\", \"SEN\", \"MNE\", \"MCO\", \"TZA\", \"GAB\", \"GHA\", \"LAO\", \"RWA\", \"LIE\", \"TGO\", \"KNA\", \"UGA\", \"ZWE\", \"STP\", \"ATA\", \"SLV\", \"UZB\", \"TMP\", \"MWI\", \"AND\", \"COM\", \"ABW\", \"ETH\", \"BHS\", \"MAC\", \"ZMB\", \"SDN\", \"LCA\", \"ASM\", \"BWA\", \"MDG\", \"KIR\", \"GUY\", \"DMA\", \"PYF\", \"FRO\", \"BFA\", \"TJK\", \"CYM\", \"MMR\", \"SMR\", \"MLI\", \"BDI\", \"NPL\", \"MRT\", \"DJI\", \"ATF\", \"SLE\", \"BHR\", \"NAM\", \"AIA\", \"SYC\", \"PLW\", \"NCL\"], \"name\": \"\", \"type\": \"choropleth\", \"z\": [20977, 9668, 8468, 6383, 6067, 2542, 2428, 1868, 1716, 1592, 1392, 1298, 1033, 1025, 793, 703, 537, 500, 426, 391, 377, 366, 326, 319, 177, 169, 160, 157, 153, 150, 146, 134, 116, 98, 93, 82, 78, 75, 75, 74, 68, 65, 63, 59, 53, 49, 49, 48, 48, 48, 46, 41, 41, 41, 40, 37, 25, 23, 23, 22, 22, 21, 20, 19, 18, 18, 17, 15, 15, 14, 14, 14, 14, 13, 13, 12, 11, 10, 10, 10, 10, 10, 10, 9, 8, 8, 8, 8, 8, 8, 7, 7, 7, 6, 6, 6, 6, 6, 5, 5, 5, 4, 4, 4, 4, 4, 4, 3, 3, 3, 3, 3, 3, 3, 2, 2, 2, 2, 2, 2, 2, 2, 2, 2, 2, 2, 2, 2, 2, 2, 2, 2, 2, 2, 1, 1, 1, 1, 1, 1, 1, 1, 1, 1, 1, 1, 1, 1, 1, 1, 1, 1, 1, 1, 1, 1, 1, 1, 1, 1, 1, 1, 1, 1, 1]}],\n",
              "                        {\"coloraxis\": {\"colorbar\": {\"title\": {\"text\": \"No. huespedes\"}}, \"colorscale\": [[0.0, \"#0d0887\"], [0.1111111111111111, \"#46039f\"], [0.2222222222222222, \"#7201a8\"], [0.3333333333333333, \"#9c179e\"], [0.4444444444444444, \"#bd3786\"], [0.5555555555555556, \"#d8576b\"], [0.6666666666666666, \"#ed7953\"], [0.7777777777777778, \"#fb9f3a\"], [0.8888888888888888, \"#fdca26\"], [1.0, \"#f0f921\"]]}, \"geo\": {\"center\": {}, \"domain\": {\"x\": [0.0, 1.0], \"y\": [0.0, 1.0]}}, \"legend\": {\"tracegroupgap\": 0}, \"margin\": {\"t\": 60}, \"template\": {\"data\": {\"bar\": [{\"error_x\": {\"color\": \"#2a3f5f\"}, \"error_y\": {\"color\": \"#2a3f5f\"}, \"marker\": {\"line\": {\"color\": \"#E5ECF6\", \"width\": 0.5}}, \"type\": \"bar\"}], \"barpolar\": [{\"marker\": {\"line\": {\"color\": \"#E5ECF6\", \"width\": 0.5}}, \"type\": \"barpolar\"}], \"carpet\": [{\"aaxis\": {\"endlinecolor\": \"#2a3f5f\", \"gridcolor\": \"white\", \"linecolor\": \"white\", \"minorgridcolor\": \"white\", \"startlinecolor\": \"#2a3f5f\"}, \"baxis\": {\"endlinecolor\": \"#2a3f5f\", \"gridcolor\": \"white\", \"linecolor\": \"white\", \"minorgridcolor\": \"white\", \"startlinecolor\": \"#2a3f5f\"}, \"type\": \"carpet\"}], \"choropleth\": [{\"colorbar\": {\"outlinewidth\": 0, \"ticks\": \"\"}, \"type\": \"choropleth\"}], \"contour\": [{\"colorbar\": {\"outlinewidth\": 0, \"ticks\": \"\"}, \"colorscale\": [[0.0, \"#0d0887\"], [0.1111111111111111, \"#46039f\"], [0.2222222222222222, \"#7201a8\"], [0.3333333333333333, \"#9c179e\"], [0.4444444444444444, \"#bd3786\"], [0.5555555555555556, \"#d8576b\"], [0.6666666666666666, \"#ed7953\"], [0.7777777777777778, \"#fb9f3a\"], [0.8888888888888888, \"#fdca26\"], [1.0, \"#f0f921\"]], \"type\": \"contour\"}], \"contourcarpet\": [{\"colorbar\": {\"outlinewidth\": 0, \"ticks\": \"\"}, \"type\": \"contourcarpet\"}], \"heatmap\": [{\"colorbar\": {\"outlinewidth\": 0, \"ticks\": \"\"}, \"colorscale\": [[0.0, \"#0d0887\"], [0.1111111111111111, \"#46039f\"], [0.2222222222222222, \"#7201a8\"], [0.3333333333333333, \"#9c179e\"], [0.4444444444444444, \"#bd3786\"], [0.5555555555555556, \"#d8576b\"], [0.6666666666666666, \"#ed7953\"], [0.7777777777777778, \"#fb9f3a\"], [0.8888888888888888, \"#fdca26\"], [1.0, \"#f0f921\"]], \"type\": \"heatmap\"}], \"heatmapgl\": [{\"colorbar\": {\"outlinewidth\": 0, \"ticks\": \"\"}, \"colorscale\": [[0.0, \"#0d0887\"], [0.1111111111111111, \"#46039f\"], [0.2222222222222222, \"#7201a8\"], [0.3333333333333333, \"#9c179e\"], [0.4444444444444444, \"#bd3786\"], [0.5555555555555556, \"#d8576b\"], [0.6666666666666666, \"#ed7953\"], [0.7777777777777778, \"#fb9f3a\"], [0.8888888888888888, \"#fdca26\"], [1.0, \"#f0f921\"]], \"type\": \"heatmapgl\"}], \"histogram\": [{\"marker\": {\"colorbar\": {\"outlinewidth\": 0, \"ticks\": \"\"}}, \"type\": \"histogram\"}], \"histogram2d\": [{\"colorbar\": {\"outlinewidth\": 0, \"ticks\": \"\"}, \"colorscale\": [[0.0, \"#0d0887\"], [0.1111111111111111, \"#46039f\"], [0.2222222222222222, \"#7201a8\"], [0.3333333333333333, \"#9c179e\"], [0.4444444444444444, \"#bd3786\"], [0.5555555555555556, \"#d8576b\"], [0.6666666666666666, \"#ed7953\"], [0.7777777777777778, \"#fb9f3a\"], [0.8888888888888888, \"#fdca26\"], [1.0, \"#f0f921\"]], \"type\": \"histogram2d\"}], \"histogram2dcontour\": [{\"colorbar\": {\"outlinewidth\": 0, \"ticks\": \"\"}, \"colorscale\": [[0.0, \"#0d0887\"], [0.1111111111111111, \"#46039f\"], [0.2222222222222222, \"#7201a8\"], [0.3333333333333333, \"#9c179e\"], [0.4444444444444444, \"#bd3786\"], [0.5555555555555556, \"#d8576b\"], [0.6666666666666666, \"#ed7953\"], [0.7777777777777778, \"#fb9f3a\"], [0.8888888888888888, \"#fdca26\"], [1.0, \"#f0f921\"]], \"type\": \"histogram2dcontour\"}], \"mesh3d\": [{\"colorbar\": {\"outlinewidth\": 0, \"ticks\": \"\"}, \"type\": \"mesh3d\"}], \"parcoords\": [{\"line\": {\"colorbar\": {\"outlinewidth\": 0, \"ticks\": \"\"}}, \"type\": \"parcoords\"}], \"pie\": [{\"automargin\": true, \"type\": \"pie\"}], \"scatter\": [{\"marker\": {\"colorbar\": {\"outlinewidth\": 0, \"ticks\": \"\"}}, \"type\": \"scatter\"}], \"scatter3d\": [{\"line\": {\"colorbar\": {\"outlinewidth\": 0, \"ticks\": \"\"}}, \"marker\": {\"colorbar\": {\"outlinewidth\": 0, \"ticks\": \"\"}}, \"type\": \"scatter3d\"}], \"scattercarpet\": [{\"marker\": {\"colorbar\": {\"outlinewidth\": 0, \"ticks\": \"\"}}, \"type\": \"scattercarpet\"}], \"scattergeo\": [{\"marker\": {\"colorbar\": {\"outlinewidth\": 0, \"ticks\": \"\"}}, \"type\": \"scattergeo\"}], \"scattergl\": [{\"marker\": {\"colorbar\": {\"outlinewidth\": 0, \"ticks\": \"\"}}, \"type\": \"scattergl\"}], \"scattermapbox\": [{\"marker\": {\"colorbar\": {\"outlinewidth\": 0, \"ticks\": \"\"}}, \"type\": \"scattermapbox\"}], \"scatterpolar\": [{\"marker\": {\"colorbar\": {\"outlinewidth\": 0, \"ticks\": \"\"}}, \"type\": \"scatterpolar\"}], \"scatterpolargl\": [{\"marker\": {\"colorbar\": {\"outlinewidth\": 0, \"ticks\": \"\"}}, \"type\": \"scatterpolargl\"}], \"scatterternary\": [{\"marker\": {\"colorbar\": {\"outlinewidth\": 0, \"ticks\": \"\"}}, \"type\": \"scatterternary\"}], \"surface\": [{\"colorbar\": {\"outlinewidth\": 0, \"ticks\": \"\"}, \"colorscale\": [[0.0, \"#0d0887\"], [0.1111111111111111, \"#46039f\"], [0.2222222222222222, \"#7201a8\"], [0.3333333333333333, \"#9c179e\"], [0.4444444444444444, \"#bd3786\"], [0.5555555555555556, \"#d8576b\"], [0.6666666666666666, \"#ed7953\"], [0.7777777777777778, \"#fb9f3a\"], [0.8888888888888888, \"#fdca26\"], [1.0, \"#f0f921\"]], \"type\": \"surface\"}], \"table\": [{\"cells\": {\"fill\": {\"color\": \"#EBF0F8\"}, \"line\": {\"color\": \"white\"}}, \"header\": {\"fill\": {\"color\": \"#C8D4E3\"}, \"line\": {\"color\": \"white\"}}, \"type\": \"table\"}]}, \"layout\": {\"annotationdefaults\": {\"arrowcolor\": \"#2a3f5f\", \"arrowhead\": 0, \"arrowwidth\": 1}, \"coloraxis\": {\"colorbar\": {\"outlinewidth\": 0, \"ticks\": \"\"}}, \"colorscale\": {\"diverging\": [[0, \"#8e0152\"], [0.1, \"#c51b7d\"], [0.2, \"#de77ae\"], [0.3, \"#f1b6da\"], [0.4, \"#fde0ef\"], [0.5, \"#f7f7f7\"], [0.6, \"#e6f5d0\"], [0.7, \"#b8e186\"], [0.8, \"#7fbc41\"], [0.9, \"#4d9221\"], [1, \"#276419\"]], \"sequential\": [[0.0, \"#0d0887\"], [0.1111111111111111, \"#46039f\"], [0.2222222222222222, \"#7201a8\"], [0.3333333333333333, \"#9c179e\"], [0.4444444444444444, \"#bd3786\"], [0.5555555555555556, \"#d8576b\"], [0.6666666666666666, \"#ed7953\"], [0.7777777777777778, \"#fb9f3a\"], [0.8888888888888888, \"#fdca26\"], [1.0, \"#f0f921\"]], \"sequentialminus\": [[0.0, \"#0d0887\"], [0.1111111111111111, \"#46039f\"], [0.2222222222222222, \"#7201a8\"], [0.3333333333333333, \"#9c179e\"], [0.4444444444444444, \"#bd3786\"], [0.5555555555555556, \"#d8576b\"], [0.6666666666666666, \"#ed7953\"], [0.7777777777777778, \"#fb9f3a\"], [0.8888888888888888, \"#fdca26\"], [1.0, \"#f0f921\"]]}, \"colorway\": [\"#636efa\", \"#EF553B\", \"#00cc96\", \"#ab63fa\", \"#FFA15A\", \"#19d3f3\", \"#FF6692\", \"#B6E880\", \"#FF97FF\", \"#FECB52\"], \"font\": {\"color\": \"#2a3f5f\"}, \"geo\": {\"bgcolor\": \"white\", \"lakecolor\": \"white\", \"landcolor\": \"#E5ECF6\", \"showlakes\": true, \"showland\": true, \"subunitcolor\": \"white\"}, \"hoverlabel\": {\"align\": \"left\"}, \"hovermode\": \"closest\", \"mapbox\": {\"style\": \"light\"}, \"paper_bgcolor\": \"white\", \"plot_bgcolor\": \"#E5ECF6\", \"polar\": {\"angularaxis\": {\"gridcolor\": \"white\", \"linecolor\": \"white\", \"ticks\": \"\"}, \"bgcolor\": \"#E5ECF6\", \"radialaxis\": {\"gridcolor\": \"white\", \"linecolor\": \"white\", \"ticks\": \"\"}}, \"scene\": {\"xaxis\": {\"backgroundcolor\": \"#E5ECF6\", \"gridcolor\": \"white\", \"gridwidth\": 2, \"linecolor\": \"white\", \"showbackground\": true, \"ticks\": \"\", \"zerolinecolor\": \"white\"}, \"yaxis\": {\"backgroundcolor\": \"#E5ECF6\", \"gridcolor\": \"white\", \"gridwidth\": 2, \"linecolor\": \"white\", \"showbackground\": true, \"ticks\": \"\", \"zerolinecolor\": \"white\"}, \"zaxis\": {\"backgroundcolor\": \"#E5ECF6\", \"gridcolor\": \"white\", \"gridwidth\": 2, \"linecolor\": \"white\", \"showbackground\": true, \"ticks\": \"\", \"zerolinecolor\": \"white\"}}, \"shapedefaults\": {\"line\": {\"color\": \"#2a3f5f\"}}, \"ternary\": {\"aaxis\": {\"gridcolor\": \"white\", \"linecolor\": \"white\", \"ticks\": \"\"}, \"baxis\": {\"gridcolor\": \"white\", \"linecolor\": \"white\", \"ticks\": \"\"}, \"bgcolor\": \"#E5ECF6\", \"caxis\": {\"gridcolor\": \"white\", \"linecolor\": \"white\", \"ticks\": \"\"}}, \"title\": {\"x\": 0.05}, \"xaxis\": {\"automargin\": true, \"gridcolor\": \"white\", \"linecolor\": \"white\", \"ticks\": \"\", \"title\": {\"standoff\": 15}, \"zerolinecolor\": \"white\", \"zerolinewidth\": 2}, \"yaxis\": {\"automargin\": true, \"gridcolor\": \"white\", \"linecolor\": \"white\", \"ticks\": \"\", \"title\": {\"standoff\": 15}, \"zerolinecolor\": \"white\", \"zerolinewidth\": 2}}}},\n",
              "                        {\"responsive\": true}\n",
              "                    ).then(function(){\n",
              "                            \n",
              "var gd = document.getElementById('02584db4-411b-490f-a5df-a2f6e73c7580');\n",
              "var x = new MutationObserver(function (mutations, observer) {{\n",
              "        var display = window.getComputedStyle(gd).display;\n",
              "        if (!display || display === 'none') {{\n",
              "            console.log([gd, 'removed!']);\n",
              "            Plotly.purge(gd);\n",
              "            observer.disconnect();\n",
              "        }}\n",
              "}});\n",
              "\n",
              "// Listen for the removal of the full notebook cells\n",
              "var notebookContainer = gd.closest('#notebook-container');\n",
              "if (notebookContainer) {{\n",
              "    x.observe(notebookContainer, {childList: true});\n",
              "}}\n",
              "\n",
              "// Listen for the clearing of the current output cell\n",
              "var outputEl = gd.closest('.output');\n",
              "if (outputEl) {{\n",
              "    x.observe(outputEl, {childList: true});\n",
              "}}\n",
              "\n",
              "                        })\n",
              "                };\n",
              "                \n",
              "            </script>\n",
              "        </div>\n",
              "</body>\n",
              "</html>"
            ]
          },
          "metadata": {
            "tags": []
          },
          "output_type": "display_data"
        }
      ],
      "source": [
        "# we create an interactive map with Cloropleth\n",
        "fig = px.choropleth(countries, locations='Country (ISO)',\n",
        "                    color='No. guests',\n",
        "                    hover_name='Country',\n",
        "                    color_continuous_scale=px.colors.sequential.Plasma)\n",
        "\n",
        "fig.show()"
      ]
    },
    {
      "cell_type": "markdown",
      "metadata": {
        "id": "g2uERkMVGuje"
      },
      "source": [
        "**How much do guests pay for a room per night on average?**"
      ]
    },
    {
      "cell_type": "markdown",
      "metadata": {
        "id": "L-SJ3p6IZjL9"
      },
      "source": [
        "The cost per night for each hotel is given in the column 'adr' (*average daily rate*). Since the hotel is located in Portugal, we assume that the prices given are in euros."
      ]
    },
    {
      "cell_type": "code",
      "execution_count": null,
      "metadata": {
        "colab": {
          "base_uri": "https://localhost:8080/"
        },
        "id": "CIKoFLFDZnKq",
        "outputId": "90e45844-99df-46bd-f06e-d94c3c2c80c7"
      },
      "outputs": [
        {
          "name": "stdout",
          "output_type": "stream",
          "text": [
            "Costo promedio por noche (hotel urbano):  106.04 EUR\n",
            "Costo promedio por noche (hotel resort):  90.82 EUR\n"
          ]
        }
      ],
      "source": [
        "# average cost per night (city hotel)\n",
        "print('Average cost per night (city hotel): ', round(df[df['is_canceled'] == 0]['adr'][df['hotel']=='City Hotel'].mean(),2), 'EUR')\n",
        "\n",
        "# average cost per night (resort hotel)\n",
        "print('Average cost per night (resort hotel): ', round(df[df['is_canceled'] == 0]['adr'][df['hotel']=='Resort Hotel'].mean(),2), 'EUR')"
      ]
    },
    {
      "cell_type": "markdown",
      "metadata": {
        "id": "-NG7_T-Ebh60"
      },
      "source": [
        "We see that guests pay ~106 EUR/night for the city hotel, and ~91 EUR/night for the resort hotel. However, it is clear that the price per night will depend on the type of room and the services included (e.g. meals). It would be interesting to check if there is any variation depending on the room type."
      ]
    },
    {
      "cell_type": "code",
      "execution_count": null,
      "metadata": {
        "colab": {
          "base_uri": "https://localhost:8080/",
          "height": 374
        },
        "id": "vE8REWXoug3_",
        "outputId": "78749c76-7a06-4a5f-9f70-275c2a45e9f9"
      },
      "outputs": [
        {
          "name": "stdout",
          "output_type": "stream",
          "text": [
            "====Costos por noche por hotel====\n"
          ]
        },
        {
          "data": {
            "text/html": [
              "<div>\n",
              "<style scoped>\n",
              "    .dataframe tbody tr th:only-of-type {\n",
              "        vertical-align: middle;\n",
              "    }\n",
              "\n",
              "    .dataframe tbody tr th {\n",
              "        vertical-align: top;\n",
              "    }\n",
              "\n",
              "    .dataframe thead th {\n",
              "        text-align: right;\n",
              "    }\n",
              "</style>\n",
              "<table border=\"1\" class=\"dataframe\">\n",
              "  <thead>\n",
              "    <tr style=\"text-align: right;\">\n",
              "      <th></th>\n",
              "      <th>Costo (Urbano)</th>\n",
              "      <th>+/- (Urbano)</th>\n",
              "      <th>Costo (Resort)</th>\n",
              "      <th>+/- (Resort)</th>\n",
              "    </tr>\n",
              "    <tr>\n",
              "      <th>Tipo habitacion</th>\n",
              "      <th></th>\n",
              "      <th></th>\n",
              "      <th></th>\n",
              "      <th></th>\n",
              "    </tr>\n",
              "  </thead>\n",
              "  <tbody>\n",
              "    <tr>\n",
              "      <th>A</th>\n",
              "      <td>96.401704</td>\n",
              "      <td>37.153354</td>\n",
              "      <td>76.243044</td>\n",
              "      <td>48.887214</td>\n",
              "    </tr>\n",
              "    <tr>\n",
              "      <th>B</th>\n",
              "      <td>90.515027</td>\n",
              "      <td>34.359555</td>\n",
              "      <td>104.666667</td>\n",
              "      <td>32.331615</td>\n",
              "    </tr>\n",
              "    <tr>\n",
              "      <th>C</th>\n",
              "      <td>92.057692</td>\n",
              "      <td>54.982209</td>\n",
              "      <td>161.356536</td>\n",
              "      <td>71.125665</td>\n",
              "    </tr>\n",
              "    <tr>\n",
              "      <th>D</th>\n",
              "      <td>131.679145</td>\n",
              "      <td>36.153763</td>\n",
              "      <td>103.628341</td>\n",
              "      <td>58.048494</td>\n",
              "    </tr>\n",
              "    <tr>\n",
              "      <th>E</th>\n",
              "      <td>158.143162</td>\n",
              "      <td>48.507953</td>\n",
              "      <td>114.485054</td>\n",
              "      <td>59.142521</td>\n",
              "    </tr>\n",
              "    <tr>\n",
              "      <th>F</th>\n",
              "      <td>189.576689</td>\n",
              "      <td>46.985461</td>\n",
              "      <td>132.761121</td>\n",
              "      <td>70.374286</td>\n",
              "    </tr>\n",
              "    <tr>\n",
              "      <th>G</th>\n",
              "      <td>202.637842</td>\n",
              "      <td>88.021282</td>\n",
              "      <td>168.238658</td>\n",
              "      <td>74.819953</td>\n",
              "    </tr>\n",
              "    <tr>\n",
              "      <th>H</th>\n",
              "      <td>NaN</td>\n",
              "      <td>NaN</td>\n",
              "      <td>188.223111</td>\n",
              "      <td>75.893064</td>\n",
              "    </tr>\n",
              "    <tr>\n",
              "      <th>L</th>\n",
              "      <td>NaN</td>\n",
              "      <td>NaN</td>\n",
              "      <td>124.666667</td>\n",
              "      <td>69.451182</td>\n",
              "    </tr>\n",
              "  </tbody>\n",
              "</table>\n",
              "</div>"
            ],
            "text/plain": [
              "                 Costo (Urbano)  +/- (Urbano)  Costo (Resort)  +/- (Resort)\n",
              "Tipo habitacion                                                            \n",
              "A                     96.401704     37.153354       76.243044     48.887214\n",
              "B                     90.515027     34.359555      104.666667     32.331615\n",
              "C                     92.057692     54.982209      161.356536     71.125665\n",
              "D                    131.679145     36.153763      103.628341     58.048494\n",
              "E                    158.143162     48.507953      114.485054     59.142521\n",
              "F                    189.576689     46.985461      132.761121     70.374286\n",
              "G                    202.637842     88.021282      168.238658     74.819953\n",
              "H                           NaN           NaN      188.223111     75.893064\n",
              "L                           NaN           NaN      124.666667     69.451182"
            ]
          },
          "execution_count": 28,
          "metadata": {
            "tags": []
          },
          "output_type": "execute_result"
        }
      ],
      "source": [
        "# room types in city hotel\n",
        "urban_price = (df[df['hotel']=='City Hotel'].groupby('reserved_room_type')['adr'].mean()).to_frame()\n",
        "urban_price['std'] = df[df['hotel']=='City Hotel'].groupby('reserved_room_type')['adr'].std()\n",
        "\n",
        "# room types in resort hotel\n",
        "resort_price = (df[df['hotel']=='Resort Hotel'].groupby('reserved_room_type')['adr'].mean()).to_frame()\n",
        "resort_price['std'] = df[df['hotel']=='Resort Hotel'].groupby('reserved_room_type')['adr'].std()\n",
        "\n",
        "\n",
        "hotel_price = urban_price.merge(resort_price, on='reserved_room_type', how='outer')\n",
        "hotel_price.index.names = ['Room type']\n",
        "hotel_price.columns = ['Cost (City)', '+/- (City)', 'Cost (Resort)', '+/- (Resort)']\n",
        "\n",
        "print('====Cost per night per hotel====')\n",
        "\n",
        "hotel_price"
      ]
    },
    {
      "cell_type": "code",
      "execution_count": null,
      "metadata": {
        "colab": {
          "base_uri": "https://localhost:8080/",
          "height": 579
        },
        "id": "gVhJSjw2jbYe",
        "outputId": "d472efcf-5d8e-4c00-e0a1-69f45f82d2a3"
      },
      "outputs": [
        {
          "data": {
            "text/plain": [
              "<matplotlib.legend.Legend at 0x7fb9829e7bd0>"
            ]
          },
          "execution_count": 29,
          "metadata": {
            "tags": []
          },
          "output_type": "execute_result"
        },
        {
          "data": {
            "image/png": "[encoded data removed]",
            "text/plain": [
              "<Figure size 1152x648 with 1 Axes>"
            ]
          },
          "metadata": {
            "needs_background": "light",
            "tags": []
          },
          "output_type": "display_data"
        }
      ],
      "source": [
        "plt.figure(figsize=(16,9))\n",
        "\n",
        "# plot average price of city hotel (plus standard deviation)\n",
        "plt.errorbar(urban_price.index, urban_price['adr'],yerr=urban_price['std'], fmt='o', marker='o',\n",
        "             markersize=10,markeredgewidth=0.5,markeredgecolor='black',\n",
        "             elinewidth=4.5,capsize=10,color='green',label='Hotel Urbano')\n",
        "\n",
        "\n",
        "# plot average price of resort hotel (plus standard deviation)\n",
        "plt.errorbar(resort_price.index, resort_price['adr'], yerr=resort_price['std'], fmt='o', marker='o',\n",
        "             markersize=10,markeredgewidth=0.5,markeredgecolor='black',\n",
        "             elinewidth=2.5,capsize=10,color='red',label='Hotel Resort')\n",
        "\n",
        "for t in plt.xticks()[1]:\n",
        "    t.set_fontsize(16)\n",
        "\n",
        "for t in plt.yticks()[1]:\n",
        "    t.set_fontsize(16)\n",
        "\n",
        "plt.xlabel('Tipo de habitación', fontsize=16)\n",
        "plt.ylabel('Precio (EUR)',  fontsize=16)\n",
        "plt.legend(fontsize=16)"
      ]
    },
    {
      "cell_type": "markdown",
      "metadata": {
        "id": "9krYL49whbo1"
      },
      "source": [
        "Indeed, we see that prices depend on the type of room and the type of hotel. For example, a room type A costs on average more in the city hotel, but a room type C costs on average more in the resort hotel."
      ]
    },
    {
      "cell_type": "markdown",
      "metadata": {
        "id": "myKxtR4TGunj"
      },
      "source": [
        "**How does the price per night change during the year?**"
      ]
    },
    {
      "cell_type": "markdown",
      "metadata": {
        "id": "HQ24oUEGoMdW"
      },
      "source": [
        "We had seen that we have data for 2015, 2016 and 2017. Therefore, since what we are interested in is the average prices per night during the year, we will take the average of those three years for each month.\n",
        "\n",
        "Note: we could also group them by day or by week, but months were chosen since it is generally much easier to visualize the variation of annual behaviors on this scale."
      ]
    },
    {
      "cell_type": "code",
      "execution_count": null,
      "metadata": {
        "colab": {
          "base_uri": "https://localhost:8080/",
          "height": 450
        },
        "id": "aqyvPgELm--S",
        "outputId": "91fec666-5be4-4f45-cf15-fb0fde9950fc"
      },
      "outputs": [
        {
          "data": {
            "text/html": [
              "<div>\n",
              "<style scoped>\n",
              "    .dataframe tbody tr th:only-of-type {\n",
              "        vertical-align: middle;\n",
              "    }\n",
              "\n",
              "    .dataframe tbody tr th {\n",
              "        vertical-align: top;\n",
              "    }\n",
              "\n",
              "    .dataframe thead th {\n",
              "        text-align: right;\n",
              "    }\n",
              "</style>\n",
              "<table border=\"1\" class=\"dataframe\">\n",
              "  <thead>\n",
              "    <tr style=\"text-align: right;\">\n",
              "      <th></th>\n",
              "      <th>Precio/noche (Hotel Urbano)</th>\n",
              "      <th>Precio/noche (Hotel Resort)</th>\n",
              "    </tr>\n",
              "    <tr>\n",
              "      <th>Mes</th>\n",
              "      <th></th>\n",
              "      <th></th>\n",
              "    </tr>\n",
              "  </thead>\n",
              "  <tbody>\n",
              "    <tr>\n",
              "      <th>Enero</th>\n",
              "      <td>82.330983</td>\n",
              "      <td>48.761125</td>\n",
              "    </tr>\n",
              "    <tr>\n",
              "      <th>Febrero</th>\n",
              "      <td>86.520062</td>\n",
              "      <td>54.147478</td>\n",
              "    </tr>\n",
              "    <tr>\n",
              "      <th>Marzo</th>\n",
              "      <td>90.658533</td>\n",
              "      <td>57.056838</td>\n",
              "    </tr>\n",
              "    <tr>\n",
              "      <th>Abril</th>\n",
              "      <td>111.962267</td>\n",
              "      <td>75.867816</td>\n",
              "    </tr>\n",
              "    <tr>\n",
              "      <th>Mayo</th>\n",
              "      <td>120.669827</td>\n",
              "      <td>76.657558</td>\n",
              "    </tr>\n",
              "    <tr>\n",
              "      <th>Junio</th>\n",
              "      <td>117.874360</td>\n",
              "      <td>107.974850</td>\n",
              "    </tr>\n",
              "    <tr>\n",
              "      <th>Julio</th>\n",
              "      <td>115.818019</td>\n",
              "      <td>150.122528</td>\n",
              "    </tr>\n",
              "    <tr>\n",
              "      <th>Agosto</th>\n",
              "      <td>118.674598</td>\n",
              "      <td>181.205892</td>\n",
              "    </tr>\n",
              "    <tr>\n",
              "      <th>Septiembre</th>\n",
              "      <td>112.776582</td>\n",
              "      <td>96.416860</td>\n",
              "    </tr>\n",
              "    <tr>\n",
              "      <th>Octubre</th>\n",
              "      <td>102.004672</td>\n",
              "      <td>61.775449</td>\n",
              "    </tr>\n",
              "    <tr>\n",
              "      <th>Noviembre</th>\n",
              "      <td>86.946592</td>\n",
              "      <td>48.706289</td>\n",
              "    </tr>\n",
              "    <tr>\n",
              "      <th>Diciembre</th>\n",
              "      <td>88.401855</td>\n",
              "      <td>68.410104</td>\n",
              "    </tr>\n",
              "  </tbody>\n",
              "</table>\n",
              "</div>"
            ],
            "text/plain": [
              "            Precio/noche (Hotel Urbano)  Precio/noche (Hotel Resort)\n",
              "Mes                                                                 \n",
              "Enero                         82.330983                    48.761125\n",
              "Febrero                       86.520062                    54.147478\n",
              "Marzo                         90.658533                    57.056838\n",
              "Abril                        111.962267                    75.867816\n",
              "Mayo                         120.669827                    76.657558\n",
              "Junio                        117.874360                   107.974850\n",
              "Julio                        115.818019                   150.122528\n",
              "Agosto                       118.674598                   181.205892\n",
              "Septiembre                   112.776582                    96.416860\n",
              "Octubre                      102.004672                    61.775449\n",
              "Noviembre                     86.946592                    48.706289\n",
              "Diciembre                     88.401855                    68.410104"
            ]
          },
          "execution_count": 30,
          "metadata": {
            "tags": []
          },
          "output_type": "execute_result"
        }
      ],
      "source": [
        "# months list\n",
        "months_eng = ['January', 'February', 'March', 'April', 'May', 'June', 'July',\n",
        "              'August', 'September', 'Octuber', 'November', 'December']\n",
        "\n",
        "# costo de noche por año para hotel urbano\n",
        "urban_monthly = (df[df['is_canceled'] == 0][df['hotel'] == 'City Hotel'].groupby('arrival_date_month')['adr'].mean()).to_frame()\n",
        "urban_monthly.columns = ['Costo/noche']\n",
        "\n",
        "# ordenar por mes\n",
        "urban_monthly['Month'] = pd.to_datetime(urban_monthly.index, format='%B').month\n",
        "urban_monthly = urban_monthly.sort_values(by='Mes').drop('Mes',axis=1)\n",
        "urban_monthly.index = months_eng\n",
        "urban_monthly.index.names = ['Month']\n",
        "\n",
        "# costo de noche por año para hotel resort\n",
        "resort_monthly = (df[df['is_canceled'] == 0][df['hotel'] == 'Resort Hotel'].groupby('arrival_date_month')['adr'].mean()).to_frame()\n",
        "resort_monthly.columns = ['Price/night']\n",
        "\n",
        "# ordenar por mes\n",
        "resort_monthly['Mes'] = pd.to_datetime(resort_monthly.index, format='%B').month\n",
        "resort_monthly = resort_monthly.sort_values(by='Mes').drop('Mes',axis=1)\n",
        "resort_monthly.index = months_esp\n",
        "resort_monthly.index.names = ['Month']\n",
        "\n",
        "# combinar dataframes\n",
        "hotel_monthly = urban_monthly.merge(resort_monthly, on='Mes')\n",
        "hotel_monthly.columns = ['Price/night (City Hotel)', 'Price/night (Resort Hotel)']\n",
        "hotel_monthly"
      ]
    },
    {
      "cell_type": "code",
      "execution_count": null,
      "metadata": {
        "colab": {
          "base_uri": "https://localhost:8080/",
          "height": 593
        },
        "id": "r45tZRzNxxdI",
        "outputId": "cfca1522-2233-428a-91d4-29e12aa5228e"
      },
      "outputs": [
        {
          "data": {
            "text/plain": [
              "<matplotlib.legend.Legend at 0x7fb9829a2450>"
            ]
          },
          "execution_count": 31,
          "metadata": {
            "tags": []
          },
          "output_type": "execute_result"
        },
        {
          "data": {
            "text/plain": [
              "<Figure size 1152x648 with 0 Axes>"
            ]
          },
          "metadata": {
            "tags": []
          },
          "output_type": "display_data"
        },
        {
          "data": {
            "image/png": "[encoded data removed]",
            "text/plain": [
              "<Figure size 1152x648 with 1 Axes>"
            ]
          },
          "metadata": {
            "needs_background": "light",
            "tags": []
          },
          "output_type": "display_data"
        }
      ],
      "source": [
        "plt.figure(figsize=(16,9))\n",
        "\n",
        "# plot monthly price per hotel\n",
        "hotel_monthly.plot.line(linewidth=3.0, color=['green', 'red'], figsize=(16,9))\n",
        "\n",
        "for t in plt.xticks()[1]:\n",
        "    t.set_fontsize(12)\n",
        "\n",
        "for t in plt.yticks()[1]:\n",
        "    t.set_fontsize(16)\n",
        "\n",
        "plt.xlabel('Mes', fontsize=16)\n",
        "plt.ylabel('Precio promedio (EUR)',  fontsize=16)\n",
        "plt.legend(fontsize=16)"
      ]
    },
    {
      "cell_type": "markdown",
      "metadata": {
        "id": "9ZZ35ZXN0KRJ"
      },
      "source": [
        "We observe that the city hotel has a relatively stable price between the months of April and September (spring-summer), and lowers its cost between November and February (winter).\n",
        "\n",
        "On the other hand, the resort hotel increases its prices significantly between the months of June and September (summer-autumn), while it has its lowest prices between November and March (winter). It is possible that this is due to changes in demand due to the summer and winter vacation periods."
      ]
    },
    {
      "cell_type": "markdown",
      "metadata": {
        "id": "6dczK2j7GurT"
      },
      "source": [
        "**Which are the busiest months?**"
      ]
    },
    {
      "cell_type": "markdown",
      "metadata": {
        "id": "2Xvo18V10_cF"
      },
      "source": [
        "While it is true that each reservation may have a different number of people, each reservation corresponds to a single room. Since a hotel is interested in the number of occupied rooms, we count the number of reservations (not cancelled) per hotel and per month (again we take the average of the three years)."
      ]
    },
    {
      "cell_type": "code",
      "execution_count": null,
      "metadata": {
        "colab": {
          "base_uri": "https://localhost:8080/",
          "height": 450
        },
        "id": "At1ATwtd1_vA",
        "outputId": "b0b334c8-3b11-4efa-9760-be51139a5665"
      },
      "outputs": [
        {
          "data": {
            "text/html": [
              "<div>\n",
              "<style scoped>\n",
              "    .dataframe tbody tr th:only-of-type {\n",
              "        vertical-align: middle;\n",
              "    }\n",
              "\n",
              "    .dataframe tbody tr th {\n",
              "        vertical-align: top;\n",
              "    }\n",
              "\n",
              "    .dataframe thead th {\n",
              "        text-align: right;\n",
              "    }\n",
              "</style>\n",
              "<table border=\"1\" class=\"dataframe\">\n",
              "  <thead>\n",
              "    <tr style=\"text-align: right;\">\n",
              "      <th></th>\n",
              "      <th>Ocupacion (Hotel Urbano)</th>\n",
              "      <th>Ocupacion (Hotel Resort)</th>\n",
              "    </tr>\n",
              "    <tr>\n",
              "      <th>Mes</th>\n",
              "      <th></th>\n",
              "      <th></th>\n",
              "    </tr>\n",
              "  </thead>\n",
              "  <tbody>\n",
              "    <tr>\n",
              "      <th>Enero</th>\n",
              "      <td>1124.5</td>\n",
              "      <td>933.000000</td>\n",
              "    </tr>\n",
              "    <tr>\n",
              "      <th>Febrero</th>\n",
              "      <td>1525.5</td>\n",
              "      <td>1154.000000</td>\n",
              "    </tr>\n",
              "    <tr>\n",
              "      <th>Marzo</th>\n",
              "      <td>2024.5</td>\n",
              "      <td>1285.500000</td>\n",
              "    </tr>\n",
              "    <tr>\n",
              "      <th>Abril</th>\n",
              "      <td>2005.0</td>\n",
              "      <td>1275.000000</td>\n",
              "    </tr>\n",
              "    <tr>\n",
              "      <th>Mayo</th>\n",
              "      <td>2284.0</td>\n",
              "      <td>1267.500000</td>\n",
              "    </tr>\n",
              "    <tr>\n",
              "      <th>Junio</th>\n",
              "      <td>2179.0</td>\n",
              "      <td>1018.500000</td>\n",
              "    </tr>\n",
              "    <tr>\n",
              "      <th>Julio</th>\n",
              "      <td>1590.0</td>\n",
              "      <td>1045.666667</td>\n",
              "    </tr>\n",
              "    <tr>\n",
              "      <th>Agosto</th>\n",
              "      <td>1789.0</td>\n",
              "      <td>1085.666667</td>\n",
              "    </tr>\n",
              "    <tr>\n",
              "      <th>Septiembre</th>\n",
              "      <td>2141.5</td>\n",
              "      <td>1051.000000</td>\n",
              "    </tr>\n",
              "    <tr>\n",
              "      <th>Octubre</th>\n",
              "      <td>2163.0</td>\n",
              "      <td>1287.500000</td>\n",
              "    </tr>\n",
              "    <tr>\n",
              "      <th>Noviembre</th>\n",
              "      <td>1338.0</td>\n",
              "      <td>987.500000</td>\n",
              "    </tr>\n",
              "    <tr>\n",
              "      <th>Diciembre</th>\n",
              "      <td>1188.5</td>\n",
              "      <td>1007.000000</td>\n",
              "    </tr>\n",
              "  </tbody>\n",
              "</table>\n",
              "</div>"
            ],
            "text/plain": [
              "            Ocupacion (Hotel Urbano)  Ocupacion (Hotel Resort)\n",
              "Mes                                                           \n",
              "Enero                         1124.5                933.000000\n",
              "Febrero                       1525.5               1154.000000\n",
              "Marzo                         2024.5               1285.500000\n",
              "Abril                         2005.0               1275.000000\n",
              "Mayo                          2284.0               1267.500000\n",
              "Junio                         2179.0               1018.500000\n",
              "Julio                         1590.0               1045.666667\n",
              "Agosto                        1789.0               1085.666667\n",
              "Septiembre                    2141.5               1051.000000\n",
              "Octubre                       2163.0               1287.500000\n",
              "Noviembre                     1338.0                987.500000\n",
              "Diciembre                     1188.5               1007.000000"
            ]
          },
          "execution_count": 32,
          "metadata": {
            "tags": []
          },
          "output_type": "execute_result"
        }
      ],
      "source": [
        "# monthly occupancy for city hotel\n",
        "urban_busy = (df[df['is_canceled'] == 0][df['hotel'] == 'City Hotel'].groupby('arrival_date_month')['arrival_date_year'].\n",
        "              value_counts().groupby('arrival_date_month').mean()).to_frame()\n",
        "urban_busy.columns = ['Ocupacion']\n",
        "\n",
        "# sort by month\n",
        "urban_busy['Month'] = pd.to_datetime(urban_busy.index, format='%B').month\n",
        "urban_busy = urban_busy.sort_values(by='Mes').drop('Mes',axis=1)\n",
        "urban_busy.index = months_esp\n",
        "urban_busy.index.names = ['Month']\n",
        "\n",
        "# monthly occupancy for resort hotel\n",
        "resort_busy = (df[df['is_canceled'] == 0][df['hotel'] == 'Resort Hotel'].groupby('arrival_date_month')['arrival_date_year'].\n",
        "              value_counts().groupby('arrival_date_month').mean()).to_frame()\n",
        "resort_busy.columns = ['Ocupacion']\n",
        "\n",
        "# sort by month\n",
        "resort_busy['Month'] = pd.to_datetime(resort_busy.index, format='%B').month\n",
        "resort_busy = resort_busy.sort_values(by='Mes').drop('Mes',axis=1)\n",
        "resort_busy.index = months_esp\n",
        "resort_busy.index.names = ['Mes']\n",
        "\n",
        "# combinar dataframes\n",
        "hotel_busy = urban_busy.merge(resort_busy, on='Mes')\n",
        "hotel_busy.columns = ['Ocupacion (Hotel Urbano)', 'Ocupacion (Hotel Resort)']\n",
        "hotel_busy"
      ]
    },
    {
      "cell_type": "code",
      "execution_count": null,
      "metadata": {
        "colab": {
          "base_uri": "https://localhost:8080/",
          "height": 576
        },
        "id": "J0kb9tVx7GJo",
        "outputId": "7545b21c-57c0-40f7-f92f-677126f2ddd3"
      },
      "outputs": [
        {
          "data": {
            "text/plain": [
              "<matplotlib.legend.Legend at 0x7fb98287ff90>"
            ]
          },
          "execution_count": 33,
          "metadata": {
            "tags": []
          },
          "output_type": "execute_result"
        },
        {
          "data": {
            "image/png": "[encoded data removed]",
            "text/plain": [
              "<Figure size 1152x648 with 1 Axes>"
            ]
          },
          "metadata": {
            "needs_background": "light",
            "tags": []
          },
          "output_type": "display_data"
        }
      ],
      "source": [
        "# graficar no. de huespedes por hotel\n",
        "hotel_busy.plot.line(linewidth=3.0, color=['green', 'red'], figsize=(16,9))\n",
        "\n",
        "for t in plt.xticks()[1]: # cambiar tamaño de ticks horizontales\n",
        "    t.set_fontsize(12)\n",
        "\n",
        "for t in plt.yticks()[1]: # cambiar tamaño de ticks verticales\n",
        "    t.set_fontsize(16)\n",
        "\n",
        "plt.xlabel('Mes', fontsize=16)\n",
        "plt.ylabel('No. de huéspedes',  fontsize=16)\n",
        "plt.legend(fontsize=16)"
      ]
    },
    {
      "cell_type": "markdown",
      "metadata": {
        "id": "ch1w5f_U7gYL"
      },
      "source": [
        "We observe that city hotel occupancy is the one that fluctuates the most during the year, reaching high occupancy rates between the months of March and May as well as between September and October. On the other hand, the lowest occupancy is recorded between December and February (winter), which compared to the price graph also corresponds to the months with the lowest rates per night. A drop in occupancy is also observed in July, perhaps due to the end of the holiday season.\n",
        "\n",
        "On the other hand, the resort hotel has a lower occupancy compared to the city hotel, and reaches a higher occupancy between the months of March and May as well as during the month of October. On the other hand, occupancy decreases between the months of June and September, which, compared to the price graph, corresponds to the months with the highest rate per night. Likewise, comparably low occupancy is recorded between December and January."
      ]
    },
    {
      "cell_type": "markdown",
      "metadata": {
        "id": "1CGRqlk6GuvM"
      },
      "source": [
        "**How many nights do guests stay in each hotel?**"
      ]
    },
    {
      "cell_type": "markdown",
      "metadata": {
        "id": "um74ZSFi80wX"
      },
      "source": [
        "To know the total length of stay we simply take the number of weekday nights plus the number of weekend nights. We start by analyzing the average number of nights per hotel."
      ]
    },
    {
      "cell_type": "code",
      "execution_count": null,
      "metadata": {
        "colab": {
          "base_uri": "https://localhost:8080/"
        },
        "id": "liUgKFVa9g9r",
        "outputId": "81b3d783-45a3-416c-83a2-bfb574591cff"
      },
      "outputs": [
        {
          "data": {
            "text/plain": [
              "array([ 0,  1,  2,  4,  3, 13,  6,  8,  5,  7, 12, 18, 19,  9, 10, 16, 14])"
            ]
          },
          "execution_count": 34,
          "metadata": {
            "tags": []
          },
          "output_type": "execute_result"
        }
      ],
      "source": [
        "# add column for total stay nights\n",
        "df['stays_nights'] = df['stays_in_week_nights'] + df['stays_in_weekend_nights']\n",
        "\n",
        "df[df['is_canceled'] == 0]['stays_in_weekend_nights'].unique()"
      ]
    },
    {
      "cell_type": "markdown",
      "metadata": {
        "id": "uMnEK5Qt_L2t"
      },
      "source": [
        "It is interesting to note that there are reservations where people did stay but stayed zero nights. It is possible that this is because they were people who temporarily stayed in a room and checked out on the same day."
      ]
    },
    {
      "cell_type": "code",
      "execution_count": null,
      "metadata": {
        "colab": {
          "base_uri": "https://localhost:8080/"
        },
        "id": "VZvXlxx7A5Ap",
        "outputId": "0f9d31da-b649-4f1b-b614-bba8a1b33730"
      },
      "outputs": [
        {
          "name": "stdout",
          "output_type": "stream",
          "text": [
            "Estancia promedio (hotel urbano):  2.9  noches\n",
            "Estancia promedio (hotel resort):  4.1  noches\n"
          ]
        }
      ],
      "source": [
        "# average nights for city hotel\n",
        "print('Average stay (city hotel): ', round(df[df['is_canceled'] == 0][df['hotel'] == 'City Hotel']['stays_nights'].mean(),1), ' night')\n",
        "\n",
        "# average nights for resort hotel\n",
        "print('Average stay (resort hotel): ', round(df[df['is_canceled'] == 0][df['hotel'] == 'Resort Hotel']['stays_nights'].mean(),1), ' night')"
      ]
    },
    {
      "cell_type": "code",
      "execution_count": null,
      "metadata": {
        "colab": {
          "base_uri": "https://localhost:8080/",
          "height": 450
        },
        "id": "gsnZXqh99biT",
        "outputId": "f2b0061c-8df6-4660-c573-c82d1d106b7f"
      },
      "outputs": [
        {
          "data": {
            "text/html": [
              "<div>\n",
              "<style scoped>\n",
              "    .dataframe tbody tr th:only-of-type {\n",
              "        vertical-align: middle;\n",
              "    }\n",
              "\n",
              "    .dataframe tbody tr th {\n",
              "        vertical-align: top;\n",
              "    }\n",
              "\n",
              "    .dataframe thead th {\n",
              "        text-align: right;\n",
              "    }\n",
              "</style>\n",
              "<table border=\"1\" class=\"dataframe\">\n",
              "  <thead>\n",
              "    <tr style=\"text-align: right;\">\n",
              "      <th></th>\n",
              "      <th>Noches (Hotel Urbano)</th>\n",
              "      <th>Noches (Hotel Resort)</th>\n",
              "    </tr>\n",
              "    <tr>\n",
              "      <th>Mes</th>\n",
              "      <th></th>\n",
              "      <th></th>\n",
              "    </tr>\n",
              "  </thead>\n",
              "  <tbody>\n",
              "    <tr>\n",
              "      <th>Enero</th>\n",
              "      <td>2.8</td>\n",
              "      <td>2.7</td>\n",
              "    </tr>\n",
              "    <tr>\n",
              "      <th>Febrero</th>\n",
              "      <td>2.9</td>\n",
              "      <td>3.0</td>\n",
              "    </tr>\n",
              "    <tr>\n",
              "      <th>Marzo</th>\n",
              "      <td>3.0</td>\n",
              "      <td>3.7</td>\n",
              "    </tr>\n",
              "    <tr>\n",
              "      <th>Abril</th>\n",
              "      <td>3.0</td>\n",
              "      <td>3.8</td>\n",
              "    </tr>\n",
              "    <tr>\n",
              "      <th>Mayo</th>\n",
              "      <td>2.8</td>\n",
              "      <td>4.2</td>\n",
              "    </tr>\n",
              "    <tr>\n",
              "      <th>Junio</th>\n",
              "      <td>2.8</td>\n",
              "      <td>5.3</td>\n",
              "    </tr>\n",
              "    <tr>\n",
              "      <th>Julio</th>\n",
              "      <td>3.1</td>\n",
              "      <td>5.2</td>\n",
              "    </tr>\n",
              "    <tr>\n",
              "      <th>Agosto</th>\n",
              "      <td>3.1</td>\n",
              "      <td>5.2</td>\n",
              "    </tr>\n",
              "    <tr>\n",
              "      <th>Septiembre</th>\n",
              "      <td>2.8</td>\n",
              "      <td>5.2</td>\n",
              "    </tr>\n",
              "    <tr>\n",
              "      <th>Octubre</th>\n",
              "      <td>2.8</td>\n",
              "      <td>3.8</td>\n",
              "    </tr>\n",
              "    <tr>\n",
              "      <th>Noviembre</th>\n",
              "      <td>2.9</td>\n",
              "      <td>3.5</td>\n",
              "    </tr>\n",
              "    <tr>\n",
              "      <th>Diciembre</th>\n",
              "      <td>3.0</td>\n",
              "      <td>3.1</td>\n",
              "    </tr>\n",
              "  </tbody>\n",
              "</table>\n",
              "</div>"
            ],
            "text/plain": [
              "            Noches (Hotel Urbano)  Noches (Hotel Resort)\n",
              "Mes                                                     \n",
              "Enero                         2.8                    2.7\n",
              "Febrero                       2.9                    3.0\n",
              "Marzo                         3.0                    3.7\n",
              "Abril                         3.0                    3.8\n",
              "Mayo                          2.8                    4.2\n",
              "Junio                         2.8                    5.3\n",
              "Julio                         3.1                    5.2\n",
              "Agosto                        3.1                    5.2\n",
              "Septiembre                    2.8                    5.2\n",
              "Octubre                       2.8                    3.8\n",
              "Noviembre                     2.9                    3.5\n",
              "Diciembre                     3.0                    3.1"
            ]
          },
          "execution_count": 36,
          "metadata": {
            "tags": []
          },
          "output_type": "execute_result"
        }
      ],
      "source": [
        "# length of stay per month (city hotel)\n",
        "urban_nights = (round(df[df['is_canceled'] == 0][df['hotel'] == 'City Hotel'].groupby('arrival_date_month')['stays_nights'].mean(),1)).to_frame()\n",
        "urban_nights.columns = ['No. Nights']\n",
        "\n",
        "# sort by month\n",
        "urban_nights['Mes'] = pd.to_datetime(urban_nights.index, format='%B').month\n",
        "urban_nights = urban_nights.sort_values(by='Month').drop('Mes',axis=1)\n",
        "urban_nights.index = months_esp\n",
        "urban_nights.index.names = ['Month']\n",
        "\n",
        "# length of stay per month (resort hotel)\n",
        "resort_nights = (round(df[df['is_canceled'] == 0][df['hotel'] == 'Resort Hotel'].groupby('arrival_date_month')['stays_nights'].mean(),1)).to_frame()\n",
        "resort_nights.columns = ['No. nights']\n",
        "\n",
        "# sort by month\n",
        "resort_nights['Month'] = pd.to_datetime(resort_nights.index, format='%B').month\n",
        "resort_nights = resort_nights.sort_values(by='Month').drop('Mes',axis=1)\n",
        "resort_nights.index = months_esp\n",
        "resort_nights.index.names = ['Month']\n",
        "\n",
        "# combine dataframjes\n",
        "hotel_nights = urban_nights.merge(resort_nights, on='Month')\n",
        "hotel_nights.columns = ['Nights (City Hotel)', 'Nights (Resort Hotel)']\n",
        "hotel_nights"
      ]
    },
    {
      "cell_type": "code",
      "execution_count": null,
      "metadata": {
        "colab": {
          "base_uri": "https://localhost:8080/",
          "height": 576
        },
        "id": "Yv6ypQfQEGOY",
        "outputId": "6b8ca1ba-88e8-430e-fd26-6f77bd19b256"
      },
      "outputs": [
        {
          "data": {
            "text/plain": [
              "<matplotlib.legend.Legend at 0x7fb9827b2710>"
            ]
          },
          "execution_count": 37,
          "metadata": {
            "tags": []
          },
          "output_type": "execute_result"
        },
        {
          "data": {
            "image/png": "[encoded data removed]",
            "text/plain": [
              "<Figure size 1152x648 with 1 Axes>"
            ]
          },
          "metadata": {
            "needs_background": "light",
            "tags": []
          },
          "output_type": "display_data"
        }
      ],
      "source": [
        "plt.figure(figsize=(16,9))\n",
        "\n",
        "# graficar noches promedio por mes para hotel urbano\n",
        "plt.plot(hotel_nights.index, hotel_nights['Nights (City Hotel)'],\n",
        "         linewidth = 3.0, color='green', label='City Hotel')\n",
        "\n",
        "# graficar noches promedio por mes para hotel resort\n",
        "plt.plot(hotel_nights.index, hotel_nights['Nights (Resort Hotel)'],\n",
        "         linewidth = 3.0, color='red', label='Resort Hotel')\n",
        "\n",
        "for t in plt.xticks()[1]: # cambiar tamaño de ticks horizontales\n",
        "    t.set_fontsize(12)\n",
        "\n",
        "for t in plt.yticks()[1]: # cambiar tamaño de ticks verticales\n",
        "    t.set_fontsize(16)\n",
        "\n",
        "plt.xlabel('Month', fontsize=16)\n",
        "plt.ylabel('No. Nights (average)',  fontsize=16)\n",
        "plt.legend(fontsize=16)"
      ]
    },
    {
      "cell_type": "markdown",
      "metadata": {
        "id": "xlGPGRdZEXBK"
      },
      "source": [
        "We can observe that in the case of the city hotel, people stay ~3 nights throughout the year, i.e., the length of stays are relatively constant. On the other hand, the length of stays at the resort hotel increases significantly to ~5 days between the months of June and September, which also corresponds to the periods of highest nightly rate. With the exception of January, the resort hotel always has a longer average length of stay than the city hotel."
      ]
    },
    {
      "cell_type": "markdown",
      "metadata": {
        "id": "azjLFBE1FMU6"
      },
      "source": [
        "The above graph gives us an idea of the average length of stay. However, a hotel may also be interested in knowing the average number of people booking 1 night, 2 nights, etc., or even how many people have booked stays longer than a week, e.g., for 10 days."
      ]
    },
    {
      "cell_type": "code",
      "execution_count": null,
      "metadata": {
        "colab": {
          "base_uri": "https://localhost:8080/",
          "height": 234
        },
        "id": "Z7makUX9G76i",
        "outputId": "aaa66986-cc15-4a09-afb8-2cc2ae154c72"
      },
      "outputs": [
        {
          "data": {
            "text/html": [
              "<div>\n",
              "<style scoped>\n",
              "    .dataframe tbody tr th:only-of-type {\n",
              "        vertical-align: middle;\n",
              "    }\n",
              "\n",
              "    .dataframe tbody tr th {\n",
              "        vertical-align: top;\n",
              "    }\n",
              "\n",
              "    .dataframe thead th {\n",
              "        text-align: right;\n",
              "    }\n",
              "</style>\n",
              "<table border=\"1\" class=\"dataframe\">\n",
              "  <thead>\n",
              "    <tr style=\"text-align: right;\">\n",
              "      <th></th>\n",
              "      <th>Hotel Urbano</th>\n",
              "      <th>Hotel Resort</th>\n",
              "    </tr>\n",
              "    <tr>\n",
              "      <th>No. de noches</th>\n",
              "      <th></th>\n",
              "      <th></th>\n",
              "    </tr>\n",
              "  </thead>\n",
              "  <tbody>\n",
              "    <tr>\n",
              "      <th>0</th>\n",
              "      <td>251.0</td>\n",
              "      <td>371.0</td>\n",
              "    </tr>\n",
              "    <tr>\n",
              "      <th>1</th>\n",
              "      <td>9155.0</td>\n",
              "      <td>6579.0</td>\n",
              "    </tr>\n",
              "    <tr>\n",
              "      <th>2</th>\n",
              "      <td>10983.0</td>\n",
              "      <td>4488.0</td>\n",
              "    </tr>\n",
              "    <tr>\n",
              "      <th>3</th>\n",
              "      <td>11889.0</td>\n",
              "      <td>3828.0</td>\n",
              "    </tr>\n",
              "    <tr>\n",
              "      <th>4</th>\n",
              "      <td>7694.0</td>\n",
              "      <td>3321.0</td>\n",
              "    </tr>\n",
              "  </tbody>\n",
              "</table>\n",
              "</div>"
            ],
            "text/plain": [
              "               Hotel Urbano  Hotel Resort\n",
              "No. de noches                            \n",
              "0                     251.0         371.0\n",
              "1                    9155.0        6579.0\n",
              "2                   10983.0        4488.0\n",
              "3                   11889.0        3828.0\n",
              "4                    7694.0        3321.0"
            ]
          },
          "execution_count": 38,
          "metadata": {
            "tags": []
          },
          "output_type": "execute_result"
        }
      ],
      "source": [
        "# length of stay per month (city hotel)\n",
        "urban_stays = (df[df['is_canceled'] == 0][df['hotel'] == 'City Hotel'].groupby('stays_nights')['id'].count()).to_frame()\n",
        "resort_stays = (df[df['is_canceled'] == 0][df['hotel'] == 'Resort Hotel'].groupby('stays_nights')['id'].count()).to_frame()\n",
        "\n",
        "# combine dataframes\n",
        "hotel_stays = urban_stays.merge(resort_stays, on='stays_nights', how='outer')\n",
        "hotel_stays.columns = ['City Hotel', 'Resort Hotel']\n",
        "hotel_stays.index.names = ['No. of Nights']\n",
        "hotel_stays.fillna(0, inplace=True) # replace nulls with zeroes\n",
        "\n",
        "hotel_stays.head(5)"
      ]
    },
    {
      "cell_type": "code",
      "execution_count": null,
      "metadata": {
        "colab": {
          "base_uri": "https://localhost:8080/",
          "height": 579
        },
        "id": "KIAQcGBuIneJ",
        "outputId": "5f0a586c-8ceb-46f5-e00e-8eec1d762ad2"
      },
      "outputs": [
        {
          "data": {
            "text/plain": [
              "<matplotlib.legend.Legend at 0x7fb98282b110>"
            ]
          },
          "execution_count": 39,
          "metadata": {
            "tags": []
          },
          "output_type": "execute_result"
        },
        {
          "data": {
            "image/png": "[encoded data removed]",
            "text/plain": [
              "<Figure size 1152x648 with 1 Axes>"
            ]
          },
          "metadata": {
            "needs_background": "light",
            "tags": []
          },
          "output_type": "display_data"
        }
      ],
      "source": [
        "# plot number of people per night\n",
        "hotel_stays.plot.bar(linewidth=3.0, color=['green', 'red'], figsize=(16,9))\n",
        "\n",
        "for t in plt.xticks()[1]:\n",
        "    t.set_fontsize(12)\n",
        "\n",
        "for t in plt.yticks()[1]:\n",
        "    t.set_fontsize(16)\n",
        "\n",
        "plt.xlabel('Month', fontsize=16)\n",
        "plt.ylabel('No. Nights (average)',  fontsize=16)\n",
        "plt.legend(fontsize=16)"
      ]
    },
    {
      "cell_type": "markdown",
      "metadata": {
        "id": "0Li6fXaDMvID"
      },
      "source": [
        "For the city hotel we can observe that most people stay between 1 and 4 nights, with longer stays being less frequent. The maximum length of stay that can be seen is 12 nights, but these are quite unusual stays.\n",
        "\n",
        "For the resort hotel we observe that most people stay either 1 night or 7 nights (one week), followed by 2 to 4 nights. Likewise, we see that a smaller number (although more significant than for the urban case) of guests booked stays of 10 to 14 days. This is to be expected if we consider that people who stay in this type of hotel usually do so for vacation purposes."
      ]
    },
    {
      "cell_type": "markdown",
      "metadata": {
        "id": "Gx_yErpIGuzA"
      },
      "source": [
        "**Reservations by market segment**"
      ]
    },
    {
      "cell_type": "markdown",
      "metadata": {
        "id": "1lg9QJtcObFB"
      },
      "source": [
        "We now consider the number of bookings (not cancelled) but by market segment. Since no periodicity is specified, we start by considering bookings per market segment and per average hotel per year."
      ]
    },
    {
      "cell_type": "code",
      "execution_count": null,
      "metadata": {
        "colab": {
          "base_uri": "https://localhost:8080/",
          "height": 750
        },
        "id": "Vm_OrKDvQ0Eq",
        "outputId": "191330c2-50ac-420a-f6ab-f17afd5bcce4"
      },
      "outputs": [
        {
          "data": {
            "text/plain": [
              "<matplotlib.legend.Legend at 0x7fb98266f310>"
            ]
          },
          "execution_count": 40,
          "metadata": {
            "tags": []
          },
          "output_type": "execute_result"
        },
        {
          "data": {
            "image/png": "[encoded data removed]",
            "text/plain": [
              "<Figure size 1152x648 with 1 Axes>"
            ]
          },
          "metadata": {
            "needs_background": "light",
            "tags": []
          },
          "output_type": "display_data"
        }
      ],
      "source": [
        "# total reservations by market segment and hotel type\n",
        "market_total = (df[df['is_canceled'] == 0].groupby(['market_segment', 'hotel'])['arrival_date_year'].\n",
        "                value_counts().groupby(['market_segment','hotel']).mean()).to_frame()\n",
        "market_total.columns = ['Average Reservations']\n",
        "market_total.index.names = ['Market Segment', 'Hotel Type']\n",
        "\n",
        "# graficas reservas totales por segmento de mercado\n",
        "market_total.plot.bar(linewidth=3.0, figsize=(16,9), color='purple')\n",
        "\n",
        "for t in plt.xticks()[1]: # cambiar tamaño de ticks horizontales\n",
        "    t.set_fontsize(12)\n",
        "\n",
        "for t in plt.yticks()[1]: # cambiar tamaño de ticks verticales\n",
        "    t.set_fontsize(16)\n",
        "\n",
        "plt.xlabel('Market segment, Hotel', fontsize=16)\n",
        "plt.ylabel('No. of reservations',  fontsize=16)\n",
        "plt.legend(fontsize=16)"
      ]
    },
    {
      "cell_type": "markdown",
      "metadata": {
        "id": "Mmh1LvBXUn2C"
      },
      "source": [
        "Considering the average number of bookings per year per hotel and per market sector, we can observe that for both the urban hotel and the resort, most of the bookings have been made through an agency/platform through the internet (online). This is particularly significant for the city hotel, and in general is expected due to the great extension of digital platforms for hotel search and booking.\n",
        "\n",
        "On the other hand, the lowest number of bookings correspond to the aviation and complementary sectors. Note that there are no reservations in resort hotels for the aviation sector, which makes sense as this corresponds to aviation personnel who usually only come to stay in a city hotel."
      ]
    },
    {
      "cell_type": "markdown",
      "metadata": {
        "id": "vGim-B-MG70Y"
      },
      "source": [
        "**How many reservations were cancelled?**"
      ]
    },
    {
      "cell_type": "markdown",
      "metadata": {
        "id": "6aHRt_4CYavp"
      },
      "source": [
        "We count the number of cancelled reservations, by type of hotel and by each year. Since we do not have all the months for the three years it is not convenient to make an average in this part, so we better consider the total number of cancellations in the whole history of reservations provided."
      ]
    },
    {
      "cell_type": "code",
      "execution_count": null,
      "metadata": {
        "colab": {
          "base_uri": "https://localhost:8080/"
        },
        "id": "GKi6gkkvY2Y7",
        "outputId": "d9cb7212-b6e9-4adc-ca34-f67ce883370e"
      },
      "outputs": [
        {
          "name": "stdout",
          "output_type": "stream",
          "text": [
            "Total de cancelaciones (hotel urbano):  33079  ( 27.7 %)\n",
            "Total de cancelaciones (hotel resort):  11120  ( 9.3 %)\n"
          ]
        }
      ],
      "source": [
        "# total number of reservations cancelled (city hotel)\n",
        "total_cancel_urban = df[df['is_canceled'] == 1][df['hotel'] == 'City Hotel']['id'].count()\n",
        "print('Total of Cancellations (City Hotel): ', total_cancel_urban, ' (', round(total_cancel_urban/df.shape[0]*100,1), '%)')\n",
        "\n",
        "# total number of reservations cancelled (resort hotel)\n",
        "total_cancel_resort = df[df['is_canceled'] == 1][df['hotel'] == 'Resort Hotel']['id'].count()\n",
        "print('Total of Cancellations (Resort Hotel): ', total_cancel_resort, ' (', round(total_cancel_resort/df.shape[0]*100,1), '%)')"
      ]
    },
    {
      "cell_type": "markdown",
      "metadata": {
        "id": "i0-cquBOZJj6"
      },
      "source": [
        "Considering the total data provided, we see that for the urban hotel we have a cancellation rate of 27.7% (33,079 cancellations), which corresponds to around 1 out of every 5 reservations having been cancelled. This percentage is lower for the resort hotel, with a total cancellation rate of 9.3% (11,120 cancellations), that is, around 1 out of every 10 reservations were cancelled.\n",
        "\n",
        "We note then that the urban hotel has a proportion of cancelled reservations almost 3 times higher than the resort hotel. This can be explained by the fact that the resort hotel is usually booked by people during their holidays, and thus are less likely to change their plans as much as people who may just be looking for a city hotel to stay a few nights."
      ]
    },
    {
      "cell_type": "markdown",
      "metadata": {
        "id": "ufe3qA3hG8MA"
      },
      "source": [
        "**Which month has the highest number of cancellations?**"
      ]
    },
    {
      "cell_type": "markdown",
      "metadata": {
        "id": "xFazpMu2djTX"
      },
      "source": [
        "We now consider the average number of cancellations per month and per hotel, and obtain the months with the highest cancellation rate."
      ]
    },
    {
      "cell_type": "code",
      "execution_count": null,
      "metadata": {
        "colab": {
          "base_uri": "https://localhost:8080/",
          "height": 450
        },
        "id": "cIkUvpu7fQcg",
        "outputId": "4b35fd6c-a0d4-4d83-9c73-62e9a2b6d1ba"
      },
      "outputs": [
        {
          "data": {
            "text/html": [
              "<div>\n",
              "<style scoped>\n",
              "    .dataframe tbody tr th:only-of-type {\n",
              "        vertical-align: middle;\n",
              "    }\n",
              "\n",
              "    .dataframe tbody tr th {\n",
              "        vertical-align: top;\n",
              "    }\n",
              "\n",
              "    .dataframe thead th {\n",
              "        text-align: right;\n",
              "    }\n",
              "</style>\n",
              "<table border=\"1\" class=\"dataframe\">\n",
              "  <thead>\n",
              "    <tr style=\"text-align: right;\">\n",
              "      <th></th>\n",
              "      <th>Cancelaciones (Hotel Urbano)</th>\n",
              "      <th>Cancelaciones (Hotel Resort)</th>\n",
              "    </tr>\n",
              "    <tr>\n",
              "      <th>Mes</th>\n",
              "      <th></th>\n",
              "      <th></th>\n",
              "    </tr>\n",
              "  </thead>\n",
              "  <tbody>\n",
              "    <tr>\n",
              "      <th>Enero</th>\n",
              "      <td>740.5</td>\n",
              "      <td>162.5</td>\n",
              "    </tr>\n",
              "    <tr>\n",
              "      <th>Febrero</th>\n",
              "      <td>949.5</td>\n",
              "      <td>397.0</td>\n",
              "    </tr>\n",
              "    <tr>\n",
              "      <th>Marzo</th>\n",
              "      <td>1192.5</td>\n",
              "      <td>381.5</td>\n",
              "    </tr>\n",
              "    <tr>\n",
              "      <th>Abril</th>\n",
              "      <td>1729.5</td>\n",
              "      <td>529.5</td>\n",
              "    </tr>\n",
              "    <tr>\n",
              "      <th>Mayo</th>\n",
              "      <td>1826.5</td>\n",
              "      <td>512.0</td>\n",
              "    </tr>\n",
              "    <tr>\n",
              "      <th>Junio</th>\n",
              "      <td>1763.5</td>\n",
              "      <td>503.5</td>\n",
              "    </tr>\n",
              "    <tr>\n",
              "      <th>Julio</th>\n",
              "      <td>1100.3</td>\n",
              "      <td>478.7</td>\n",
              "    </tr>\n",
              "    <tr>\n",
              "      <th>Agosto</th>\n",
              "      <td>1200.0</td>\n",
              "      <td>545.7</td>\n",
              "    </tr>\n",
              "    <tr>\n",
              "      <th>Septiembre</th>\n",
              "      <td>1554.5</td>\n",
              "      <td>503.0</td>\n",
              "    </tr>\n",
              "    <tr>\n",
              "      <th>Octubre</th>\n",
              "      <td>1634.0</td>\n",
              "      <td>489.0</td>\n",
              "    </tr>\n",
              "    <tr>\n",
              "      <th>Noviembre</th>\n",
              "      <td>830.0</td>\n",
              "      <td>230.0</td>\n",
              "    </tr>\n",
              "    <tr>\n",
              "      <th>Diciembre</th>\n",
              "      <td>868.5</td>\n",
              "      <td>315.5</td>\n",
              "    </tr>\n",
              "  </tbody>\n",
              "</table>\n",
              "</div>"
            ],
            "text/plain": [
              "            Cancelaciones (Hotel Urbano)  Cancelaciones (Hotel Resort)\n",
              "Mes                                                                   \n",
              "Enero                              740.5                         162.5\n",
              "Febrero                            949.5                         397.0\n",
              "Marzo                             1192.5                         381.5\n",
              "Abril                             1729.5                         529.5\n",
              "Mayo                              1826.5                         512.0\n",
              "Junio                             1763.5                         503.5\n",
              "Julio                             1100.3                         478.7\n",
              "Agosto                            1200.0                         545.7\n",
              "Septiembre                        1554.5                         503.0\n",
              "Octubre                           1634.0                         489.0\n",
              "Noviembre                          830.0                         230.0\n",
              "Diciembre                          868.5                         315.5"
            ]
          },
          "execution_count": 42,
          "metadata": {
            "tags": []
          },
          "output_type": "execute_result"
        }
      ],
      "source": [
        "# monthly cancellations for city hotel\n",
        "urban_cancel = (round(df[df['is_canceled'] == 1][df['hotel'] == 'City Hotel'].groupby('arrival_date_month')['arrival_date_year'].\n",
        "              value_counts().groupby('arrival_date_month').mean(),1)).to_frame()\n",
        "\n",
        "# sort by month\n",
        "urban_cancel['Mes'] = pd.to_datetime(urban_cancel.index, format='%B').month\n",
        "urban_cancel = urban_cancel.sort_values(by='Mes').drop('Mes',axis=1)\n",
        "urban_cancel.index = months_esp\n",
        "urban_cancel.index.names = ['Mes']\n",
        "\n",
        "# monthly cancellations for resort hotel\n",
        "resort_cancel = (round(df[df['is_canceled'] == 1][df['hotel'] == 'Resort Hotel'].groupby('arrival_date_month')['arrival_date_year'].\n",
        "              value_counts().groupby('arrival_date_month').mean(),1)).to_frame()\n",
        "\n",
        "# sort by month\n",
        "resort_cancel['Mes'] = pd.to_datetime(resort_cancel.index, format='%B').month\n",
        "resort_cancel = resort_cancel.sort_values(by='Mes').drop('Mes',axis=1)\n",
        "resort_cancel.index = months_esp\n",
        "resort_cancel.index.names = ['Mes']\n",
        "\n",
        "# combine dataframes\n",
        "monthly_cancel = urban_cancel.merge(resort_cancel, on='Mes')\n",
        "monthly_cancel.columns = ['Cancellations (City Hotel)', 'Cancellations (Resort Hotel)']\n",
        "monthly_cancel"
      ]
    },
    {
      "cell_type": "code",
      "execution_count": null,
      "metadata": {
        "colab": {
          "base_uri": "https://localhost:8080/"
        },
        "id": "9tgMLHaGkBFz",
        "outputId": "5c121f8d-505d-463f-8626-bdb2998f9612"
      },
      "outputs": [
        {
          "name": "stdout",
          "output_type": "stream",
          "text": [
            "Mes con mayor no. de cancelaciones (Hotel urbano):  Mayo\n",
            "Mes con mayor no. de cancelaciones (Hotel resort):  Agosto\n"
          ]
        }
      ],
      "source": [
        "# month with the highest (average) number of cancellations (city hotel)\n",
        "max_urban = monthly_cancel.index[monthly_cancel['Cancellations (City Hotel)'] == max(monthly_cancel['Cancellations (City Hotel)'])][0]\n",
        "print('Month with the highest no. of cancellations (City Hotel): ', max_urban)\n",
        "\n",
        "# month with the highest (average) number of cancellations (resort hotel)\n",
        "max_resort = monthly_cancel.index[monthly_cancel['Cancellations (Resort Hotel)'] == max(monthly_cancel['Cancellations (Resort Hotel)'])][0]\n",
        "print('Month with the highest no. of cancellations (Resort Hotel): ', max_resort)"
      ]
    },
    {
      "cell_type": "code",
      "execution_count": null,
      "metadata": {
        "colab": {
          "base_uri": "https://localhost:8080/",
          "height": 576
        },
        "id": "LPxFKGBahDBg",
        "outputId": "c2dd3984-0571-42b0-966c-a8b93239f36f"
      },
      "outputs": [
        {
          "data": {
            "text/plain": [
              "<matplotlib.legend.Legend at 0x7fb982520e50>"
            ]
          },
          "execution_count": 44,
          "metadata": {
            "tags": []
          },
          "output_type": "execute_result"
        },
        {
          "data": {
            "image/png": "[encoded data removed]",
            "text/plain": [
              "<Figure size 1152x648 with 1 Axes>"
            ]
          },
          "metadata": {
            "needs_background": "light",
            "tags": []
          },
          "output_type": "display_data"
        }
      ],
      "source": [
        "# plot no. of guests per hotel\n",
        "monthly_cancel.plot.line(linewidth=3.0, color=['green', 'red'], figsize=(16,9))\n",
        "\n",
        "for t in plt.xticks()[1]:\n",
        "    t.set_fontsize(12)\n",
        "\n",
        "for t in plt.yticks()[1]:\n",
        "    t.set_fontsize(16)\n",
        "\n",
        "plt.xlabel('Month', fontsize=16)\n",
        "plt.ylabel('No. of guests',  fontsize=16)\n",
        "plt.legend(fontsize=16)"
      ]
    },
    {
      "cell_type": "markdown",
      "metadata": {
        "id": "WBCoCAcEk8Tk"
      },
      "source": [
        "For the city hotel we observe that the highest number of cancellations (average) occurred between the months of April and June and between September and October. May is the month with the highest number of cancellations for this hotel.\n",
        "\n",
        "For the resort hotel, we observe that the highest number of cancellations (average) is between April and October. August is the month with the highest number of cancellations for this hotel."
      ]
    },
    {
      "cell_type": "markdown",
      "metadata": {
        "id": "58xeMnMqlYXz"
      },
      "source": [
        "## III. Predictive Modeling - Preprocessing"
      ]
    },
    {
      "cell_type": "markdown",
      "metadata": {
        "id": "7FMYbaQ3wmrb"
      },
      "source": [
        "We will now proceed to the prediction section. The objective is to predict whether a reservation will be cancelled based on past cancellations, i.e. to predict whether the value of the 'is_canceled' column will be 1 or 0. Therefore, we have a binary classification problem, and we will consider three different models to perform such prediction and compare their performances.\n",
        "\n",
        "Before proceeding to the construction of the architectures, it is necessary to prepare the data and perform the selection of relevant features for the prediction of our target feature."
      ]
    },
    {
      "cell_type": "code",
      "execution_count": null,
      "metadata": {
        "colab": {
          "base_uri": "https://localhost:8080/",
          "height": 307
        },
        "id": "YLvjwCHc2wej",
        "outputId": "94700060-6417-43a6-e933-6d39f970de0b"
      },
      "outputs": [
        {
          "data": {
            "text/html": [
              "<div>\n",
              "<style scoped>\n",
              "    .dataframe tbody tr th:only-of-type {\n",
              "        vertical-align: middle;\n",
              "    }\n",
              "\n",
              "    .dataframe tbody tr th {\n",
              "        vertical-align: top;\n",
              "    }\n",
              "\n",
              "    .dataframe thead th {\n",
              "        text-align: right;\n",
              "    }\n",
              "</style>\n",
              "<table border=\"1\" class=\"dataframe\">\n",
              "  <thead>\n",
              "    <tr style=\"text-align: right;\">\n",
              "      <th></th>\n",
              "      <th>id</th>\n",
              "      <th>hotel</th>\n",
              "      <th>is_canceled</th>\n",
              "      <th>lead_time</th>\n",
              "      <th>arrival_date_year</th>\n",
              "      <th>arrival_date_month</th>\n",
              "      <th>arrival_date_week_number</th>\n",
              "      <th>arrival_date_day_of_month</th>\n",
              "      <th>stays_in_weekend_nights</th>\n",
              "      <th>stays_in_week_nights</th>\n",
              "      <th>adults</th>\n",
              "      <th>children</th>\n",
              "      <th>babies</th>\n",
              "      <th>meal</th>\n",
              "      <th>country</th>\n",
              "      <th>market_segment</th>\n",
              "      <th>distribution_channel</th>\n",
              "      <th>is_repeated_guest</th>\n",
              "      <th>previous_cancellations</th>\n",
              "      <th>previous_bookings_not_canceled</th>\n",
              "      <th>reserved_room_type</th>\n",
              "      <th>assigned_room_type</th>\n",
              "      <th>booking_changes</th>\n",
              "      <th>deposit_type</th>\n",
              "      <th>agent</th>\n",
              "      <th>days_in_waiting_list</th>\n",
              "      <th>customer_type</th>\n",
              "      <th>adr</th>\n",
              "      <th>required_car_parking_spaces</th>\n",
              "      <th>total_of_special_requests</th>\n",
              "      <th>reservation_status</th>\n",
              "      <th>reservation_status_date</th>\n",
              "    </tr>\n",
              "  </thead>\n",
              "  <tbody>\n",
              "    <tr>\n",
              "      <th>0</th>\n",
              "      <td>1</td>\n",
              "      <td>Resort Hotel</td>\n",
              "      <td>0</td>\n",
              "      <td>342</td>\n",
              "      <td>2015</td>\n",
              "      <td>July</td>\n",
              "      <td>27</td>\n",
              "      <td>1</td>\n",
              "      <td>0</td>\n",
              "      <td>0</td>\n",
              "      <td>2</td>\n",
              "      <td>0.0</td>\n",
              "      <td>0</td>\n",
              "      <td>BB</td>\n",
              "      <td>PRT</td>\n",
              "      <td>Direct</td>\n",
              "      <td>Direct</td>\n",
              "      <td>0</td>\n",
              "      <td>0</td>\n",
              "      <td>0</td>\n",
              "      <td>C</td>\n",
              "      <td>C</td>\n",
              "      <td>3</td>\n",
              "      <td>No Deposit</td>\n",
              "      <td>0.0</td>\n",
              "      <td>0</td>\n",
              "      <td>Transient</td>\n",
              "      <td>0.0</td>\n",
              "      <td>0</td>\n",
              "      <td>0</td>\n",
              "      <td>Check-Out</td>\n",
              "      <td>1/7/2015</td>\n",
              "    </tr>\n",
              "    <tr>\n",
              "      <th>1</th>\n",
              "      <td>2</td>\n",
              "      <td>Resort Hotel</td>\n",
              "      <td>0</td>\n",
              "      <td>737</td>\n",
              "      <td>2015</td>\n",
              "      <td>July</td>\n",
              "      <td>27</td>\n",
              "      <td>1</td>\n",
              "      <td>0</td>\n",
              "      <td>0</td>\n",
              "      <td>2</td>\n",
              "      <td>0.0</td>\n",
              "      <td>0</td>\n",
              "      <td>BB</td>\n",
              "      <td>PRT</td>\n",
              "      <td>Direct</td>\n",
              "      <td>Direct</td>\n",
              "      <td>0</td>\n",
              "      <td>0</td>\n",
              "      <td>0</td>\n",
              "      <td>C</td>\n",
              "      <td>C</td>\n",
              "      <td>4</td>\n",
              "      <td>No Deposit</td>\n",
              "      <td>0.0</td>\n",
              "      <td>0</td>\n",
              "      <td>Transient</td>\n",
              "      <td>0.0</td>\n",
              "      <td>0</td>\n",
              "      <td>0</td>\n",
              "      <td>Check-Out</td>\n",
              "      <td>1/7/2015</td>\n",
              "    </tr>\n",
              "    <tr>\n",
              "      <th>2</th>\n",
              "      <td>3</td>\n",
              "      <td>Resort Hotel</td>\n",
              "      <td>0</td>\n",
              "      <td>7</td>\n",
              "      <td>2015</td>\n",
              "      <td>July</td>\n",
              "      <td>27</td>\n",
              "      <td>1</td>\n",
              "      <td>0</td>\n",
              "      <td>1</td>\n",
              "      <td>1</td>\n",
              "      <td>0.0</td>\n",
              "      <td>0</td>\n",
              "      <td>BB</td>\n",
              "      <td>GBR</td>\n",
              "      <td>Direct</td>\n",
              "      <td>Direct</td>\n",
              "      <td>0</td>\n",
              "      <td>0</td>\n",
              "      <td>0</td>\n",
              "      <td>A</td>\n",
              "      <td>C</td>\n",
              "      <td>0</td>\n",
              "      <td>No Deposit</td>\n",
              "      <td>0.0</td>\n",
              "      <td>0</td>\n",
              "      <td>Transient</td>\n",
              "      <td>75.0</td>\n",
              "      <td>0</td>\n",
              "      <td>0</td>\n",
              "      <td>Check-Out</td>\n",
              "      <td>2/7/2015</td>\n",
              "    </tr>\n",
              "    <tr>\n",
              "      <th>3</th>\n",
              "      <td>4</td>\n",
              "      <td>Resort Hotel</td>\n",
              "      <td>0</td>\n",
              "      <td>13</td>\n",
              "      <td>2015</td>\n",
              "      <td>July</td>\n",
              "      <td>27</td>\n",
              "      <td>1</td>\n",
              "      <td>0</td>\n",
              "      <td>1</td>\n",
              "      <td>1</td>\n",
              "      <td>0.0</td>\n",
              "      <td>0</td>\n",
              "      <td>BB</td>\n",
              "      <td>GBR</td>\n",
              "      <td>Corporate</td>\n",
              "      <td>Corporate</td>\n",
              "      <td>0</td>\n",
              "      <td>0</td>\n",
              "      <td>0</td>\n",
              "      <td>A</td>\n",
              "      <td>A</td>\n",
              "      <td>0</td>\n",
              "      <td>No Deposit</td>\n",
              "      <td>304.0</td>\n",
              "      <td>0</td>\n",
              "      <td>Transient</td>\n",
              "      <td>75.0</td>\n",
              "      <td>0</td>\n",
              "      <td>0</td>\n",
              "      <td>Check-Out</td>\n",
              "      <td>2/7/2015</td>\n",
              "    </tr>\n",
              "    <tr>\n",
              "      <th>4</th>\n",
              "      <td>5</td>\n",
              "      <td>Resort Hotel</td>\n",
              "      <td>0</td>\n",
              "      <td>14</td>\n",
              "      <td>2015</td>\n",
              "      <td>July</td>\n",
              "      <td>27</td>\n",
              "      <td>1</td>\n",
              "      <td>0</td>\n",
              "      <td>2</td>\n",
              "      <td>2</td>\n",
              "      <td>0.0</td>\n",
              "      <td>0</td>\n",
              "      <td>BB</td>\n",
              "      <td>GBR</td>\n",
              "      <td>Online TA</td>\n",
              "      <td>TA/TO</td>\n",
              "      <td>0</td>\n",
              "      <td>0</td>\n",
              "      <td>0</td>\n",
              "      <td>A</td>\n",
              "      <td>A</td>\n",
              "      <td>0</td>\n",
              "      <td>No Deposit</td>\n",
              "      <td>240.0</td>\n",
              "      <td>0</td>\n",
              "      <td>Transient</td>\n",
              "      <td>98.0</td>\n",
              "      <td>0</td>\n",
              "      <td>1</td>\n",
              "      <td>Check-Out</td>\n",
              "      <td>3/7/2015</td>\n",
              "    </tr>\n",
              "  </tbody>\n",
              "</table>\n",
              "</div>"
            ],
            "text/plain": [
              "   id         hotel  ...  reservation_status  reservation_status_date\n",
              "0   1  Resort Hotel  ...           Check-Out                 1/7/2015\n",
              "1   2  Resort Hotel  ...           Check-Out                 1/7/2015\n",
              "2   3  Resort Hotel  ...           Check-Out                 2/7/2015\n",
              "3   4  Resort Hotel  ...           Check-Out                 2/7/2015\n",
              "4   5  Resort Hotel  ...           Check-Out                 3/7/2015\n",
              "\n",
              "[5 rows x 32 columns]"
            ]
          },
          "execution_count": 45,
          "metadata": {
            "tags": []
          },
          "output_type": "execute_result"
        }
      ],
      "source": [
        "# drop columns added during EDA\n",
        "df.drop('level_0', axis=1, inplace=True)\n",
        "df.drop('stays_nights', axis=1, inplace=True)\n",
        "df.drop('index', axis=1, inplace=True)\n",
        "\n",
        "df.head(5)"
      ]
    },
    {
      "cell_type": "code",
      "execution_count": null,
      "metadata": {
        "id": "RyiiKGB43wR0"
      },
      "outputs": [],
      "source": [
        "# make a copy of the dataframe\n",
        "data = df.copy()"
      ]
    },
    {
      "cell_type": "markdown",
      "metadata": {
        "id": "wo_BZGSuwhR8"
      },
      "source": [
        "**Outlier processing**\n",
        "\n",
        "As we saw at the beginning of the notebook, there are extreme values in the dataset that could affect the performance of our predictive model."
      ]
    },
    {
      "cell_type": "code",
      "execution_count": null,
      "metadata": {
        "colab": {
          "base_uri": "https://localhost:8080/",
          "height": 547
        },
        "id": "RMeE3tZFyT0s",
        "outputId": "e407f1e3-bbb2-4043-c4dc-bbbd762985b6"
      },
      "outputs": [
        {
          "data": {
            "image/png": "[encoded data removed]",
            "text/plain": [
              "<Figure size 1152x648 with 11 Axes>"
            ]
          },
          "metadata": {
            "needs_background": "light",
            "tags": []
          },
          "output_type": "display_data"
        }
      ],
      "source": [
        "# list of columns with potential outliers\n",
        "out_cols = ['lead_time', 'stays_in_weekend_nights', 'stays_in_week_nights', 'adults',\n",
        "            'children', 'babies', 'previous_cancellations', 'previous_bookings_not_canceled',\n",
        "            'booking_changes', 'days_in_waiting_list', 'adr']\n",
        "\n",
        "plt.figure(figsize=(16,9))\n",
        "\n",
        "# plot boxplots in groups\n",
        "for i, col in enumerate(out_cols):\n",
        "  plt.subplot(4,3,i+1)\n",
        "  sns.boxplot(df[col])\n",
        "  plt.xlabel('')\n",
        "  plt.ylabel(col)"
      ]
    },
    {
      "cell_type": "code",
      "execution_count": null,
      "metadata": {
        "colab": {
          "base_uri": "https://localhost:8080/"
        },
        "id": "CRzLFWI1lSSA",
        "outputId": "029b5227-2f09-46d7-c912-f534fa18d77c"
      },
      "outputs": [
        {
          "name": "stdout",
          "output_type": "stream",
          "text": [
            "lead_time : 2.5 %\n",
            "stays_in_weekend_nights : 0.2 %\n",
            "stays_in_week_nights : 2.8 %\n",
            "adults : 5.3 %\n",
            "children : 7.2 %\n",
            "babies : 0.8 %\n",
            "previous_cancellations : 5.4 %\n",
            "previous_bookings_not_canceled : 3.0 %\n",
            "booking_changes : 15.1 %\n",
            "days_in_waiting_list : 3.1 %\n",
            "adr : 3.2 %\n"
          ]
        }
      ],
      "source": [
        "# percentage of outliers\n",
        "for col in out_cols:\n",
        "  q1 = df[col].quantile(0.25)\n",
        "  q3 = df[col].quantile(0.75)\n",
        "  iqr = q3 - q1\n",
        "  print(col, ':', round(((df[col] > (q3+1.5*iqr))).sum() / df.shape[0]*100,1), '%')"
      ]
    },
    {
      "cell_type": "markdown",
      "metadata": {
        "id": "Vtt3y8r4x1Ys"
      },
      "source": [
        "With the exception of 'booking_changes' most of the columns have a small percentage of extreme values (5% or less). However, in order not to have to completely remove the columns where they appear, we can treat such extreme values by using conditional expressions (we choose the limit values with the help of boxplots)."
      ]
    },
    {
      "cell_type": "code",
      "execution_count": null,
      "metadata": {
        "id": "-utTr6Xrx0UQ"
      },
      "outputs": [],
      "source": [
        "# limitación de valores extremos\n",
        "data.loc[data['lead_time'] > 600, 'lead_time'] = 600\n",
        "data.loc[data['stays_in_weekend_nights'] > 7, 'stays_in_weekend_nights'] = 7\n",
        "data.loc[data['stays_in_week_nights'] > 10, 'stays_in_week_nights'] = 10\n",
        "data.loc[data['adults'] > 5, 'adults'] = 5\n",
        "data.loc[data['children'] > 3, 'children'] = 3\n",
        "data.loc[data['babies'] > 2, 'babies'] = 2\n",
        "data.loc[data['previous_cancellations'] > 5, 'previous_cancellations'] = 5\n",
        "data.loc[data['previous_bookings_not_canceled'] > 0, 'previous_bookings_not_canceled'] = 1\n",
        "data.loc[data['booking_changes'] > 5, 'booking_changes'] = 5\n",
        "data.loc[data['days_in_waiting_list'] > 100, 'days_in_waiting_list'] = 100\n",
        "data.loc[data['adr'] > 1000, 'adr'] = 1000"
      ]
    },
    {
      "cell_type": "markdown",
      "metadata": {
        "id": "RGavSEtp2CWk"
      },
      "source": [
        "**Data leakage**"
      ]
    },
    {
      "cell_type": "markdown",
      "metadata": {
        "id": "2HWwYSnR4nmM"
      },
      "source": [
        "One of the most common errors in modeling is to try to consider as model input, data that will not necessarily be available at the time the model is in production."
      ]
    },
    {
      "cell_type": "code",
      "execution_count": null,
      "metadata": {
        "id": "nxwHZUpZ6MBd"
      },
      "outputs": [],
      "source": [
        "# possible reservation states\n",
        "data.reservation_status.unique()"
      ]
    },
    {
      "cell_type": "markdown",
      "metadata": {
        "id": "EZ-tj06I6QrH"
      },
      "source": [
        "By analyzing the columns available in the dataset, we see that the only column that can cause such information leakage would be the reservation status ('reservation_status'). Looking at the values that this column can have ('Check-Out', 'Canceled', 'No-Show'), it is evident that the reservation status almost always implies a-posteriori knowledge that the customer has canceled or not, when that is what we want to predict in the first place. Therefore, we remove that column from the input data."
      ]
    },
    {
      "cell_type": "code",
      "execution_count": null,
      "metadata": {
        "colab": {
          "base_uri": "https://localhost:8080/",
          "height": 307
        },
        "id": "ZpsKQz6z4KEc",
        "outputId": "ea01766c-c7e1-4302-b108-5d69b00917dd"
      },
      "outputs": [
        {
          "data": {
            "text/html": [
              "<div>\n",
              "<style scoped>\n",
              "    .dataframe tbody tr th:only-of-type {\n",
              "        vertical-align: middle;\n",
              "    }\n",
              "\n",
              "    .dataframe tbody tr th {\n",
              "        vertical-align: top;\n",
              "    }\n",
              "\n",
              "    .dataframe thead th {\n",
              "        text-align: right;\n",
              "    }\n",
              "</style>\n",
              "<table border=\"1\" class=\"dataframe\">\n",
              "  <thead>\n",
              "    <tr style=\"text-align: right;\">\n",
              "      <th></th>\n",
              "      <th>id</th>\n",
              "      <th>hotel</th>\n",
              "      <th>is_canceled</th>\n",
              "      <th>lead_time</th>\n",
              "      <th>arrival_date_year</th>\n",
              "      <th>arrival_date_month</th>\n",
              "      <th>arrival_date_week_number</th>\n",
              "      <th>arrival_date_day_of_month</th>\n",
              "      <th>stays_in_weekend_nights</th>\n",
              "      <th>stays_in_week_nights</th>\n",
              "      <th>adults</th>\n",
              "      <th>children</th>\n",
              "      <th>babies</th>\n",
              "      <th>meal</th>\n",
              "      <th>country</th>\n",
              "      <th>market_segment</th>\n",
              "      <th>distribution_channel</th>\n",
              "      <th>is_repeated_guest</th>\n",
              "      <th>previous_cancellations</th>\n",
              "      <th>previous_bookings_not_canceled</th>\n",
              "      <th>reserved_room_type</th>\n",
              "      <th>assigned_room_type</th>\n",
              "      <th>booking_changes</th>\n",
              "      <th>deposit_type</th>\n",
              "      <th>agent</th>\n",
              "      <th>days_in_waiting_list</th>\n",
              "      <th>customer_type</th>\n",
              "      <th>adr</th>\n",
              "      <th>required_car_parking_spaces</th>\n",
              "      <th>total_of_special_requests</th>\n",
              "      <th>reservation_status_date</th>\n",
              "    </tr>\n",
              "  </thead>\n",
              "  <tbody>\n",
              "    <tr>\n",
              "      <th>0</th>\n",
              "      <td>1</td>\n",
              "      <td>Resort Hotel</td>\n",
              "      <td>0</td>\n",
              "      <td>342</td>\n",
              "      <td>2015</td>\n",
              "      <td>July</td>\n",
              "      <td>27</td>\n",
              "      <td>1</td>\n",
              "      <td>0</td>\n",
              "      <td>0</td>\n",
              "      <td>2</td>\n",
              "      <td>0.0</td>\n",
              "      <td>0</td>\n",
              "      <td>BB</td>\n",
              "      <td>PRT</td>\n",
              "      <td>Direct</td>\n",
              "      <td>Direct</td>\n",
              "      <td>0</td>\n",
              "      <td>0</td>\n",
              "      <td>0</td>\n",
              "      <td>C</td>\n",
              "      <td>C</td>\n",
              "      <td>3</td>\n",
              "      <td>No Deposit</td>\n",
              "      <td>0.0</td>\n",
              "      <td>0</td>\n",
              "      <td>Transient</td>\n",
              "      <td>0.0</td>\n",
              "      <td>0</td>\n",
              "      <td>0</td>\n",
              "      <td>1/7/2015</td>\n",
              "    </tr>\n",
              "    <tr>\n",
              "      <th>1</th>\n",
              "      <td>2</td>\n",
              "      <td>Resort Hotel</td>\n",
              "      <td>0</td>\n",
              "      <td>600</td>\n",
              "      <td>2015</td>\n",
              "      <td>July</td>\n",
              "      <td>27</td>\n",
              "      <td>1</td>\n",
              "      <td>0</td>\n",
              "      <td>0</td>\n",
              "      <td>2</td>\n",
              "      <td>0.0</td>\n",
              "      <td>0</td>\n",
              "      <td>BB</td>\n",
              "      <td>PRT</td>\n",
              "      <td>Direct</td>\n",
              "      <td>Direct</td>\n",
              "      <td>0</td>\n",
              "      <td>0</td>\n",
              "      <td>0</td>\n",
              "      <td>C</td>\n",
              "      <td>C</td>\n",
              "      <td>4</td>\n",
              "      <td>No Deposit</td>\n",
              "      <td>0.0</td>\n",
              "      <td>0</td>\n",
              "      <td>Transient</td>\n",
              "      <td>0.0</td>\n",
              "      <td>0</td>\n",
              "      <td>0</td>\n",
              "      <td>1/7/2015</td>\n",
              "    </tr>\n",
              "    <tr>\n",
              "      <th>2</th>\n",
              "      <td>3</td>\n",
              "      <td>Resort Hotel</td>\n",
              "      <td>0</td>\n",
              "      <td>7</td>\n",
              "      <td>2015</td>\n",
              "      <td>July</td>\n",
              "      <td>27</td>\n",
              "      <td>1</td>\n",
              "      <td>0</td>\n",
              "      <td>1</td>\n",
              "      <td>1</td>\n",
              "      <td>0.0</td>\n",
              "      <td>0</td>\n",
              "      <td>BB</td>\n",
              "      <td>GBR</td>\n",
              "      <td>Direct</td>\n",
              "      <td>Direct</td>\n",
              "      <td>0</td>\n",
              "      <td>0</td>\n",
              "      <td>0</td>\n",
              "      <td>A</td>\n",
              "      <td>C</td>\n",
              "      <td>0</td>\n",
              "      <td>No Deposit</td>\n",
              "      <td>0.0</td>\n",
              "      <td>0</td>\n",
              "      <td>Transient</td>\n",
              "      <td>75.0</td>\n",
              "      <td>0</td>\n",
              "      <td>0</td>\n",
              "      <td>2/7/2015</td>\n",
              "    </tr>\n",
              "    <tr>\n",
              "      <th>3</th>\n",
              "      <td>4</td>\n",
              "      <td>Resort Hotel</td>\n",
              "      <td>0</td>\n",
              "      <td>13</td>\n",
              "      <td>2015</td>\n",
              "      <td>July</td>\n",
              "      <td>27</td>\n",
              "      <td>1</td>\n",
              "      <td>0</td>\n",
              "      <td>1</td>\n",
              "      <td>1</td>\n",
              "      <td>0.0</td>\n",
              "      <td>0</td>\n",
              "      <td>BB</td>\n",
              "      <td>GBR</td>\n",
              "      <td>Corporate</td>\n",
              "      <td>Corporate</td>\n",
              "      <td>0</td>\n",
              "      <td>0</td>\n",
              "      <td>0</td>\n",
              "      <td>A</td>\n",
              "      <td>A</td>\n",
              "      <td>0</td>\n",
              "      <td>No Deposit</td>\n",
              "      <td>304.0</td>\n",
              "      <td>0</td>\n",
              "      <td>Transient</td>\n",
              "      <td>75.0</td>\n",
              "      <td>0</td>\n",
              "      <td>0</td>\n",
              "      <td>2/7/2015</td>\n",
              "    </tr>\n",
              "    <tr>\n",
              "      <th>4</th>\n",
              "      <td>5</td>\n",
              "      <td>Resort Hotel</td>\n",
              "      <td>0</td>\n",
              "      <td>14</td>\n",
              "      <td>2015</td>\n",
              "      <td>July</td>\n",
              "      <td>27</td>\n",
              "      <td>1</td>\n",
              "      <td>0</td>\n",
              "      <td>2</td>\n",
              "      <td>2</td>\n",
              "      <td>0.0</td>\n",
              "      <td>0</td>\n",
              "      <td>BB</td>\n",
              "      <td>GBR</td>\n",
              "      <td>Online TA</td>\n",
              "      <td>TA/TO</td>\n",
              "      <td>0</td>\n",
              "      <td>0</td>\n",
              "      <td>0</td>\n",
              "      <td>A</td>\n",
              "      <td>A</td>\n",
              "      <td>0</td>\n",
              "      <td>No Deposit</td>\n",
              "      <td>240.0</td>\n",
              "      <td>0</td>\n",
              "      <td>Transient</td>\n",
              "      <td>98.0</td>\n",
              "      <td>0</td>\n",
              "      <td>1</td>\n",
              "      <td>3/7/2015</td>\n",
              "    </tr>\n",
              "  </tbody>\n",
              "</table>\n",
              "</div>"
            ],
            "text/plain": [
              "   id         hotel  ...  total_of_special_requests  reservation_status_date\n",
              "0   1  Resort Hotel  ...                          0                 1/7/2015\n",
              "1   2  Resort Hotel  ...                          0                 1/7/2015\n",
              "2   3  Resort Hotel  ...                          0                 2/7/2015\n",
              "3   4  Resort Hotel  ...                          0                 2/7/2015\n",
              "4   5  Resort Hotel  ...                          1                 3/7/2015\n",
              "\n",
              "[5 rows x 31 columns]"
            ]
          },
          "execution_count": 51,
          "metadata": {
            "tags": []
          },
          "output_type": "execute_result"
        }
      ],
      "source": [
        "data.drop('reservation_status', axis=1, inplace=True)\n",
        "data.head(5)"
      ]
    },
    {
      "cell_type": "markdown",
      "metadata": {
        "id": "_Yq03gsiB_BX"
      },
      "source": [
        "**Timestamp separation**\n",
        "\n",
        "The 'reservation_status_date' column is a date that cannot be processed in that status. Therefore, we must first convert it to a timestamp and then separate it into its components."
      ]
    },
    {
      "cell_type": "code",
      "execution_count": null,
      "metadata": {
        "colab": {
          "base_uri": "https://localhost:8080/",
          "height": 212
        },
        "id": "-1oKPgV6CKWF",
        "outputId": "6e957d80-6f55-4985-cd26-a983e69bae10"
      },
      "outputs": [
        {
          "data": {
            "text/html": [
              "<div>\n",
              "<style scoped>\n",
              "    .dataframe tbody tr th:only-of-type {\n",
              "        vertical-align: middle;\n",
              "    }\n",
              "\n",
              "    .dataframe tbody tr th {\n",
              "        vertical-align: top;\n",
              "    }\n",
              "\n",
              "    .dataframe thead th {\n",
              "        text-align: right;\n",
              "    }\n",
              "</style>\n",
              "<table border=\"1\" class=\"dataframe\">\n",
              "  <thead>\n",
              "    <tr style=\"text-align: right;\">\n",
              "      <th></th>\n",
              "      <th>id</th>\n",
              "      <th>hotel</th>\n",
              "      <th>is_canceled</th>\n",
              "      <th>lead_time</th>\n",
              "      <th>arrival_date_year</th>\n",
              "      <th>arrival_date_month</th>\n",
              "      <th>arrival_date_week_number</th>\n",
              "      <th>arrival_date_day_of_month</th>\n",
              "      <th>stays_in_weekend_nights</th>\n",
              "      <th>stays_in_week_nights</th>\n",
              "      <th>adults</th>\n",
              "      <th>children</th>\n",
              "      <th>babies</th>\n",
              "      <th>meal</th>\n",
              "      <th>country</th>\n",
              "      <th>market_segment</th>\n",
              "      <th>distribution_channel</th>\n",
              "      <th>is_repeated_guest</th>\n",
              "      <th>previous_cancellations</th>\n",
              "      <th>previous_bookings_not_canceled</th>\n",
              "      <th>reserved_room_type</th>\n",
              "      <th>assigned_room_type</th>\n",
              "      <th>booking_changes</th>\n",
              "      <th>deposit_type</th>\n",
              "      <th>agent</th>\n",
              "      <th>days_in_waiting_list</th>\n",
              "      <th>customer_type</th>\n",
              "      <th>adr</th>\n",
              "      <th>required_car_parking_spaces</th>\n",
              "      <th>total_of_special_requests</th>\n",
              "      <th>reservation_status_date_year</th>\n",
              "      <th>reservation_status_date_month</th>\n",
              "      <th>reservation_status_date_day</th>\n",
              "    </tr>\n",
              "  </thead>\n",
              "  <tbody>\n",
              "    <tr>\n",
              "      <th>0</th>\n",
              "      <td>1</td>\n",
              "      <td>Resort Hotel</td>\n",
              "      <td>0</td>\n",
              "      <td>342</td>\n",
              "      <td>2015</td>\n",
              "      <td>July</td>\n",
              "      <td>27</td>\n",
              "      <td>1</td>\n",
              "      <td>0</td>\n",
              "      <td>0</td>\n",
              "      <td>2</td>\n",
              "      <td>0.0</td>\n",
              "      <td>0</td>\n",
              "      <td>BB</td>\n",
              "      <td>PRT</td>\n",
              "      <td>Direct</td>\n",
              "      <td>Direct</td>\n",
              "      <td>0</td>\n",
              "      <td>0</td>\n",
              "      <td>0</td>\n",
              "      <td>C</td>\n",
              "      <td>C</td>\n",
              "      <td>3</td>\n",
              "      <td>No Deposit</td>\n",
              "      <td>0.0</td>\n",
              "      <td>0</td>\n",
              "      <td>Transient</td>\n",
              "      <td>0.0</td>\n",
              "      <td>0</td>\n",
              "      <td>0</td>\n",
              "      <td>2015</td>\n",
              "      <td>1</td>\n",
              "      <td>7</td>\n",
              "    </tr>\n",
              "    <tr>\n",
              "      <th>1</th>\n",
              "      <td>2</td>\n",
              "      <td>Resort Hotel</td>\n",
              "      <td>0</td>\n",
              "      <td>600</td>\n",
              "      <td>2015</td>\n",
              "      <td>July</td>\n",
              "      <td>27</td>\n",
              "      <td>1</td>\n",
              "      <td>0</td>\n",
              "      <td>0</td>\n",
              "      <td>2</td>\n",
              "      <td>0.0</td>\n",
              "      <td>0</td>\n",
              "      <td>BB</td>\n",
              "      <td>PRT</td>\n",
              "      <td>Direct</td>\n",
              "      <td>Direct</td>\n",
              "      <td>0</td>\n",
              "      <td>0</td>\n",
              "      <td>0</td>\n",
              "      <td>C</td>\n",
              "      <td>C</td>\n",
              "      <td>4</td>\n",
              "      <td>No Deposit</td>\n",
              "      <td>0.0</td>\n",
              "      <td>0</td>\n",
              "      <td>Transient</td>\n",
              "      <td>0.0</td>\n",
              "      <td>0</td>\n",
              "      <td>0</td>\n",
              "      <td>2015</td>\n",
              "      <td>1</td>\n",
              "      <td>7</td>\n",
              "    </tr>\n",
              "    <tr>\n",
              "      <th>2</th>\n",
              "      <td>3</td>\n",
              "      <td>Resort Hotel</td>\n",
              "      <td>0</td>\n",
              "      <td>7</td>\n",
              "      <td>2015</td>\n",
              "      <td>July</td>\n",
              "      <td>27</td>\n",
              "      <td>1</td>\n",
              "      <td>0</td>\n",
              "      <td>1</td>\n",
              "      <td>1</td>\n",
              "      <td>0.0</td>\n",
              "      <td>0</td>\n",
              "      <td>BB</td>\n",
              "      <td>GBR</td>\n",
              "      <td>Direct</td>\n",
              "      <td>Direct</td>\n",
              "      <td>0</td>\n",
              "      <td>0</td>\n",
              "      <td>0</td>\n",
              "      <td>A</td>\n",
              "      <td>C</td>\n",
              "      <td>0</td>\n",
              "      <td>No Deposit</td>\n",
              "      <td>0.0</td>\n",
              "      <td>0</td>\n",
              "      <td>Transient</td>\n",
              "      <td>75.0</td>\n",
              "      <td>0</td>\n",
              "      <td>0</td>\n",
              "      <td>2015</td>\n",
              "      <td>2</td>\n",
              "      <td>7</td>\n",
              "    </tr>\n",
              "  </tbody>\n",
              "</table>\n",
              "</div>"
            ],
            "text/plain": [
              "   id         hotel  ...  reservation_status_date_month  reservation_status_date_day\n",
              "0   1  Resort Hotel  ...                              1                            7\n",
              "1   2  Resort Hotel  ...                              1                            7\n",
              "2   3  Resort Hotel  ...                              2                            7\n",
              "\n",
              "[3 rows x 33 columns]"
            ]
          },
          "execution_count": 52,
          "metadata": {
            "tags": []
          },
          "output_type": "execute_result"
        }
      ],
      "source": [
        "# convert column to Timestamp type\n",
        "data['reservation_status_date'] = pd.to_datetime(data['reservation_status_date'])\n",
        "\n",
        "# separate year, month, and day\n",
        "data['reservation_status_date_year'] = data['reservation_status_date'].dt.year\n",
        "data['reservation_status_date_month'] = data['reservation_status_date'].dt.month\n",
        "data['reservation_status_date_day'] = data['reservation_status_date'].dt.day\n",
        "\n",
        "# drop original column\n",
        "data.drop('reservation_status_date', axis=1, inplace=True)\n",
        "\n",
        "data.head(3)"
      ]
    },
    {
      "cell_type": "markdown",
      "metadata": {
        "id": "bnBo-eUp-NWm"
      },
      "source": [
        "**Encoding of categorical variables**\n",
        "\n",
        "In order to be able to analyze the correlation of variables, it is necessary to encode the categorical variables into numerical variables. We start by identifying the columns with categorical variables."
      ]
    },
    {
      "cell_type": "code",
      "execution_count": null,
      "metadata": {
        "id": "G15l3Dfh-RNg"
      },
      "outputs": [],
      "source": [
        "# columns with categorical variables\n",
        "cat_cols = list(data.columns[data.dtypes == 'O'])\n",
        "cat_cols"
      ]
    },
    {
      "cell_type": "code",
      "execution_count": null,
      "metadata": {
        "colab": {
          "base_uri": "https://localhost:8080/"
        },
        "id": "wQAawKxR_FAi",
        "outputId": "9c232973-6d88-4fdd-c9b3-84374d239ec8"
      },
      "outputs": [
        {
          "name": "stdout",
          "output_type": "stream",
          "text": [
            "hotel ( 2 ) :  ['Resort Hotel' 'City Hotel']\n",
            "arrival_date_month ( 12 ) :  ['July' 'August' 'September' 'October' 'November' 'December' 'January'\n",
            " 'February' 'March' 'April' 'May' 'June']\n",
            "meal ( 5 ) :  ['BB' 'FB' 'HB' 'SC' 'Undefined']\n",
            "country ( 178 ) :  ['PRT' 'GBR' 'USA' 'ESP' 'IRL' 'FRA' 'UNKNOWN' 'ROU' 'NOR' 'OMN' 'ARG'\n",
            " 'POL' 'DEU' 'BEL' 'CHE' 'CN' 'GRC' 'ITA' 'NLD' 'DNK' 'RUS' 'SWE' 'AUS'\n",
            " 'EST' 'CZE' 'BRA' 'FIN' 'MOZ' 'BWA' 'LUX' 'SVN' 'ALB' 'IND' 'CHN' 'MEX'\n",
            " 'MAR' 'UKR' 'SMR' 'LVA' 'PRI' 'SRB' 'CHL' 'AUT' 'BLR' 'LTU' 'TUR' 'ZAF'\n",
            " 'AGO' 'ISR' 'CYM' 'ZMB' 'CPV' 'ZWE' 'DZA' 'KOR' 'CRI' 'HUN' 'ARE' 'TUN'\n",
            " 'JAM' 'HRV' 'HKG' 'IRN' 'GEO' 'AND' 'GIB' 'URY' 'JEY' 'CAF' 'CYP' 'COL'\n",
            " 'GGY' 'KWT' 'NGA' 'MDV' 'VEN' 'SVK' 'FJI' 'KAZ' 'PAK' 'IDN' 'LBN' 'PHL'\n",
            " 'SEN' 'SYC' 'AZE' 'BHR' 'NZL' 'THA' 'DOM' 'MKD' 'MYS' 'ARM' 'JPN' 'LKA'\n",
            " 'CUB' 'CMR' 'BIH' 'MUS' 'COM' 'SUR' 'UGA' 'BGR' 'CIV' 'JOR' 'SYR' 'SGP'\n",
            " 'BDI' 'SAU' 'VNM' 'PLW' 'QAT' 'EGY' 'PER' 'MLT' 'MWI' 'ECU' 'MDG' 'ISL'\n",
            " 'UZB' 'NPL' 'BHS' 'MAC' 'TGO' 'TWN' 'DJI' 'STP' 'KNA' 'ETH' 'IRQ' 'HND'\n",
            " 'RWA' 'KHM' 'MCO' 'BGD' 'IMN' 'TJK' 'NIC' 'BEN' 'VGB' 'TZA' 'GAB' 'GHA'\n",
            " 'TMP' 'GLP' 'KEN' 'LIE' 'GNB' 'MNE' 'UMI' 'MYT' 'FRO' 'MMR' 'PAN' 'BFA'\n",
            " 'LBY' 'MLI' 'NAM' 'BOL' 'PRY' 'BRB' 'ABW' 'AIA' 'SLV' 'DMA' 'PYF' 'GUY'\n",
            " 'LCA' 'ATA' 'GTM' 'ASM' 'MRT' 'NCL' 'KIR' 'SDN' 'ATF' 'SLE' 'LAO']\n",
            "market_segment ( 8 ) :  ['Direct' 'Corporate' 'Online TA' 'Offline TA/TO' 'Complementary' 'Groups'\n",
            " 'Undefined' 'Aviation']\n",
            "distribution_channel ( 5 ) :  ['Direct' 'Corporate' 'TA/TO' 'Undefined' 'GDS']\n",
            "reserved_room_type ( 9 ) :  ['C' 'A' 'D' 'E' 'G' 'F' 'H' 'L' 'B']\n",
            "assigned_room_type ( 11 ) :  ['C' 'A' 'D' 'E' 'G' 'F' 'I' 'B' 'H' 'L' 'K']\n",
            "deposit_type ( 3 ) :  ['No Deposit' 'Refundable' 'Non Refund']\n",
            "customer_type ( 4 ) :  ['Transient' 'Contract' 'Transient-Party' 'Group']\n"
          ]
        }
      ],
      "source": [
        "# identify unique values in each column\n",
        "for c in cat_cols:\n",
        "  uni_cols = data[c].unique()\n",
        "  print(c, '(', len(uni_cols), ') : ', uni_cols)"
      ]
    },
    {
      "cell_type": "markdown",
      "metadata": {
        "id": "B1NW_DJuBE_W"
      },
      "source": [
        "To transform categorical variables it is necessary to consider different encoding methods.\n",
        "\n",
        "When we have a clear hierarchy in the variables (as in the case of months or type of room), it is convenient to apply *label encoding*. Likewise, this can be applied when we have categorical variables with high cardinality (as in the case of countries).\n",
        "\n",
        "When we do not have a hierarchy between variables and/or we have low cardinality, it is convenient to apply *one-hot encoding*. However, in this case we have to be careful with the *dummy variable trap*, since it may happen that the new columns present a high collinearity between them. To avoid this, we minimize the number of new columns created.\n",
        "\n",
        "It is important to mention that encoding is usually performed **after training and validation sets**. Here we only perform it to study the correlations and choose the features that work best to predict the model, and we will repeat it once the separation of variables is done."
      ]
    },
    {
      "cell_type": "code",
      "execution_count": null,
      "metadata": {
        "colab": {
          "base_uri": "https://localhost:8080/",
          "height": 223
        },
        "id": "B6SKIZCi-Zqh",
        "outputId": "577985af-c137-4a38-dcd4-d8c1dd920e24"
      },
      "outputs": [
        {
          "data": {
            "text/html": [
              "<div>\n",
              "<style scoped>\n",
              "    .dataframe tbody tr th:only-of-type {\n",
              "        vertical-align: middle;\n",
              "    }\n",
              "\n",
              "    .dataframe tbody tr th {\n",
              "        vertical-align: top;\n",
              "    }\n",
              "\n",
              "    .dataframe thead th {\n",
              "        text-align: right;\n",
              "    }\n",
              "</style>\n",
              "<table border=\"1\" class=\"dataframe\">\n",
              "  <thead>\n",
              "    <tr style=\"text-align: right;\">\n",
              "      <th></th>\n",
              "      <th>id</th>\n",
              "      <th>is_canceled</th>\n",
              "      <th>lead_time</th>\n",
              "      <th>arrival_date_year</th>\n",
              "      <th>arrival_date_month</th>\n",
              "      <th>arrival_date_week_number</th>\n",
              "      <th>arrival_date_day_of_month</th>\n",
              "      <th>stays_in_weekend_nights</th>\n",
              "      <th>stays_in_week_nights</th>\n",
              "      <th>adults</th>\n",
              "      <th>children</th>\n",
              "      <th>babies</th>\n",
              "      <th>meal</th>\n",
              "      <th>country</th>\n",
              "      <th>market_segment</th>\n",
              "      <th>distribution_channel</th>\n",
              "      <th>is_repeated_guest</th>\n",
              "      <th>previous_cancellations</th>\n",
              "      <th>previous_bookings_not_canceled</th>\n",
              "      <th>reserved_room_type</th>\n",
              "      <th>assigned_room_type</th>\n",
              "      <th>booking_changes</th>\n",
              "      <th>deposit_type</th>\n",
              "      <th>agent</th>\n",
              "      <th>days_in_waiting_list</th>\n",
              "      <th>customer_type</th>\n",
              "      <th>adr</th>\n",
              "      <th>required_car_parking_spaces</th>\n",
              "      <th>total_of_special_requests</th>\n",
              "      <th>reservation_status_date_year</th>\n",
              "      <th>reservation_status_date_month</th>\n",
              "      <th>reservation_status_date_day</th>\n",
              "      <th>hotel_type</th>\n",
              "    </tr>\n",
              "  </thead>\n",
              "  <tbody>\n",
              "    <tr>\n",
              "      <th>0</th>\n",
              "      <td>1</td>\n",
              "      <td>0</td>\n",
              "      <td>342</td>\n",
              "      <td>0</td>\n",
              "      <td>6</td>\n",
              "      <td>27</td>\n",
              "      <td>1</td>\n",
              "      <td>0</td>\n",
              "      <td>0</td>\n",
              "      <td>2</td>\n",
              "      <td>0.0</td>\n",
              "      <td>0</td>\n",
              "      <td>0</td>\n",
              "      <td>135</td>\n",
              "      <td>3</td>\n",
              "      <td>1</td>\n",
              "      <td>0</td>\n",
              "      <td>0</td>\n",
              "      <td>0</td>\n",
              "      <td>2</td>\n",
              "      <td>2</td>\n",
              "      <td>3</td>\n",
              "      <td>0</td>\n",
              "      <td>0.0</td>\n",
              "      <td>0</td>\n",
              "      <td>2</td>\n",
              "      <td>0.0</td>\n",
              "      <td>0</td>\n",
              "      <td>0</td>\n",
              "      <td>0.0</td>\n",
              "      <td>1</td>\n",
              "      <td>7</td>\n",
              "      <td>1.0</td>\n",
              "    </tr>\n",
              "    <tr>\n",
              "      <th>1</th>\n",
              "      <td>2</td>\n",
              "      <td>0</td>\n",
              "      <td>600</td>\n",
              "      <td>0</td>\n",
              "      <td>6</td>\n",
              "      <td>27</td>\n",
              "      <td>1</td>\n",
              "      <td>0</td>\n",
              "      <td>0</td>\n",
              "      <td>2</td>\n",
              "      <td>0.0</td>\n",
              "      <td>0</td>\n",
              "      <td>0</td>\n",
              "      <td>135</td>\n",
              "      <td>3</td>\n",
              "      <td>1</td>\n",
              "      <td>0</td>\n",
              "      <td>0</td>\n",
              "      <td>0</td>\n",
              "      <td>2</td>\n",
              "      <td>2</td>\n",
              "      <td>4</td>\n",
              "      <td>0</td>\n",
              "      <td>0.0</td>\n",
              "      <td>0</td>\n",
              "      <td>2</td>\n",
              "      <td>0.0</td>\n",
              "      <td>0</td>\n",
              "      <td>0</td>\n",
              "      <td>0.0</td>\n",
              "      <td>1</td>\n",
              "      <td>7</td>\n",
              "      <td>1.0</td>\n",
              "    </tr>\n",
              "    <tr>\n",
              "      <th>2</th>\n",
              "      <td>3</td>\n",
              "      <td>0</td>\n",
              "      <td>7</td>\n",
              "      <td>0</td>\n",
              "      <td>6</td>\n",
              "      <td>27</td>\n",
              "      <td>1</td>\n",
              "      <td>0</td>\n",
              "      <td>1</td>\n",
              "      <td>1</td>\n",
              "      <td>0.0</td>\n",
              "      <td>0</td>\n",
              "      <td>0</td>\n",
              "      <td>59</td>\n",
              "      <td>3</td>\n",
              "      <td>1</td>\n",
              "      <td>0</td>\n",
              "      <td>0</td>\n",
              "      <td>0</td>\n",
              "      <td>0</td>\n",
              "      <td>2</td>\n",
              "      <td>0</td>\n",
              "      <td>0</td>\n",
              "      <td>0.0</td>\n",
              "      <td>0</td>\n",
              "      <td>2</td>\n",
              "      <td>75.0</td>\n",
              "      <td>0</td>\n",
              "      <td>0</td>\n",
              "      <td>0.0</td>\n",
              "      <td>2</td>\n",
              "      <td>7</td>\n",
              "      <td>1.0</td>\n",
              "    </tr>\n",
              "    <tr>\n",
              "      <th>3</th>\n",
              "      <td>4</td>\n",
              "      <td>0</td>\n",
              "      <td>13</td>\n",
              "      <td>0</td>\n",
              "      <td>6</td>\n",
              "      <td>27</td>\n",
              "      <td>1</td>\n",
              "      <td>0</td>\n",
              "      <td>1</td>\n",
              "      <td>1</td>\n",
              "      <td>0.0</td>\n",
              "      <td>0</td>\n",
              "      <td>0</td>\n",
              "      <td>59</td>\n",
              "      <td>2</td>\n",
              "      <td>0</td>\n",
              "      <td>0</td>\n",
              "      <td>0</td>\n",
              "      <td>0</td>\n",
              "      <td>0</td>\n",
              "      <td>0</td>\n",
              "      <td>0</td>\n",
              "      <td>0</td>\n",
              "      <td>304.0</td>\n",
              "      <td>0</td>\n",
              "      <td>2</td>\n",
              "      <td>75.0</td>\n",
              "      <td>0</td>\n",
              "      <td>0</td>\n",
              "      <td>0.0</td>\n",
              "      <td>2</td>\n",
              "      <td>7</td>\n",
              "      <td>1.0</td>\n",
              "    </tr>\n",
              "    <tr>\n",
              "      <th>4</th>\n",
              "      <td>5</td>\n",
              "      <td>0</td>\n",
              "      <td>14</td>\n",
              "      <td>0</td>\n",
              "      <td>6</td>\n",
              "      <td>27</td>\n",
              "      <td>1</td>\n",
              "      <td>0</td>\n",
              "      <td>2</td>\n",
              "      <td>2</td>\n",
              "      <td>0.0</td>\n",
              "      <td>0</td>\n",
              "      <td>0</td>\n",
              "      <td>59</td>\n",
              "      <td>6</td>\n",
              "      <td>3</td>\n",
              "      <td>0</td>\n",
              "      <td>0</td>\n",
              "      <td>0</td>\n",
              "      <td>0</td>\n",
              "      <td>0</td>\n",
              "      <td>0</td>\n",
              "      <td>0</td>\n",
              "      <td>240.0</td>\n",
              "      <td>0</td>\n",
              "      <td>2</td>\n",
              "      <td>98.0</td>\n",
              "      <td>0</td>\n",
              "      <td>1</td>\n",
              "      <td>0.0</td>\n",
              "      <td>3</td>\n",
              "      <td>7</td>\n",
              "      <td>1.0</td>\n",
              "    </tr>\n",
              "  </tbody>\n",
              "</table>\n",
              "</div>"
            ],
            "text/plain": [
              "   id  is_canceled  ...  reservation_status_date_day  hotel_type\n",
              "0   1            0  ...                            7         1.0\n",
              "1   2            0  ...                            7         1.0\n",
              "2   3            0  ...                            7         1.0\n",
              "3   4            0  ...                            7         1.0\n",
              "4   5            0  ...                            7         1.0\n",
              "\n",
              "[5 rows x 33 columns]"
            ]
          },
          "execution_count": 56,
          "metadata": {
            "tags": []
          },
          "output_type": "execute_result"
        }
      ],
      "source": [
        "data2 = data.copy()\n",
        "\n",
        "# define categorical encoders\n",
        "lbl_enc = LabelEncoder()\n",
        "hot_enc = OneHotEncoder(drop='first', sparse=False)\n",
        "\n",
        "row_size = data2.shape[0]\n",
        "\n",
        "# one-hot encoding for 'hotel'\n",
        "col_name = 'hotel'\n",
        "col_1 = np.reshape(np.asarray(data2[col_name]), (row_size, 1))\n",
        "col_2 = np.reshape(hot_enc.fit_transform(col_1), (row_size))\n",
        "col_df = pd.DataFrame(col_2, columns = [col_name+'_type'])\n",
        "data2 = pd.concat([data2, col_df], axis=1)\n",
        "data2.drop(col_name, axis=1, inplace=True)\n",
        "\n",
        "# label encoding for 'arrival_date_month'\n",
        "col_name = 'arrival_date_month'\n",
        "data2[col_name] = data2[col_name].map({'January': 0, 'February': 1,\n",
        "                                       'March': 2, 'April': 3, 'May': 4,\n",
        "                                       'June': 5, 'July': 6, 'August': 7,\n",
        "                                       'September': 8, 'October': 9,\n",
        "                                       'November': 10, 'December': 11})\n",
        "\n",
        "# label encoding for 'meal'\n",
        "col_name = 'meal'\n",
        "col_1 = np.reshape(np.asarray(data2[col_name]), (row_size, 1))\n",
        "col_2 = np.reshape(lbl_enc.fit_transform(col_1), (row_size))\n",
        "data2[col_name] = col_2\n",
        "\n",
        "# label encoding 'country'\n",
        "col_name = 'country'\n",
        "col_1 = np.reshape(np.asarray(data2[col_name]), (row_size, 1))\n",
        "col_2 = np.reshape(lbl_enc.fit_transform(col_1), (row_size))\n",
        "data2[col_name] = col_2\n",
        "\n",
        "# label encoding 'market_segment'\n",
        "col_name = 'market_segment'\n",
        "col_1 = np.reshape(np.asarray(data2[col_name]), (row_size, 1))\n",
        "col_2 = np.reshape(lbl_enc.fit_transform(col_1), (row_size))\n",
        "data2[col_name] = col_2\n",
        "\n",
        "# label encoding 'distribution_channel'\n",
        "col_name = 'distribution_channel'\n",
        "col_1 = np.reshape(np.asarray(data2[col_name]), (row_size, 1))\n",
        "col_2 = np.reshape(lbl_enc.fit_transform(col_1), (row_size))\n",
        "data2[col_name] = col_2\n",
        "\n",
        "# label encoding 'reserved_room_type'\n",
        "col_name = 'reserved_room_type'\n",
        "col_1 = np.reshape(np.asarray(data2[col_name]), (row_size, 1))\n",
        "col_2 = np.reshape(lbl_enc.fit_transform(col_1), (row_size))\n",
        "data2[col_name] = col_2\n",
        "\n",
        "# label encoding 'assigned_room_type'\n",
        "col_name = 'assigned_room_type'\n",
        "col_1 = np.reshape(np.asarray(data2[col_name]), (row_size, 1))\n",
        "col_2 = np.reshape(lbl_enc.fit_transform(col_1), (row_size))\n",
        "data2[col_name] = col_2\n",
        "\n",
        "# label encoding 'deposit_type'\n",
        "col_name = 'deposit_type'\n",
        "col_1 = np.reshape(np.asarray(data2[col_name]), (row_size, 1))\n",
        "col_2 = np.reshape(lbl_enc.fit_transform(col_1), (row_size))\n",
        "data2[col_name] = col_2\n",
        "\n",
        "# label encoding 'customer_type'\n",
        "col_name = 'customer_type'\n",
        "col_1 = np.reshape(np.asarray(data2[col_name]), (row_size, 1))\n",
        "col_2 = np.reshape(lbl_enc.fit_transform(col_1), (row_size))\n",
        "data2[col_name] = col_2\n",
        "\n",
        "# label encoding'arrival_date_year'\n",
        "col_name = 'arrival_date_year'\n",
        "data2[col_name] = data2[col_name].map({2015: 0, 2016: 1, 2017: 2})\n",
        "\n",
        "# label encoding 'reservation_status_date_year'\n",
        "col_name = 'reservation_status_date_year'\n",
        "data2[col_name] = data2[col_name].map({2015: 0, 2016: 1, 2017: 2})\n",
        "\n",
        "data2.head(5)"
      ]
    },
    {
      "cell_type": "markdown",
      "metadata": {
        "id": "0AUZxmh-1reR"
      },
      "source": [
        "**Variable correlation**\n",
        "\n",
        "Taking into account that the column to be predicted is 'is_canceled', we will analyze which variables have the highest correlation coefficients with this characteristic in order to do feature selection."
      ]
    },
    {
      "cell_type": "code",
      "execution_count": null,
      "metadata": {
        "colab": {
          "base_uri": "https://localhost:8080/"
        },
        "id": "legIB8wB1epv",
        "outputId": "f2ac47fd-15d3-4e62-9b61-0266f8021efb"
      },
      "outputs": [
        {
          "data": {
            "text/plain": [
              "is_canceled                       1.000000\n",
              "deposit_type                      0.468676\n",
              "lead_time                         0.292935\n",
              "country                           0.265194\n",
              "id                                0.241737\n",
              "total_of_special_requests         0.234877\n",
              "previous_cancellations            0.204821\n",
              "required_car_parking_spaces       0.195701\n",
              "assigned_room_type                0.175843\n",
              "distribution_channel              0.167707\n",
              "booking_changes                   0.152321\n",
              "hotel_type                        0.137082\n",
              "previous_bookings_not_canceled    0.115446\n",
              "reservation_status_date_year      0.112199\n",
              "is_repeated_guest                 0.083745\n",
              "days_in_waiting_list              0.069899\n",
              "customer_type                     0.068206\n",
              "reserved_room_type                0.062216\n",
              "adults                            0.061882\n",
              "market_segment                    0.059419\n",
              "adr                               0.047735\n",
              "agent                             0.046770\n",
              "reservation_status_date_month     0.045398\n",
              "reservation_status_date_day       0.042452\n",
              "babies                            0.034300\n",
              "stays_in_week_nights              0.023527\n",
              "meal                              0.017227\n",
              "arrival_date_year                 0.016622\n",
              "arrival_date_month                0.011179\n",
              "arrival_date_week_number          0.008315\n",
              "arrival_date_day_of_month         0.005948\n",
              "children                          0.004670\n",
              "stays_in_weekend_nights           0.001337\n",
              "Name: is_canceled, dtype: float64"
            ]
          },
          "execution_count": 57,
          "metadata": {
            "tags": []
          },
          "output_type": "execute_result"
        }
      ],
      "source": [
        "# drop 'id' column since its just a row index\n",
        "data2.drop('id', axis=1, inplace=True)\n",
        "\n",
        "# calculate correlation matrix\n",
        "corr_matrix = data2.corr()\n",
        "\n",
        "# get correlations with respect to target feature\n",
        "corr_cancel = corr_matrix['is_canceled'].abs().sort_values(ascending=False)\n",
        "corr_cancel"
      ]
    },
    {
      "cell_type": "code",
      "execution_count": null,
      "metadata": {
        "colab": {
          "base_uri": "https://localhost:8080/"
        },
        "id": "v2igEA-7BVmG",
        "outputId": "95eb4324-d903-421c-b418-503b010ca72d"
      },
      "outputs": [
        {
          "data": {
            "text/plain": [
              "['deposit_type',\n",
              " 'lead_time',\n",
              " 'country',\n",
              " 'id',\n",
              " 'total_of_special_requests',\n",
              " 'previous_cancellations',\n",
              " 'required_car_parking_spaces',\n",
              " 'assigned_room_type',\n",
              " 'distribution_channel',\n",
              " 'booking_changes',\n",
              " 'hotel_type',\n",
              " 'previous_bookings_not_canceled',\n",
              " 'reservation_status_date_year']"
            ]
          },
          "execution_count": 58,
          "metadata": {
            "tags": []
          },
          "output_type": "execute_result"
        }
      ],
      "source": [
        "# get list of variables with the highest correlations\n",
        "list((corr_cancel[(corr_cancel.index != 'is_canceled') & (corr_cancel > 0.1)]).index)"
      ]
    },
    {
      "cell_type": "markdown",
      "metadata": {
        "id": "GE3JBKN7Bku-"
      },
      "source": [
        "We consider variables with a correlation of more than 10%, and extract a total of 12 characteristics that are likely to be the best predictors of our model. We include price even though it does not appear because it is reasonable to assume that it influences the cancellation rate."
      ]
    },
    {
      "cell_type": "code",
      "execution_count": null,
      "metadata": {
        "id": "cVtPsxM-BuAs"
      },
      "outputs": [],
      "source": [
        "# save a list with features used for modeling\n",
        "features = ['deposit_type', 'lead_time', 'country', 'total_of_special_requests',\n",
        "            'previous_cancellations', 'required_car_parking_spaces',\n",
        "            'assigned_room_type', 'distribution_channel', 'booking_changes',\n",
        "            'hotel', 'previous_bookings_not_canceled', 'reservation_status_date_year', 'adr']\n",
        "\n",
        "target = 'is_canceled'"
      ]
    },
    {
      "cell_type": "markdown",
      "metadata": {
        "id": "raDjgkqgGZUl"
      },
      "source": [
        "**Data set separation**\n",
        "\n",
        "Once the variables to be used in our models have been chosen, it is necessary to start by separating the data into a training set and a validation set. We follow the standard methodology where 70% of the original set will be for training, and 30% will be for validation."
      ]
    },
    {
      "cell_type": "code",
      "execution_count": null,
      "metadata": {
        "id": "Xvh0vXBK9LLf"
      },
      "outputs": [],
      "source": [
        "# separe features and target dataframes\n",
        "X = data[features]\n",
        "y = data[target]\n",
        "\n",
        "# train test splitting\n",
        "X_train, X_test, y_train, y_test = train_test_split(X, y, test_size=0.30, random_state=1)"
      ]
    },
    {
      "cell_type": "markdown",
      "metadata": {
        "id": "QOVsn1PUG7Av"
      },
      "source": [
        "**Categorical variable codification (post-splitting)**\n",
        "\n",
        "We now proceed to perform the coding of categorical variables separately for the training and validation sets."
      ]
    },
    {
      "cell_type": "code",
      "execution_count": null,
      "metadata": {
        "id": "IbjXieJpDfkH"
      },
      "outputs": [],
      "source": [
        "# define categorical encoders\n",
        "lbl_enc = LabelEncoder()\n",
        "hot_enc = OneHotEncoder(drop='first', sparse=False)"
      ]
    },
    {
      "cell_type": "code",
      "execution_count": null,
      "metadata": {
        "colab": {
          "base_uri": "https://localhost:8080/",
          "height": 223
        },
        "id": "Gn2xsvULMeD6",
        "outputId": "db54f89b-a464-4369-bec6-647d5e0ea9d1"
      },
      "outputs": [
        {
          "data": {
            "text/html": [
              "<div>\n",
              "<style scoped>\n",
              "    .dataframe tbody tr th:only-of-type {\n",
              "        vertical-align: middle;\n",
              "    }\n",
              "\n",
              "    .dataframe tbody tr th {\n",
              "        vertical-align: top;\n",
              "    }\n",
              "\n",
              "    .dataframe thead th {\n",
              "        text-align: right;\n",
              "    }\n",
              "</style>\n",
              "<table border=\"1\" class=\"dataframe\">\n",
              "  <thead>\n",
              "    <tr style=\"text-align: right;\">\n",
              "      <th></th>\n",
              "      <th>deposit_type</th>\n",
              "      <th>lead_time</th>\n",
              "      <th>country</th>\n",
              "      <th>total_of_special_requests</th>\n",
              "      <th>previous_cancellations</th>\n",
              "      <th>required_car_parking_spaces</th>\n",
              "      <th>assigned_room_type</th>\n",
              "      <th>distribution_channel</th>\n",
              "      <th>booking_changes</th>\n",
              "      <th>previous_bookings_not_canceled</th>\n",
              "      <th>reservation_status_date_year</th>\n",
              "      <th>adr</th>\n",
              "      <th>hotel_type</th>\n",
              "    </tr>\n",
              "  </thead>\n",
              "  <tbody>\n",
              "    <tr>\n",
              "      <th>0</th>\n",
              "      <td>0</td>\n",
              "      <td>342</td>\n",
              "      <td>135</td>\n",
              "      <td>0</td>\n",
              "      <td>0</td>\n",
              "      <td>0</td>\n",
              "      <td>2</td>\n",
              "      <td>1</td>\n",
              "      <td>3</td>\n",
              "      <td>0</td>\n",
              "      <td>1</td>\n",
              "      <td>0.0</td>\n",
              "      <td>1.0</td>\n",
              "    </tr>\n",
              "    <tr>\n",
              "      <th>1</th>\n",
              "      <td>0</td>\n",
              "      <td>600</td>\n",
              "      <td>135</td>\n",
              "      <td>0</td>\n",
              "      <td>0</td>\n",
              "      <td>0</td>\n",
              "      <td>2</td>\n",
              "      <td>1</td>\n",
              "      <td>4</td>\n",
              "      <td>0</td>\n",
              "      <td>1</td>\n",
              "      <td>0.0</td>\n",
              "      <td>1.0</td>\n",
              "    </tr>\n",
              "    <tr>\n",
              "      <th>2</th>\n",
              "      <td>0</td>\n",
              "      <td>7</td>\n",
              "      <td>59</td>\n",
              "      <td>0</td>\n",
              "      <td>0</td>\n",
              "      <td>0</td>\n",
              "      <td>2</td>\n",
              "      <td>1</td>\n",
              "      <td>0</td>\n",
              "      <td>0</td>\n",
              "      <td>1</td>\n",
              "      <td>75.0</td>\n",
              "      <td>1.0</td>\n",
              "    </tr>\n",
              "    <tr>\n",
              "      <th>3</th>\n",
              "      <td>0</td>\n",
              "      <td>13</td>\n",
              "      <td>59</td>\n",
              "      <td>0</td>\n",
              "      <td>0</td>\n",
              "      <td>0</td>\n",
              "      <td>0</td>\n",
              "      <td>0</td>\n",
              "      <td>0</td>\n",
              "      <td>0</td>\n",
              "      <td>1</td>\n",
              "      <td>75.0</td>\n",
              "      <td>1.0</td>\n",
              "    </tr>\n",
              "    <tr>\n",
              "      <th>4</th>\n",
              "      <td>0</td>\n",
              "      <td>14</td>\n",
              "      <td>59</td>\n",
              "      <td>1</td>\n",
              "      <td>0</td>\n",
              "      <td>0</td>\n",
              "      <td>0</td>\n",
              "      <td>3</td>\n",
              "      <td>0</td>\n",
              "      <td>0</td>\n",
              "      <td>1</td>\n",
              "      <td>98.0</td>\n",
              "      <td>1.0</td>\n",
              "    </tr>\n",
              "  </tbody>\n",
              "</table>\n",
              "</div>"
            ],
            "text/plain": [
              "   deposit_type  lead_time  ...   adr  hotel_type\n",
              "0             0        342  ...   0.0         1.0\n",
              "1             0        600  ...   0.0         1.0\n",
              "2             0          7  ...  75.0         1.0\n",
              "3             0         13  ...  75.0         1.0\n",
              "4             0         14  ...  98.0         1.0\n",
              "\n",
              "[5 rows x 13 columns]"
            ]
          },
          "execution_count": 119,
          "metadata": {
            "tags": []
          },
          "output_type": "execute_result"
        }
      ],
      "source": [
        "# TOTAL SET (for cross-validation)\n",
        "X.reset_index(inplace=True)\n",
        "X.drop('index', axis=1, inplace=True)\n",
        "\n",
        "total_size = X.shape[0]\n",
        "\n",
        "# encoding for 'hotel' (label)\n",
        "col_name = 'hotel'\n",
        "col_1 = np.reshape(np.asarray(X[col_name]), (total_size, 1))\n",
        "col_2 = np.reshape(hot_enc.fit_transform(col_1), (total_size))\n",
        "col_df = pd.DataFrame(col_2, columns = [col_name+'_type'])\n",
        "X = pd.concat([X, col_df], axis=1)\n",
        "X.drop(col_name, axis=1, inplace=True)\n",
        "\n",
        "# encoding for  'distribution_channel' (label)\n",
        "col_name = 'distribution_channel'\n",
        "col_1 = np.reshape(np.asarray(X[col_name]), (total_size, 1))\n",
        "col_2 = np.reshape(lbl_enc.fit_transform(col_1), (total_size))\n",
        "X[col_name] = col_2\n",
        "\n",
        "# encoding for  'country' (label)\n",
        "col_name = 'country'\n",
        "col_1 = np.reshape(np.asarray(X[col_name]), (total_size, 1))\n",
        "col_2 = np.reshape(lbl_enc.fit_transform(col_1), (total_size))\n",
        "X[col_name] = col_2\n",
        "\n",
        "# encoding for  'deposit_type' (label)\n",
        "col_name = 'deposit_type'\n",
        "col_1 = np.reshape(np.asarray(X[col_name]), (total_size, 1))\n",
        "col_2 = np.reshape(lbl_enc.fit_transform(col_1), (total_size))\n",
        "X[col_name] = col_2\n",
        "\n",
        "# encoding for  'assigned_room_type' (label)\n",
        "col_name = 'assigned_room_type'\n",
        "col_1 = np.reshape(np.asarray(X[col_name]), (total_size, 1))\n",
        "col_2 = np.reshape(lbl_enc.fit_transform(col_1), (total_size))\n",
        "X[col_name] = col_2\n",
        "\n",
        "# encoding for  'reservation_status_date_year' (label)\n",
        "col_name = 'reservation_status_date_year'\n",
        "X[col_name] = X[col_name].map({2014: 0, 2015: 1, 2016: 2, 2017: 3})\n",
        "\n",
        "X.head(5)"
      ]
    },
    {
      "cell_type": "code",
      "execution_count": null,
      "metadata": {
        "colab": {
          "base_uri": "https://localhost:8080/",
          "height": 223
        },
        "id": "6KPvv3rZHEs5",
        "outputId": "819120ea-64b5-4f48-d494-4884ae7ab3a0"
      },
      "outputs": [
        {
          "data": {
            "text/html": [
              "<div>\n",
              "<style scoped>\n",
              "    .dataframe tbody tr th:only-of-type {\n",
              "        vertical-align: middle;\n",
              "    }\n",
              "\n",
              "    .dataframe tbody tr th {\n",
              "        vertical-align: top;\n",
              "    }\n",
              "\n",
              "    .dataframe thead th {\n",
              "        text-align: right;\n",
              "    }\n",
              "</style>\n",
              "<table border=\"1\" class=\"dataframe\">\n",
              "  <thead>\n",
              "    <tr style=\"text-align: right;\">\n",
              "      <th></th>\n",
              "      <th>deposit_type</th>\n",
              "      <th>lead_time</th>\n",
              "      <th>country</th>\n",
              "      <th>total_of_special_requests</th>\n",
              "      <th>previous_cancellations</th>\n",
              "      <th>required_car_parking_spaces</th>\n",
              "      <th>assigned_room_type</th>\n",
              "      <th>distribution_channel</th>\n",
              "      <th>booking_changes</th>\n",
              "      <th>previous_bookings_not_canceled</th>\n",
              "      <th>reservation_status_date_year</th>\n",
              "      <th>adr</th>\n",
              "      <th>hotel_type</th>\n",
              "    </tr>\n",
              "  </thead>\n",
              "  <tbody>\n",
              "    <tr>\n",
              "      <th>0</th>\n",
              "      <td>0</td>\n",
              "      <td>29</td>\n",
              "      <td>58</td>\n",
              "      <td>0</td>\n",
              "      <td>0</td>\n",
              "      <td>0</td>\n",
              "      <td>0</td>\n",
              "      <td>3</td>\n",
              "      <td>0</td>\n",
              "      <td>0</td>\n",
              "      <td>2</td>\n",
              "      <td>132.05</td>\n",
              "      <td>0.0</td>\n",
              "    </tr>\n",
              "    <tr>\n",
              "      <th>1</th>\n",
              "      <td>0</td>\n",
              "      <td>0</td>\n",
              "      <td>128</td>\n",
              "      <td>0</td>\n",
              "      <td>0</td>\n",
              "      <td>0</td>\n",
              "      <td>3</td>\n",
              "      <td>1</td>\n",
              "      <td>0</td>\n",
              "      <td>0</td>\n",
              "      <td>2</td>\n",
              "      <td>51.00</td>\n",
              "      <td>1.0</td>\n",
              "    </tr>\n",
              "    <tr>\n",
              "      <th>2</th>\n",
              "      <td>0</td>\n",
              "      <td>25</td>\n",
              "      <td>50</td>\n",
              "      <td>2</td>\n",
              "      <td>0</td>\n",
              "      <td>0</td>\n",
              "      <td>5</td>\n",
              "      <td>3</td>\n",
              "      <td>2</td>\n",
              "      <td>0</td>\n",
              "      <td>1</td>\n",
              "      <td>201.05</td>\n",
              "      <td>1.0</td>\n",
              "    </tr>\n",
              "    <tr>\n",
              "      <th>3</th>\n",
              "      <td>0</td>\n",
              "      <td>98</td>\n",
              "      <td>128</td>\n",
              "      <td>1</td>\n",
              "      <td>0</td>\n",
              "      <td>0</td>\n",
              "      <td>0</td>\n",
              "      <td>3</td>\n",
              "      <td>0</td>\n",
              "      <td>0</td>\n",
              "      <td>3</td>\n",
              "      <td>68.00</td>\n",
              "      <td>0.0</td>\n",
              "    </tr>\n",
              "    <tr>\n",
              "      <th>4</th>\n",
              "      <td>0</td>\n",
              "      <td>72</td>\n",
              "      <td>128</td>\n",
              "      <td>0</td>\n",
              "      <td>0</td>\n",
              "      <td>0</td>\n",
              "      <td>3</td>\n",
              "      <td>1</td>\n",
              "      <td>0</td>\n",
              "      <td>0</td>\n",
              "      <td>2</td>\n",
              "      <td>73.33</td>\n",
              "      <td>1.0</td>\n",
              "    </tr>\n",
              "  </tbody>\n",
              "</table>\n",
              "</div>"
            ],
            "text/plain": [
              "   deposit_type  lead_time  ...     adr  hotel_type\n",
              "0             0         29  ...  132.05         0.0\n",
              "1             0          0  ...   51.00         1.0\n",
              "2             0         25  ...  201.05         1.0\n",
              "3             0         98  ...   68.00         0.0\n",
              "4             0         72  ...   73.33         1.0\n",
              "\n",
              "[5 rows x 13 columns]"
            ]
          },
          "execution_count": 120,
          "metadata": {
            "tags": []
          },
          "output_type": "execute_result"
        }
      ],
      "source": [
        "# TRAINING SET\n",
        "X_train.reset_index(inplace=True)\n",
        "X_train.drop('index', axis=1, inplace=True)\n",
        "\n",
        "train_size = X_train.shape[0]\n",
        "\n",
        "# encoding for  'hotel' (label)\n",
        "col_name = 'hotel'\n",
        "col_1 = np.reshape(np.asarray(X_train[col_name]), (train_size, 1))\n",
        "col_2 = np.reshape(hot_enc.fit_transform(col_1), (train_size))\n",
        "col_df = pd.DataFrame(col_2, columns = [col_name+'_type'])\n",
        "X_train = pd.concat([X_train, col_df], axis=1)\n",
        "X_train.drop(col_name, axis=1, inplace=True)\n",
        "\n",
        "# encoding for  'distribution_channel' (label)\n",
        "col_name = 'distribution_channel'\n",
        "col_1 = np.reshape(np.asarray(X_train[col_name]), (train_size, 1))\n",
        "col_2 = np.reshape(lbl_enc.fit_transform(col_1), (train_size))\n",
        "X_train[col_name] = col_2\n",
        "\n",
        "# encoding for  'country' (label)\n",
        "col_name = 'country'\n",
        "col_1 = np.reshape(np.asarray(X_train[col_name]), (train_size, 1))\n",
        "col_2 = np.reshape(lbl_enc.fit_transform(col_1), (train_size))\n",
        "X_train[col_name] = col_2\n",
        "\n",
        "# encoding for  'deposit_type' (label)\n",
        "col_name = 'deposit_type'\n",
        "col_1 = np.reshape(np.asarray(X_train[col_name]), (train_size, 1))\n",
        "col_2 = np.reshape(lbl_enc.fit_transform(col_1), (train_size))\n",
        "X_train[col_name] = col_2\n",
        "\n",
        "# encoding for  'assigned_room_type' (label)\n",
        "col_name = 'assigned_room_type'\n",
        "col_1 = np.reshape(np.asarray(X_train[col_name]), (train_size, 1))\n",
        "col_2 = np.reshape(lbl_enc.fit_transform(col_1), (train_size))\n",
        "X_train[col_name] = col_2\n",
        "\n",
        "# encoding for 'reservation_status_date_year' (label)\n",
        "col_name = 'reservation_status_date_year'\n",
        "X_train[col_name] = X_train[col_name].map({2014: 0, 2015: 1, 2016: 2, 2017: 3})\n",
        "\n",
        "\n",
        "X_train.head(5)"
      ]
    },
    {
      "cell_type": "code",
      "execution_count": null,
      "metadata": {
        "colab": {
          "base_uri": "https://localhost:8080/",
          "height": 223
        },
        "id": "Ts2pL_opDnyN",
        "outputId": "7344144e-1853-45f7-d38e-9ddf4a725ebb"
      },
      "outputs": [
        {
          "data": {
            "text/html": [
              "<div>\n",
              "<style scoped>\n",
              "    .dataframe tbody tr th:only-of-type {\n",
              "        vertical-align: middle;\n",
              "    }\n",
              "\n",
              "    .dataframe tbody tr th {\n",
              "        vertical-align: top;\n",
              "    }\n",
              "\n",
              "    .dataframe thead th {\n",
              "        text-align: right;\n",
              "    }\n",
              "</style>\n",
              "<table border=\"1\" class=\"dataframe\">\n",
              "  <thead>\n",
              "    <tr style=\"text-align: right;\">\n",
              "      <th></th>\n",
              "      <th>deposit_type</th>\n",
              "      <th>lead_time</th>\n",
              "      <th>country</th>\n",
              "      <th>total_of_special_requests</th>\n",
              "      <th>previous_cancellations</th>\n",
              "      <th>required_car_parking_spaces</th>\n",
              "      <th>assigned_room_type</th>\n",
              "      <th>distribution_channel</th>\n",
              "      <th>booking_changes</th>\n",
              "      <th>previous_bookings_not_canceled</th>\n",
              "      <th>reservation_status_date_year</th>\n",
              "      <th>adr</th>\n",
              "      <th>hotel_type</th>\n",
              "    </tr>\n",
              "  </thead>\n",
              "  <tbody>\n",
              "    <tr>\n",
              "      <th>0</th>\n",
              "      <td>0</td>\n",
              "      <td>190</td>\n",
              "      <td>54</td>\n",
              "      <td>0</td>\n",
              "      <td>0</td>\n",
              "      <td>0</td>\n",
              "      <td>0</td>\n",
              "      <td>3</td>\n",
              "      <td>0</td>\n",
              "      <td>0</td>\n",
              "      <td>2</td>\n",
              "      <td>96.3</td>\n",
              "      <td>0.0</td>\n",
              "    </tr>\n",
              "    <tr>\n",
              "      <th>1</th>\n",
              "      <td>0</td>\n",
              "      <td>80</td>\n",
              "      <td>135</td>\n",
              "      <td>0</td>\n",
              "      <td>0</td>\n",
              "      <td>0</td>\n",
              "      <td>0</td>\n",
              "      <td>3</td>\n",
              "      <td>0</td>\n",
              "      <td>0</td>\n",
              "      <td>3</td>\n",
              "      <td>126.0</td>\n",
              "      <td>0.0</td>\n",
              "    </tr>\n",
              "    <tr>\n",
              "      <th>2</th>\n",
              "      <td>0</td>\n",
              "      <td>33</td>\n",
              "      <td>41</td>\n",
              "      <td>1</td>\n",
              "      <td>0</td>\n",
              "      <td>0</td>\n",
              "      <td>0</td>\n",
              "      <td>3</td>\n",
              "      <td>0</td>\n",
              "      <td>0</td>\n",
              "      <td>2</td>\n",
              "      <td>135.9</td>\n",
              "      <td>0.0</td>\n",
              "    </tr>\n",
              "    <tr>\n",
              "      <th>3</th>\n",
              "      <td>0</td>\n",
              "      <td>7</td>\n",
              "      <td>128</td>\n",
              "      <td>0</td>\n",
              "      <td>0</td>\n",
              "      <td>0</td>\n",
              "      <td>0</td>\n",
              "      <td>2</td>\n",
              "      <td>0</td>\n",
              "      <td>0</td>\n",
              "      <td>2</td>\n",
              "      <td>97.0</td>\n",
              "      <td>0.0</td>\n",
              "    </tr>\n",
              "    <tr>\n",
              "      <th>4</th>\n",
              "      <td>0</td>\n",
              "      <td>1</td>\n",
              "      <td>133</td>\n",
              "      <td>0</td>\n",
              "      <td>0</td>\n",
              "      <td>0</td>\n",
              "      <td>0</td>\n",
              "      <td>0</td>\n",
              "      <td>1</td>\n",
              "      <td>0</td>\n",
              "      <td>1</td>\n",
              "      <td>35.0</td>\n",
              "      <td>1.0</td>\n",
              "    </tr>\n",
              "  </tbody>\n",
              "</table>\n",
              "</div>"
            ],
            "text/plain": [
              "   deposit_type  lead_time  ...    adr  hotel_type\n",
              "0             0        190  ...   96.3         0.0\n",
              "1             0         80  ...  126.0         0.0\n",
              "2             0         33  ...  135.9         0.0\n",
              "3             0          7  ...   97.0         0.0\n",
              "4             0          1  ...   35.0         1.0\n",
              "\n",
              "[5 rows x 13 columns]"
            ]
          },
          "execution_count": 121,
          "metadata": {
            "tags": []
          },
          "output_type": "execute_result"
        }
      ],
      "source": [
        "# VALIDATION SET\n",
        "X_test.reset_index(inplace=True)\n",
        "X_test.drop('index', axis=1, inplace=True)\n",
        "\n",
        "test_size = X_test.shape[0]\n",
        "\n",
        "# encoding for 'hotel' (one-hot)\n",
        "col_name = 'hotel'\n",
        "col_1 = np.reshape(np.asarray(X_test[col_name]), (test_size, 1))\n",
        "col_2 = np.reshape(hot_enc.fit_transform(col_1), (test_size))\n",
        "col_df = pd.DataFrame(col_2, columns = [col_name+'_type'])\n",
        "X_test = pd.concat([X_test, col_df], axis=1)\n",
        "X_test.drop(col_name, axis=1, inplace=True)\n",
        "\n",
        "# encoding for 'distribution_channel' (one-hot)\n",
        "col_name = 'distribution_channel'\n",
        "col_1 = np.reshape(np.asarray(X_test[col_name]), (test_size, 1))\n",
        "col_2 = np.reshape(lbl_enc.fit_transform(col_1), (test_size))\n",
        "X_test[col_name] = col_2\n",
        "\n",
        "# encoding for 'country' (label)\n",
        "col_name = 'country'\n",
        "col_1 = np.reshape(np.asarray(X_test[col_name]), (test_size, 1))\n",
        "col_2 = np.reshape(lbl_enc.fit_transform(col_1), (test_size))\n",
        "X_test[col_name] = col_2\n",
        "\n",
        "# encoding for 'deposit_type' (one-hot)\n",
        "col_name = 'deposit_type'\n",
        "col_1 = np.reshape(np.asarray(X_test[col_name]), (test_size, 1))\n",
        "col_2 = np.reshape(lbl_enc.fit_transform(col_1), (test_size))\n",
        "X_test[col_name] = col_2\n",
        "\n",
        "# encoding for 'assigned_room_type' (label)\n",
        "col_name = 'assigned_room_type'\n",
        "col_1 = np.reshape(np.asarray(X_test[col_name]), (test_size, 1))\n",
        "col_2 = np.reshape(lbl_enc.fit_transform(col_1), (test_size))\n",
        "X_test[col_name] = col_2\n",
        "\n",
        "# encoding for 'reservation_status_date_year' (label)\n",
        "col_name = 'reservation_status_date_year'\n",
        "X_test[col_name] = X_test[col_name].map({2014: 0, 2015: 1, 2016: 2, 2017: 3})\n",
        "\n",
        "\n",
        "X_test.head(5)"
      ]
    },
    {
      "cell_type": "markdown",
      "metadata": {
        "id": "DqcEAP-uGvf8"
      },
      "source": [
        "**Renormalization**\n",
        "\n",
        "Since we have a large range of numerical variables, we renormalize the training and validation sets separately. This will help to improve the performance of the models."
      ]
    },
    {
      "cell_type": "code",
      "execution_count": null,
      "metadata": {
        "colab": {
          "base_uri": "https://localhost:8080/"
        },
        "id": "So_0jSncGuvB",
        "outputId": "72aa0eb3-b01a-451d-8260-0a86c9117b2e"
      },
      "outputs": [
        {
          "name": "stdout",
          "output_type": "stream",
          "text": [
            "lead_time 600\n",
            "total_of_special_requests 5\n",
            "previous_cancellations 5\n",
            "required_car_parking_spaces 8\n",
            "booking_changes 5\n",
            "previous_bookings_not_canceled 1\n",
            "adr 1000.0\n"
          ]
        }
      ],
      "source": [
        "# numerical columns\n",
        "num_cols = ['lead_time', 'total_of_special_requests', 'previous_cancellations',\n",
        "            'required_car_parking_spaces', 'booking_changes', 'previous_bookings_not_canceled', 'adr']\n",
        "\n",
        "for col in num_cols:\n",
        "  print(col, max(X_train[col]))"
      ]
    },
    {
      "cell_type": "code",
      "execution_count": null,
      "metadata": {
        "colab": {
          "base_uri": "https://localhost:8080/",
          "height": 162
        },
        "id": "G9uh1SwbNICi",
        "outputId": "05dff167-5d95-4ebb-ff6d-7fa5336983f4"
      },
      "outputs": [
        {
          "data": {
            "text/html": [
              "<div>\n",
              "<style scoped>\n",
              "    .dataframe tbody tr th:only-of-type {\n",
              "        vertical-align: middle;\n",
              "    }\n",
              "\n",
              "    .dataframe tbody tr th {\n",
              "        vertical-align: top;\n",
              "    }\n",
              "\n",
              "    .dataframe thead th {\n",
              "        text-align: right;\n",
              "    }\n",
              "</style>\n",
              "<table border=\"1\" class=\"dataframe\">\n",
              "  <thead>\n",
              "    <tr style=\"text-align: right;\">\n",
              "      <th></th>\n",
              "      <th>deposit_type</th>\n",
              "      <th>lead_time</th>\n",
              "      <th>country</th>\n",
              "      <th>total_of_special_requests</th>\n",
              "      <th>previous_cancellations</th>\n",
              "      <th>required_car_parking_spaces</th>\n",
              "      <th>assigned_room_type</th>\n",
              "      <th>distribution_channel</th>\n",
              "      <th>booking_changes</th>\n",
              "      <th>previous_bookings_not_canceled</th>\n",
              "      <th>reservation_status_date_year</th>\n",
              "      <th>adr</th>\n",
              "      <th>hotel_type</th>\n",
              "    </tr>\n",
              "  </thead>\n",
              "  <tbody>\n",
              "    <tr>\n",
              "      <th>0</th>\n",
              "      <td>0</td>\n",
              "      <td>5.837730</td>\n",
              "      <td>135</td>\n",
              "      <td>0</td>\n",
              "      <td>0</td>\n",
              "      <td>0</td>\n",
              "      <td>2</td>\n",
              "      <td>1</td>\n",
              "      <td>3</td>\n",
              "      <td>0</td>\n",
              "      <td>1</td>\n",
              "      <td>0.000000</td>\n",
              "      <td>1.0</td>\n",
              "    </tr>\n",
              "    <tr>\n",
              "      <th>1</th>\n",
              "      <td>0</td>\n",
              "      <td>6.398595</td>\n",
              "      <td>135</td>\n",
              "      <td>0</td>\n",
              "      <td>0</td>\n",
              "      <td>0</td>\n",
              "      <td>2</td>\n",
              "      <td>1</td>\n",
              "      <td>4</td>\n",
              "      <td>0</td>\n",
              "      <td>1</td>\n",
              "      <td>0.000000</td>\n",
              "      <td>1.0</td>\n",
              "    </tr>\n",
              "    <tr>\n",
              "      <th>2</th>\n",
              "      <td>0</td>\n",
              "      <td>2.079442</td>\n",
              "      <td>59</td>\n",
              "      <td>0</td>\n",
              "      <td>0</td>\n",
              "      <td>0</td>\n",
              "      <td>2</td>\n",
              "      <td>1</td>\n",
              "      <td>0</td>\n",
              "      <td>0</td>\n",
              "      <td>1</td>\n",
              "      <td>4.330733</td>\n",
              "      <td>1.0</td>\n",
              "    </tr>\n",
              "  </tbody>\n",
              "</table>\n",
              "</div>"
            ],
            "text/plain": [
              "   deposit_type  lead_time  ...       adr  hotel_type\n",
              "0             0   5.837730  ...  0.000000         1.0\n",
              "1             0   6.398595  ...  0.000000         1.0\n",
              "2             0   2.079442  ...  4.330733         1.0\n",
              "\n",
              "[3 rows x 13 columns]"
            ]
          },
          "execution_count": 122,
          "metadata": {
            "tags": []
          },
          "output_type": "execute_result"
        }
      ],
      "source": [
        "# TOTAL SET\n",
        "\n",
        "# standarization for 'lead_time\n",
        "col_name = 'lead_time'\n",
        "X[col_name] = np.log(X[col_name]+1)\n",
        "\n",
        "# standarization for 'adr\n",
        "col_name = 'adr'\n",
        "X[col_name] = np.log(X[col_name]+1)\n",
        "X[col_name] = X[col_name].fillna(value=X[col_name].mean())\n",
        "\n",
        "X.head(3)"
      ]
    },
    {
      "cell_type": "code",
      "execution_count": null,
      "metadata": {
        "colab": {
          "base_uri": "https://localhost:8080/",
          "height": 162
        },
        "id": "nzoTQtzDFU0w",
        "outputId": "26b5e132-0c80-46de-da51-168a2f11a7d2"
      },
      "outputs": [
        {
          "data": {
            "text/html": [
              "<div>\n",
              "<style scoped>\n",
              "    .dataframe tbody tr th:only-of-type {\n",
              "        vertical-align: middle;\n",
              "    }\n",
              "\n",
              "    .dataframe tbody tr th {\n",
              "        vertical-align: top;\n",
              "    }\n",
              "\n",
              "    .dataframe thead th {\n",
              "        text-align: right;\n",
              "    }\n",
              "</style>\n",
              "<table border=\"1\" class=\"dataframe\">\n",
              "  <thead>\n",
              "    <tr style=\"text-align: right;\">\n",
              "      <th></th>\n",
              "      <th>deposit_type</th>\n",
              "      <th>lead_time</th>\n",
              "      <th>country</th>\n",
              "      <th>total_of_special_requests</th>\n",
              "      <th>previous_cancellations</th>\n",
              "      <th>required_car_parking_spaces</th>\n",
              "      <th>assigned_room_type</th>\n",
              "      <th>distribution_channel</th>\n",
              "      <th>booking_changes</th>\n",
              "      <th>previous_bookings_not_canceled</th>\n",
              "      <th>reservation_status_date_year</th>\n",
              "      <th>adr</th>\n",
              "      <th>hotel_type</th>\n",
              "    </tr>\n",
              "  </thead>\n",
              "  <tbody>\n",
              "    <tr>\n",
              "      <th>0</th>\n",
              "      <td>0</td>\n",
              "      <td>1.922456</td>\n",
              "      <td>58</td>\n",
              "      <td>0</td>\n",
              "      <td>0</td>\n",
              "      <td>0</td>\n",
              "      <td>0</td>\n",
              "      <td>3</td>\n",
              "      <td>0</td>\n",
              "      <td>0</td>\n",
              "      <td>2</td>\n",
              "      <td>0.000000</td>\n",
              "      <td>0.0</td>\n",
              "    </tr>\n",
              "    <tr>\n",
              "      <th>1</th>\n",
              "      <td>0</td>\n",
              "      <td>2.001290</td>\n",
              "      <td>128</td>\n",
              "      <td>0</td>\n",
              "      <td>0</td>\n",
              "      <td>0</td>\n",
              "      <td>3</td>\n",
              "      <td>1</td>\n",
              "      <td>0</td>\n",
              "      <td>0</td>\n",
              "      <td>2</td>\n",
              "      <td>0.000000</td>\n",
              "      <td>1.0</td>\n",
              "    </tr>\n",
              "    <tr>\n",
              "      <th>2</th>\n",
              "      <td>0</td>\n",
              "      <td>1.124748</td>\n",
              "      <td>50</td>\n",
              "      <td>2</td>\n",
              "      <td>0</td>\n",
              "      <td>0</td>\n",
              "      <td>5</td>\n",
              "      <td>3</td>\n",
              "      <td>2</td>\n",
              "      <td>0</td>\n",
              "      <td>1</td>\n",
              "      <td>1.673489</td>\n",
              "      <td>1.0</td>\n",
              "    </tr>\n",
              "  </tbody>\n",
              "</table>\n",
              "</div>"
            ],
            "text/plain": [
              "   deposit_type  lead_time  ...       adr  hotel_type\n",
              "0             0   1.922456  ...  0.000000         0.0\n",
              "1             0   2.001290  ...  0.000000         1.0\n",
              "2             0   1.124748  ...  1.673489         1.0\n",
              "\n",
              "[3 rows x 13 columns]"
            ]
          },
          "execution_count": 123,
          "metadata": {
            "tags": []
          },
          "output_type": "execute_result"
        }
      ],
      "source": [
        "# TRAINING SET\n",
        "\n",
        "# standarization for 'lead_time\n",
        "col_name = 'lead_time'\n",
        "X_train[col_name] = np.log(X[col_name]+1)\n",
        "\n",
        "# standarization for 'adr\n",
        "col_name = 'adr'\n",
        "X_train[col_name] = np.log(X[col_name]+1)\n",
        "X_train[col_name] = X_train[col_name].fillna(value=X_train[col_name].mean())\n",
        "\n",
        "X_train.head(3)"
      ]
    },
    {
      "cell_type": "code",
      "execution_count": null,
      "metadata": {
        "colab": {
          "base_uri": "https://localhost:8080/",
          "height": 162
        },
        "id": "LBCZThu3GbcZ",
        "outputId": "840146ea-5916-4aae-faca-e0afa5d9ab0b"
      },
      "outputs": [
        {
          "data": {
            "text/html": [
              "<div>\n",
              "<style scoped>\n",
              "    .dataframe tbody tr th:only-of-type {\n",
              "        vertical-align: middle;\n",
              "    }\n",
              "\n",
              "    .dataframe tbody tr th {\n",
              "        vertical-align: top;\n",
              "    }\n",
              "\n",
              "    .dataframe thead th {\n",
              "        text-align: right;\n",
              "    }\n",
              "</style>\n",
              "<table border=\"1\" class=\"dataframe\">\n",
              "  <thead>\n",
              "    <tr style=\"text-align: right;\">\n",
              "      <th></th>\n",
              "      <th>deposit_type</th>\n",
              "      <th>lead_time</th>\n",
              "      <th>country</th>\n",
              "      <th>total_of_special_requests</th>\n",
              "      <th>previous_cancellations</th>\n",
              "      <th>required_car_parking_spaces</th>\n",
              "      <th>assigned_room_type</th>\n",
              "      <th>distribution_channel</th>\n",
              "      <th>booking_changes</th>\n",
              "      <th>previous_bookings_not_canceled</th>\n",
              "      <th>reservation_status_date_year</th>\n",
              "      <th>adr</th>\n",
              "      <th>hotel_type</th>\n",
              "    </tr>\n",
              "  </thead>\n",
              "  <tbody>\n",
              "    <tr>\n",
              "      <th>0</th>\n",
              "      <td>0</td>\n",
              "      <td>1.922456</td>\n",
              "      <td>54</td>\n",
              "      <td>0</td>\n",
              "      <td>0</td>\n",
              "      <td>0</td>\n",
              "      <td>0</td>\n",
              "      <td>3</td>\n",
              "      <td>0</td>\n",
              "      <td>0</td>\n",
              "      <td>2</td>\n",
              "      <td>0.000000</td>\n",
              "      <td>0.0</td>\n",
              "    </tr>\n",
              "    <tr>\n",
              "      <th>1</th>\n",
              "      <td>0</td>\n",
              "      <td>2.001290</td>\n",
              "      <td>135</td>\n",
              "      <td>0</td>\n",
              "      <td>0</td>\n",
              "      <td>0</td>\n",
              "      <td>0</td>\n",
              "      <td>3</td>\n",
              "      <td>0</td>\n",
              "      <td>0</td>\n",
              "      <td>3</td>\n",
              "      <td>0.000000</td>\n",
              "      <td>0.0</td>\n",
              "    </tr>\n",
              "    <tr>\n",
              "      <th>2</th>\n",
              "      <td>0</td>\n",
              "      <td>1.124748</td>\n",
              "      <td>41</td>\n",
              "      <td>1</td>\n",
              "      <td>0</td>\n",
              "      <td>0</td>\n",
              "      <td>0</td>\n",
              "      <td>3</td>\n",
              "      <td>0</td>\n",
              "      <td>0</td>\n",
              "      <td>2</td>\n",
              "      <td>1.673489</td>\n",
              "      <td>0.0</td>\n",
              "    </tr>\n",
              "  </tbody>\n",
              "</table>\n",
              "</div>"
            ],
            "text/plain": [
              "   deposit_type  lead_time  ...       adr  hotel_type\n",
              "0             0   1.922456  ...  0.000000         0.0\n",
              "1             0   2.001290  ...  0.000000         0.0\n",
              "2             0   1.124748  ...  1.673489         0.0\n",
              "\n",
              "[3 rows x 13 columns]"
            ]
          },
          "execution_count": 124,
          "metadata": {
            "tags": []
          },
          "output_type": "execute_result"
        }
      ],
      "source": [
        "# VALIDATION SET\n",
        "\n",
        "# standarization for 'lead_time\n",
        "col_name = 'lead_time'\n",
        "X_test[col_name] = np.log(X[col_name]+1)\n",
        "\n",
        "# standarization for 'adr\n",
        "col_name = 'adr'\n",
        "X_test[col_name] = np.log(X[col_name]+1)\n",
        "X_test[col_name] = X_test[col_name].fillna(value=X_test[col_name].mean())\n",
        "\n",
        "X_test.head(3)"
      ]
    },
    {
      "cell_type": "markdown",
      "metadata": {
        "id": "BvcLQtpVOUUU"
      },
      "source": [
        "We now proceed to perform the predictions with three models. We calculate both the cross-validation score as well as additional metrics to compare model performance."
      ]
    },
    {
      "cell_type": "markdown",
      "metadata": {
        "id": "Mv7JEmLkHJP3"
      },
      "source": [
        "## Predictive Model (Logistic Regression)"
      ]
    },
    {
      "cell_type": "code",
      "execution_count": null,
      "metadata": {
        "colab": {
          "base_uri": "https://localhost:8080/"
        },
        "id": "MEaKVccVHLDh",
        "outputId": "fea57d88-c7ac-4e1e-d3ea-f16f91a4f226"
      },
      "outputs": [
        {
          "name": "stdout",
          "output_type": "stream",
          "text": [
            "MATRIX DE CONFUSION\n",
            "[[22320   194]\n",
            " [ 8228  5021]]\n",
            "PRECISIÓN\n",
            "0.7645\n",
            "MÉTRICA F1\n",
            "0.5439\n"
          ]
        }
      ],
      "source": [
        "# define and train model\n",
        "lgr = LogisticRegression()\n",
        "lgr.fit(X_train, y_train)\n",
        "\n",
        "# predict with model\n",
        "lgr_pred = lgr.predict(X_test)\n",
        "\n",
        "# confusion matrix\n",
        "conf_matrix = confusion_matrix(y_test, lgr_pred)\n",
        "print('CONFUSION MATRIX')\n",
        "print(conf_matrix)\n",
        "\n",
        "# validation metrics\n",
        "accuracy = accuracy_score(y_test, lgr_pred)\n",
        "print('ACCURACY')\n",
        "print(round(accuracy,4))\n",
        "\n",
        "f1 = f1_score(y_test, lgr_pred)\n",
        "print('F1 SCORE')\n",
        "print(round(f1,4))"
      ]
    },
    {
      "cell_type": "code",
      "execution_count": null,
      "metadata": {
        "colab": {
          "base_uri": "https://localhost:8080/"
        },
        "id": "iRcnmU90LhgV",
        "outputId": "02449b1e-89a5-41f1-a297-2e1d3b8ecd88"
      },
      "outputs": [
        {
          "name": "stdout",
          "output_type": "stream",
          "text": [
            "PUNTAJE DE VALIDACIÓN CRUZADA (K-FOLD = 4)\n",
            "0.7695\n"
          ]
        }
      ],
      "source": [
        "val_score = cross_val_score(lgr, X_train, y_train, cv=4)\n",
        "print('CROSS-VALIDATION SCORE (K-FOLD = 4)')\n",
        "print(round(np.mean(val_score),4))"
      ]
    },
    {
      "cell_type": "markdown",
      "metadata": {
        "id": "vQP3HABLHPZe"
      },
      "source": [
        "## Predictive Model (XG Boost)"
      ]
    },
    {
      "cell_type": "code",
      "execution_count": null,
      "metadata": {
        "colab": {
          "base_uri": "https://localhost:8080/"
        },
        "id": "spVAFmY5HSqA",
        "outputId": "58efdaed-08a2-4754-bbe9-6510a467041e"
      },
      "outputs": [
        {
          "name": "stdout",
          "output_type": "stream",
          "text": [
            "MATRIX DE CONFUSION\n",
            "[[21762   752]\n",
            " [ 7459  5790]]\n",
            "PRECISIÓN\n",
            "0.7704\n",
            "MÉTRICA F1\n",
            "0.5851\n"
          ]
        }
      ],
      "source": [
        "# define and train model\n",
        "xgb = XGBClassifier()\n",
        "xgb.fit(X_train, y_train)\n",
        "\n",
        "# predict with model\n",
        "xgb_pred = xgb.predict(X_test)\n",
        "\n",
        "# confusion matrix\n",
        "conf_matrix = confusion_matrix(y_test, xgb_pred)\n",
        "print('CONFUSION MATRIX')\n",
        "print(conf_matrix)\n",
        "\n",
        "# validation metrics\n",
        "accuracy = accuracy_score(y_test, xgb_pred)\n",
        "print('ACCURACY')\n",
        "print(round(accuracy,4))\n",
        "\n",
        "f1 = f1_score(y_test, xgb_pred)\n",
        "print('F1 SCORE')\n",
        "print(round(f1,4))"
      ]
    },
    {
      "cell_type": "code",
      "execution_count": null,
      "metadata": {
        "colab": {
          "base_uri": "https://localhost:8080/"
        },
        "id": "r7hM7QdnOt7M",
        "outputId": "524dae15-86f0-44d0-c87a-4f80efb97042"
      },
      "outputs": [
        {
          "name": "stdout",
          "output_type": "stream",
          "text": [
            "PUNTAJE DE VALIDACIÓN CRUZADA (K-FOLD = 4)\n",
            "0.7974\n"
          ]
        }
      ],
      "source": [
        "val_score = cross_val_score(xgb, X_train, y_train, cv=4)\n",
        "print('CROSS-VALIDATION SCORE (K-FOLD = 4)')\n",
        "print(round(np.mean(val_score),4))"
      ]
    },
    {
      "cell_type": "markdown",
      "metadata": {
        "id": "6Xn_HmTmHUD9"
      },
      "source": [
        "## Predictive Model (neural networks)"
      ]
    },
    {
      "cell_type": "code",
      "execution_count": null,
      "metadata": {
        "id": "mYxuS02gUc7w"
      },
      "outputs": [],
      "source": [
        "# define metrics for NN\n",
        "\n",
        "def recall_m(y_true, y_pred):\n",
        "    true_positives = K.sum(K.round(K.clip(y_true * y_pred, 0, 1)))\n",
        "    possible_positives = K.sum(K.round(K.clip(y_true, 0, 1)))\n",
        "    recall = true_positives / (possible_positives + K.epsilon())\n",
        "    return recall\n",
        "\n",
        "def precision_m(y_true, y_pred):\n",
        "    true_positives = K.sum(K.round(K.clip(y_true * y_pred, 0, 1)))\n",
        "    predicted_positives = K.sum(K.round(K.clip(y_pred, 0, 1)))\n",
        "    precision = true_positives / (predicted_positives + K.epsilon())\n",
        "    return precision\n",
        "\n",
        "def f1_m(y_true, y_pred):\n",
        "    precision = precision_m(y_true, y_pred)\n",
        "    recall = recall_m(y_true, y_pred)\n",
        "    return 2*((precision*recall)/(precision+recall+K.epsilon()))"
      ]
    },
    {
      "cell_type": "code",
      "execution_count": null,
      "metadata": {
        "colab": {
          "base_uri": "https://localhost:8080/"
        },
        "id": "Y2CeQQIEHWSZ",
        "outputId": "895e2397-e8a5-493a-d8c2-0768e018b38a"
      },
      "outputs": [
        {
          "name": "stdout",
          "output_type": "stream",
          "text": [
            "Epoch 1/10\n",
            "2608/2608 [==============================] - 11s 4ms/step - loss: 0.5533 - precision_m: 0.7267 - recall_m: 0.7302 - f1_m: 0.7249 - val_loss: 0.4758 - val_precision_m: 0.7671 - val_recall_m: 0.7645 - val_f1_m: 0.7658\n",
            "Epoch 2/10\n",
            "2608/2608 [==============================] - 10s 4ms/step - loss: 0.4678 - precision_m: 0.7673 - recall_m: 0.7647 - f1_m: 0.7641 - val_loss: 0.4599 - val_precision_m: 0.7684 - val_recall_m: 0.7658 - val_f1_m: 0.7671\n",
            "Epoch 3/10\n",
            "2608/2608 [==============================] - 10s 4ms/step - loss: 0.4531 - precision_m: 0.7745 - recall_m: 0.7724 - f1_m: 0.7732 - val_loss: 0.4593 - val_precision_m: 0.7675 - val_recall_m: 0.7673 - val_f1_m: 0.7674\n",
            "Epoch 4/10\n",
            "2608/2608 [==============================] - 10s 4ms/step - loss: 0.4433 - precision_m: 0.7751 - recall_m: 0.7749 - f1_m: 0.7749 - val_loss: 0.4477 - val_precision_m: 0.7774 - val_recall_m: 0.7814 - val_f1_m: 0.7794\n",
            "Epoch 5/10\n",
            "2608/2608 [==============================] - 10s 4ms/step - loss: 0.4331 - precision_m: 0.7810 - recall_m: 0.7815 - f1_m: 0.7812 - val_loss: 0.4398 - val_precision_m: 0.7762 - val_recall_m: 0.7720 - val_f1_m: 0.7741\n",
            "Epoch 6/10\n",
            "2608/2608 [==============================] - 10s 4ms/step - loss: 0.4338 - precision_m: 0.7813 - recall_m: 0.7792 - f1_m: 0.7802 - val_loss: 0.4384 - val_precision_m: 0.7751 - val_recall_m: 0.7718 - val_f1_m: 0.7735\n",
            "Epoch 7/10\n",
            "2608/2608 [==============================] - 10s 4ms/step - loss: 0.4334 - precision_m: 0.7797 - recall_m: 0.7786 - f1_m: 0.7791 - val_loss: 0.4332 - val_precision_m: 0.7823 - val_recall_m: 0.7752 - val_f1_m: 0.7787\n",
            "Epoch 8/10\n",
            "2608/2608 [==============================] - 10s 4ms/step - loss: 0.4259 - precision_m: 0.7838 - recall_m: 0.7840 - f1_m: 0.7839 - val_loss: 0.4309 - val_precision_m: 0.7852 - val_recall_m: 0.7859 - val_f1_m: 0.7855\n",
            "Epoch 9/10\n",
            "2608/2608 [==============================] - 10s 4ms/step - loss: 0.4254 - precision_m: 0.7836 - recall_m: 0.7848 - f1_m: 0.7841 - val_loss: 0.4327 - val_precision_m: 0.7826 - val_recall_m: 0.7826 - val_f1_m: 0.7826\n",
            "Epoch 10/10\n",
            "2608/2608 [==============================] - 10s 4ms/step - loss: 0.4231 - precision_m: 0.7866 - recall_m: 0.7884 - f1_m: 0.7875 - val_loss: 0.4455 - val_precision_m: 0.7816 - val_recall_m: 0.7827 - val_f1_m: 0.7821\n"
          ]
        }
      ],
      "source": [
        "# define target for binary classifcation\n",
        "y_train = to_categorical(y_train)\n",
        "y_test = to_categorical(y_test)\n",
        "\n",
        "# define DNN model\n",
        "model = Sequential()\n",
        "model.add(Dense(50, activation='relu', input_shape=(X_train.shape[1],)))\n",
        "model.add(Dense(100, activation='relu'))\n",
        "model.add(Dense(2, activation='sigmoid'))\n",
        "\n",
        "# compile neural network\n",
        "model.compile(optimizer='adam', loss='binary_crossentropy', metrics=[precision_m, recall_m, f1_m])\n",
        "\n",
        "# train model\n",
        "history = model.fit(X_train, y_train, validation_data=(X_test, y_test), epochs=10)"
      ]
    },
    {
      "cell_type": "code",
      "execution_count": null,
      "metadata": {
        "colab": {
          "base_uri": "https://localhost:8080/"
        },
        "id": "isWX3gAdWXoA",
        "outputId": "80ef6b2a-2d10-4bb2-f76f-a4627e1e9dd1"
      },
      "outputs": [
        {
          "name": "stdout",
          "output_type": "stream",
          "text": [
            "PRECISIÓN\n",
            "0.7857\n",
            "MÉTRICA F1\n",
            "0.7864\n"
          ]
        }
      ],
      "source": [
        "# validation metrics\n",
        "accuracy = history.history['precision_m'][-1]\n",
        "print('ACCURACY')\n",
        "print(round(accuracy,4))\n",
        "\n",
        "f1 = history.history['f1_m'][-1]\n",
        "print('F1 SCORE')\n",
        "print(round(f1,4))"
      ]
    },
    {
      "cell_type": "code",
      "execution_count": null,
      "metadata": {
        "colab": {
          "base_uri": "https://localhost:8080/"
        },
        "id": "eGNF4CqoPDw5",
        "outputId": "4a31cc15-7a12-4a73-bd97-b82a73fd7f6d"
      },
      "outputs": [
        {
          "name": "stdout",
          "output_type": "stream",
          "text": [
            "K-fold:  0\n",
            "Epoch 1/10\n",
            "2794/2794 [==============================] - 11s 4ms/step - loss: 0.3855 - precision_m: 0.8106 - recall_m: 0.8104 - f1_m: 0.8105 - val_loss: 1.4284 - val_precision_m: 0.6904 - val_recall_m: 0.6908 - val_f1_m: 0.6906\n",
            "Epoch 2/10\n",
            "2794/2794 [==============================] - 10s 4ms/step - loss: 0.3696 - precision_m: 0.8191 - recall_m: 0.8183 - f1_m: 0.8187 - val_loss: 1.8888 - val_precision_m: 0.6864 - val_recall_m: 0.6861 - val_f1_m: 0.6862\n",
            "Epoch 3/10\n",
            "2794/2794 [==============================] - 9s 3ms/step - loss: 0.3651 - precision_m: 0.8219 - recall_m: 0.8219 - f1_m: 0.8219 - val_loss: 1.7196 - val_precision_m: 0.6835 - val_recall_m: 0.6830 - val_f1_m: 0.6832\n",
            "Epoch 4/10\n",
            "2794/2794 [==============================] - 10s 4ms/step - loss: 0.3624 - precision_m: 0.8227 - recall_m: 0.8222 - f1_m: 0.8224 - val_loss: 2.3139 - val_precision_m: 0.6811 - val_recall_m: 0.6810 - val_f1_m: 0.6810\n",
            "Epoch 5/10\n",
            "2794/2794 [==============================] - 10s 3ms/step - loss: 0.3589 - precision_m: 0.8256 - recall_m: 0.8258 - f1_m: 0.8256 - val_loss: 2.4044 - val_precision_m: 0.6584 - val_recall_m: 0.6584 - val_f1_m: 0.6584\n",
            "Epoch 6/10\n",
            "2794/2794 [==============================] - 9s 3ms/step - loss: 0.3581 - precision_m: 0.8255 - recall_m: 0.8252 - f1_m: 0.8253 - val_loss: 2.6114 - val_precision_m: 0.6511 - val_recall_m: 0.6509 - val_f1_m: 0.6509\n",
            "Epoch 7/10\n",
            "2794/2794 [==============================] - 9s 3ms/step - loss: 0.3564 - precision_m: 0.8266 - recall_m: 0.8264 - f1_m: 0.8265 - val_loss: 2.3959 - val_precision_m: 0.6618 - val_recall_m: 0.6618 - val_f1_m: 0.6618\n",
            "Epoch 8/10\n",
            "2794/2794 [==============================] - 10s 4ms/step - loss: 0.3549 - precision_m: 0.8270 - recall_m: 0.8266 - f1_m: 0.8268 - val_loss: 2.7711 - val_precision_m: 0.6589 - val_recall_m: 0.6575 - val_f1_m: 0.6580\n",
            "Epoch 9/10\n",
            "2794/2794 [==============================] - 10s 4ms/step - loss: 0.3539 - precision_m: 0.8280 - recall_m: 0.8279 - f1_m: 0.8279 - val_loss: 2.1761 - val_precision_m: 0.6620 - val_recall_m: 0.6621 - val_f1_m: 0.6621\n",
            "Epoch 10/10\n",
            "2794/2794 [==============================] - 10s 4ms/step - loss: 0.3527 - precision_m: 0.8283 - recall_m: 0.8282 - f1_m: 0.8283 - val_loss: 2.2719 - val_precision_m: 0.6593 - val_recall_m: 0.6593 - val_f1_m: 0.6593\n",
            "K-fold:  1\n",
            "Epoch 1/10\n",
            "2794/2794 [==============================] - 9s 3ms/step - loss: 0.3568 - precision_m: 0.8407 - recall_m: 0.8404 - f1_m: 0.8405 - val_loss: 0.9720 - val_precision_m: 0.5222 - val_recall_m: 0.5220 - val_f1_m: 0.5221\n",
            "Epoch 2/10\n",
            "2794/2794 [==============================] - 9s 3ms/step - loss: 0.3389 - precision_m: 0.8483 - recall_m: 0.8486 - f1_m: 0.8485 - val_loss: 0.9364 - val_precision_m: 0.5497 - val_recall_m: 0.5500 - val_f1_m: 0.5498\n",
            "Epoch 3/10\n",
            "2794/2794 [==============================] - 9s 3ms/step - loss: 0.3348 - precision_m: 0.8506 - recall_m: 0.8507 - f1_m: 0.8507 - val_loss: 1.0560 - val_precision_m: 0.5211 - val_recall_m: 0.5212 - val_f1_m: 0.5212\n",
            "Epoch 4/10\n",
            "2794/2794 [==============================] - 10s 3ms/step - loss: 0.3323 - precision_m: 0.8514 - recall_m: 0.8514 - f1_m: 0.8514 - val_loss: 1.0019 - val_precision_m: 0.5391 - val_recall_m: 0.5375 - val_f1_m: 0.5381\n",
            "Epoch 5/10\n",
            "2794/2794 [==============================] - 9s 3ms/step - loss: 0.3299 - precision_m: 0.8522 - recall_m: 0.8523 - f1_m: 0.8522 - val_loss: 1.1463 - val_precision_m: 0.4995 - val_recall_m: 0.4994 - val_f1_m: 0.4995\n",
            "Epoch 6/10\n",
            "2794/2794 [==============================] - 10s 3ms/step - loss: 0.3285 - precision_m: 0.8526 - recall_m: 0.8526 - f1_m: 0.8526 - val_loss: 1.1294 - val_precision_m: 0.5191 - val_recall_m: 0.5191 - val_f1_m: 0.5191\n",
            "Epoch 7/10\n",
            "2794/2794 [==============================] - 10s 3ms/step - loss: 0.3264 - precision_m: 0.8535 - recall_m: 0.8534 - f1_m: 0.8535 - val_loss: 1.0534 - val_precision_m: 0.5189 - val_recall_m: 0.5186 - val_f1_m: 0.5187\n",
            "Epoch 8/10\n",
            "2794/2794 [==============================] - 9s 3ms/step - loss: 0.3248 - precision_m: 0.8544 - recall_m: 0.8544 - f1_m: 0.8544 - val_loss: 1.1163 - val_precision_m: 0.5259 - val_recall_m: 0.5261 - val_f1_m: 0.5260\n",
            "Epoch 9/10\n",
            "2794/2794 [==============================] - 10s 4ms/step - loss: 0.3247 - precision_m: 0.8541 - recall_m: 0.8541 - f1_m: 0.8541 - val_loss: 1.3129 - val_precision_m: 0.5009 - val_recall_m: 0.5009 - val_f1_m: 0.5009\n",
            "Epoch 10/10\n",
            "2794/2794 [==============================] - 9s 3ms/step - loss: 0.3234 - precision_m: 0.8557 - recall_m: 0.8556 - f1_m: 0.8556 - val_loss: 1.2666 - val_precision_m: 0.4878 - val_recall_m: 0.4878 - val_f1_m: 0.4878\n",
            "K-fold:  2\n",
            "Epoch 1/10\n",
            "2794/2794 [==============================] - 9s 3ms/step - loss: 0.3318 - precision_m: 0.8460 - recall_m: 0.8460 - f1_m: 0.8460 - val_loss: 1.2912 - val_precision_m: 0.6753 - val_recall_m: 0.6753 - val_f1_m: 0.6753\n",
            "Epoch 2/10\n",
            "2794/2794 [==============================] - 9s 3ms/step - loss: 0.3181 - precision_m: 0.8517 - recall_m: 0.8516 - f1_m: 0.8517 - val_loss: 1.6260 - val_precision_m: 0.6805 - val_recall_m: 0.6807 - val_f1_m: 0.6806\n",
            "Epoch 3/10\n",
            "2794/2794 [==============================] - 9s 3ms/step - loss: 0.3144 - precision_m: 0.8529 - recall_m: 0.8528 - f1_m: 0.8528 - val_loss: 1.8196 - val_precision_m: 0.6566 - val_recall_m: 0.6566 - val_f1_m: 0.6566\n",
            "Epoch 4/10\n",
            "2794/2794 [==============================] - 9s 3ms/step - loss: 0.3115 - precision_m: 0.8533 - recall_m: 0.8533 - f1_m: 0.8533 - val_loss: 1.4658 - val_precision_m: 0.6742 - val_recall_m: 0.6742 - val_f1_m: 0.6742\n",
            "Epoch 5/10\n",
            "2794/2794 [==============================] - 10s 4ms/step - loss: 0.3099 - precision_m: 0.8551 - recall_m: 0.8552 - f1_m: 0.8552 - val_loss: 1.7771 - val_precision_m: 0.6756 - val_recall_m: 0.6755 - val_f1_m: 0.6755\n",
            "Epoch 6/10\n",
            "2794/2794 [==============================] - 9s 3ms/step - loss: 0.3080 - precision_m: 0.8557 - recall_m: 0.8557 - f1_m: 0.8557 - val_loss: 1.8069 - val_precision_m: 0.6723 - val_recall_m: 0.6722 - val_f1_m: 0.6722\n",
            "Epoch 7/10\n",
            "2794/2794 [==============================] - 10s 4ms/step - loss: 0.3068 - precision_m: 0.8563 - recall_m: 0.8562 - f1_m: 0.8562 - val_loss: 1.9257 - val_precision_m: 0.6766 - val_recall_m: 0.6766 - val_f1_m: 0.6766\n",
            "Epoch 8/10\n",
            "2794/2794 [==============================] - 9s 3ms/step - loss: 0.3074 - precision_m: 0.8554 - recall_m: 0.8553 - f1_m: 0.8554 - val_loss: 1.8341 - val_precision_m: 0.6736 - val_recall_m: 0.6737 - val_f1_m: 0.6737\n",
            "Epoch 9/10\n",
            "2794/2794 [==============================] - 9s 3ms/step - loss: 0.3065 - precision_m: 0.8564 - recall_m: 0.8563 - f1_m: 0.8564 - val_loss: 1.6506 - val_precision_m: 0.6739 - val_recall_m: 0.6740 - val_f1_m: 0.6739\n",
            "Epoch 10/10\n",
            "2794/2794 [==============================] - 9s 3ms/step - loss: 0.3043 - precision_m: 0.8566 - recall_m: 0.8566 - f1_m: 0.8566 - val_loss: 1.8049 - val_precision_m: 0.6708 - val_recall_m: 0.6707 - val_f1_m: 0.6708\n",
            "K-fold:  3\n",
            "Epoch 1/10\n",
            "2794/2794 [==============================] - 10s 4ms/step - loss: 0.3298 - precision_m: 0.8419 - recall_m: 0.8419 - f1_m: 0.8419 - val_loss: 1.8066 - val_precision_m: 0.2400 - val_recall_m: 0.2399 - val_f1_m: 0.2399\n",
            "Epoch 2/10\n",
            "2794/2794 [==============================] - 10s 4ms/step - loss: 0.3129 - precision_m: 0.8504 - recall_m: 0.8504 - f1_m: 0.8504 - val_loss: 1.8216 - val_precision_m: 0.2468 - val_recall_m: 0.2467 - val_f1_m: 0.2468\n",
            "Epoch 3/10\n",
            "2794/2794 [==============================] - 9s 3ms/step - loss: 0.3088 - precision_m: 0.8514 - recall_m: 0.8514 - f1_m: 0.8514 - val_loss: 2.1203 - val_precision_m: 0.2550 - val_recall_m: 0.2550 - val_f1_m: 0.2550\n",
            "Epoch 4/10\n",
            "2794/2794 [==============================] - 10s 4ms/step - loss: 0.3071 - precision_m: 0.8523 - recall_m: 0.8523 - f1_m: 0.8523 - val_loss: 2.4591 - val_precision_m: 0.2366 - val_recall_m: 0.2366 - val_f1_m: 0.2366\n",
            "Epoch 5/10\n",
            "2794/2794 [==============================] - 10s 4ms/step - loss: 0.3055 - precision_m: 0.8532 - recall_m: 0.8531 - f1_m: 0.8532 - val_loss: 2.5001 - val_precision_m: 0.2389 - val_recall_m: 0.2389 - val_f1_m: 0.2389\n",
            "Epoch 6/10\n",
            "2794/2794 [==============================] - 10s 3ms/step - loss: 0.3017 - precision_m: 0.8556 - recall_m: 0.8556 - f1_m: 0.8556 - val_loss: 3.0069 - val_precision_m: 0.2701 - val_recall_m: 0.2701 - val_f1_m: 0.2701\n",
            "Epoch 7/10\n",
            "2794/2794 [==============================] - 10s 4ms/step - loss: 0.3009 - precision_m: 0.8560 - recall_m: 0.8560 - f1_m: 0.8560 - val_loss: 3.0680 - val_precision_m: 0.2124 - val_recall_m: 0.2124 - val_f1_m: 0.2124\n",
            "Epoch 8/10\n",
            "2794/2794 [==============================] - 9s 3ms/step - loss: 0.2999 - precision_m: 0.8559 - recall_m: 0.8560 - f1_m: 0.8560 - val_loss: 2.4282 - val_precision_m: 0.3361 - val_recall_m: 0.3361 - val_f1_m: 0.3361\n",
            "Epoch 9/10\n",
            "2794/2794 [==============================] - 10s 4ms/step - loss: 0.2981 - precision_m: 0.8568 - recall_m: 0.8568 - f1_m: 0.8568 - val_loss: 3.1418 - val_precision_m: 0.2607 - val_recall_m: 0.2607 - val_f1_m: 0.2607\n",
            "Epoch 10/10\n",
            "2794/2794 [==============================] - 9s 3ms/step - loss: 0.2974 - precision_m: 0.8580 - recall_m: 0.8580 - f1_m: 0.8580 - val_loss: 4.0756 - val_precision_m: 0.1984 - val_recall_m: 0.1984 - val_f1_m: 0.1984\n"
          ]
        }
      ],
      "source": [
        "# define target as binary classifcation\n",
        "y = to_categorical(y)\n",
        "\n",
        "# perform cross-validation\n",
        "k = 4\n",
        "num_val_samples = len(X) // k\n",
        "num_epochs = 10\n",
        "all_scores = []\n",
        "\n",
        "for i in range(k):\n",
        "  print('K-fold: ', i)\n",
        "\n",
        "  # generate validation set\n",
        "  val_data = X[i * num_val_samples: (i + 1) * num_val_samples]\n",
        "  val_targets = y[i * num_val_samples: (i + 1) * num_val_samples]\n",
        "\n",
        "  # generate training set\n",
        "  train_data = np.concatenate(\n",
        "        [X[:i * num_val_samples],\n",
        "         X[(i + 1) * num_val_samples:]],\n",
        "        axis=0)\n",
        "  train_targets = np.concatenate(\n",
        "        [y[:i * num_val_samples],\n",
        "         y[(i + 1) * num_val_samples:]],\n",
        "        axis=0)\n",
        "\n",
        "  # train model\n",
        "  history = model.fit(train_data, train_targets, validation_data=(val_data, val_targets), epochs=num_epochs)\n",
        "\n",
        "  # save validation emtrics history\n",
        "  all_scores.append(history.history['precision_m'][-1])"
      ]
    },
    {
      "cell_type": "code",
      "execution_count": null,
      "metadata": {
        "colab": {
          "base_uri": "https://localhost:8080/"
        },
        "id": "t_v75TYdVd1D",
        "outputId": "248e89f8-9c1e-4436-fd10-f7ddbe6b0797"
      },
      "outputs": [
        {
          "name": "stdout",
          "output_type": "stream",
          "text": [
            "PUNTAJE DE VALIDACIÓN CRUZADA (K-FOLD = 4)\n",
            "0.8497\n"
          ]
        }
      ],
      "source": [
        "# cross-validation metric\n",
        "val_score = np.mean(all_scores)\n",
        "print('CROSS VALIDATION SCORE (K-FOLD = 4)')\n",
        "print(round(val_score,4))"
      ]
    },
    {
      "cell_type": "markdown",
      "metadata": {
        "id": "FQCu2r4wXnME"
      },
      "source": [
        "## Conclusion\n",
        "\n",
        "Of the three models implemented, we see that we obtain the best cross-validation metrics for the densely connected neural network (~85%). Obviously the disadvantage of this model lies in the extensive training time and computational capacity for training the layers. However, if a faster model is desired, the XGBoost Classifier could be applied, as it had a validation metric close to 80%. Several tests indicate that it is possible to increase the performance of this model with another parameter selection, parameter transformation, or even with the construction of a deeper neural network that can take all the parameters of the original dataset."
      ]
    }
  ],
  "metadata": {
    "accelerator": "GPU",
    "colab": {
      "provenance": []
    },
    "kernelspec": {
      "display_name": "Python 3 (ipykernel)",
      "language": "python",
      "name": "python3"
    },
    "language_info": {
      "codemirror_mode": {
        "name": "ipython",
        "version": 3
      },
      "file_extension": ".py",
      "mimetype": "text/x-python",
      "name": "python",
      "nbconvert_exporter": "python",
      "pygments_lexer": "ipython3",
      "version": "3.11.4"
    }
  },
  "nbformat": 4,
  "nbformat_minor": 0
}